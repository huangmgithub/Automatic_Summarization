{
 "cells": [
  {
   "cell_type": "markdown",
   "metadata": {},
   "source": [
    "## Auto Summarization\n",
    "Main Reference: \n",
    "1. TextRank: https://web.eecs.umich.edu/~mihalcea/papers/mihalcea.emnlp04.pdf\n",
    "2. SentenceEmbedding: \n",
    "3. InformationRetrievalAndTextMining: "
   ]
  },
  {
   "cell_type": "code",
   "execution_count": 1,
   "metadata": {},
   "outputs": [
    {
     "name": "stderr",
     "output_type": "stream",
     "text": [
      "/anaconda3/envs/ibm/lib/python3.6/importlib/_bootstrap.py:219: RuntimeWarning: numpy.dtype size changed, may indicate binary incompatibility. Expected 96, got 88\n",
      "  return f(*args, **kwds)\n",
      "/anaconda3/envs/ibm/lib/python3.6/importlib/_bootstrap.py:219: RuntimeWarning: numpy.dtype size changed, may indicate binary incompatibility. Expected 96, got 88\n",
      "  return f(*args, **kwds)\n"
     ]
    }
   ],
   "source": [
    "import pandas as pd"
   ]
  },
  {
   "cell_type": "code",
   "execution_count": 2,
   "metadata": {},
   "outputs": [],
   "source": [
    "import numpy as np\n",
    "import jieba"
   ]
  },
  {
   "cell_type": "code",
   "execution_count": null,
   "metadata": {},
   "outputs": [],
   "source": [
    "def cut(string): return ' '.join(jieba.cut(string))"
   ]
  },
  {
   "cell_type": "code",
   "execution_count": 3,
   "metadata": {},
   "outputs": [],
   "source": [
    "news_file = 'sqlResult_1558435.csv'"
   ]
  },
  {
   "cell_type": "code",
   "execution_count": 10,
   "metadata": {},
   "outputs": [],
   "source": [
    "news_content = pd.read_csv(news_file, encoding='gb18030')"
   ]
  },
  {
   "cell_type": "code",
   "execution_count": 11,
   "metadata": {},
   "outputs": [
    {
     "data": {
      "text/html": [
       "<div>\n",
       "<style scoped>\n",
       "    .dataframe tbody tr th:only-of-type {\n",
       "        vertical-align: middle;\n",
       "    }\n",
       "\n",
       "    .dataframe tbody tr th {\n",
       "        vertical-align: top;\n",
       "    }\n",
       "\n",
       "    .dataframe thead th {\n",
       "        text-align: right;\n",
       "    }\n",
       "</style>\n",
       "<table border=\"1\" class=\"dataframe\">\n",
       "  <thead>\n",
       "    <tr style=\"text-align: right;\">\n",
       "      <th></th>\n",
       "      <th>id</th>\n",
       "      <th>author</th>\n",
       "      <th>source</th>\n",
       "      <th>content</th>\n",
       "      <th>feature</th>\n",
       "      <th>title</th>\n",
       "      <th>url</th>\n",
       "    </tr>\n",
       "  </thead>\n",
       "  <tbody>\n",
       "    <tr>\n",
       "      <th>0</th>\n",
       "      <td>89617</td>\n",
       "      <td>NaN</td>\n",
       "      <td>快科技@http://www.kkj.cn/</td>\n",
       "      <td>此外，自本周（6月12日）起，除小米手机6等15款机型外，其余机型已暂停更新发布（含开发版/...</td>\n",
       "      <td>{\"type\":\"科技\",\"site\":\"cnbeta\",\"commentNum\":\"37\"...</td>\n",
       "      <td>小米MIUI 9首批机型曝光：共计15款</td>\n",
       "      <td>http://www.cnbeta.com/articles/tech/623597.htm</td>\n",
       "    </tr>\n",
       "    <tr>\n",
       "      <th>1</th>\n",
       "      <td>89616</td>\n",
       "      <td>NaN</td>\n",
       "      <td>快科技@http://www.kkj.cn/</td>\n",
       "      <td>骁龙835作为唯一通过Windows 10桌面平台认证的ARM处理器，高通强调，不会因为只考...</td>\n",
       "      <td>{\"type\":\"科技\",\"site\":\"cnbeta\",\"commentNum\":\"15\"...</td>\n",
       "      <td>骁龙835在Windows 10上的性能表现有望改善</td>\n",
       "      <td>http://www.cnbeta.com/articles/tech/623599.htm</td>\n",
       "    </tr>\n",
       "    <tr>\n",
       "      <th>2</th>\n",
       "      <td>89615</td>\n",
       "      <td>NaN</td>\n",
       "      <td>快科技@http://www.kkj.cn/</td>\n",
       "      <td>此前的一加3T搭载的是3400mAh电池，DashCharge快充规格为5V/4A。\\r\\n...</td>\n",
       "      <td>{\"type\":\"科技\",\"site\":\"cnbeta\",\"commentNum\":\"18\"...</td>\n",
       "      <td>一加手机5细节曝光：3300mAh、充半小时用1天</td>\n",
       "      <td>http://www.cnbeta.com/articles/tech/623601.htm</td>\n",
       "    </tr>\n",
       "    <tr>\n",
       "      <th>3</th>\n",
       "      <td>89614</td>\n",
       "      <td>NaN</td>\n",
       "      <td>新华社</td>\n",
       "      <td>这是6月18日在葡萄牙中部大佩德罗冈地区拍摄的被森林大火烧毁的汽车。新华社记者张立云摄\\r\\n</td>\n",
       "      <td>{\"type\":\"国际新闻\",\"site\":\"环球\",\"commentNum\":\"0\",\"j...</td>\n",
       "      <td>葡森林火灾造成至少62人死亡 政府宣布进入紧急状态（组图）</td>\n",
       "      <td>http://world.huanqiu.com/hot/2017-06/10866126....</td>\n",
       "    </tr>\n",
       "    <tr>\n",
       "      <th>4</th>\n",
       "      <td>89613</td>\n",
       "      <td>胡淑丽_MN7479</td>\n",
       "      <td>深圳大件事</td>\n",
       "      <td>（原标题：44岁女子跑深圳约会网友被拒，暴雨中裸身奔走……）\\r\\n@深圳交警微博称：昨日清...</td>\n",
       "      <td>{\"type\":\"新闻\",\"site\":\"网易热门\",\"commentNum\":\"978\",...</td>\n",
       "      <td>44岁女子约网友被拒暴雨中裸奔 交警为其披衣相随</td>\n",
       "      <td>http://news.163.com/17/0618/00/CN617P3Q0001875...</td>\n",
       "    </tr>\n",
       "  </tbody>\n",
       "</table>\n",
       "</div>"
      ],
      "text/plain": [
       "      id      author                  source  \\\n",
       "0  89617         NaN  快科技@http://www.kkj.cn/   \n",
       "1  89616         NaN  快科技@http://www.kkj.cn/   \n",
       "2  89615         NaN  快科技@http://www.kkj.cn/   \n",
       "3  89614         NaN                     新华社   \n",
       "4  89613  胡淑丽_MN7479                   深圳大件事   \n",
       "\n",
       "                                             content  \\\n",
       "0  此外，自本周（6月12日）起，除小米手机6等15款机型外，其余机型已暂停更新发布（含开发版/...   \n",
       "1  骁龙835作为唯一通过Windows 10桌面平台认证的ARM处理器，高通强调，不会因为只考...   \n",
       "2  此前的一加3T搭载的是3400mAh电池，DashCharge快充规格为5V/4A。\\r\\n...   \n",
       "3    这是6月18日在葡萄牙中部大佩德罗冈地区拍摄的被森林大火烧毁的汽车。新华社记者张立云摄\\r\\n   \n",
       "4  （原标题：44岁女子跑深圳约会网友被拒，暴雨中裸身奔走……）\\r\\n@深圳交警微博称：昨日清...   \n",
       "\n",
       "                                             feature  \\\n",
       "0  {\"type\":\"科技\",\"site\":\"cnbeta\",\"commentNum\":\"37\"...   \n",
       "1  {\"type\":\"科技\",\"site\":\"cnbeta\",\"commentNum\":\"15\"...   \n",
       "2  {\"type\":\"科技\",\"site\":\"cnbeta\",\"commentNum\":\"18\"...   \n",
       "3  {\"type\":\"国际新闻\",\"site\":\"环球\",\"commentNum\":\"0\",\"j...   \n",
       "4  {\"type\":\"新闻\",\"site\":\"网易热门\",\"commentNum\":\"978\",...   \n",
       "\n",
       "                           title  \\\n",
       "0           小米MIUI 9首批机型曝光：共计15款   \n",
       "1     骁龙835在Windows 10上的性能表现有望改善   \n",
       "2      一加手机5细节曝光：3300mAh、充半小时用1天   \n",
       "3  葡森林火灾造成至少62人死亡 政府宣布进入紧急状态（组图）   \n",
       "4       44岁女子约网友被拒暴雨中裸奔 交警为其披衣相随   \n",
       "\n",
       "                                                 url  \n",
       "0     http://www.cnbeta.com/articles/tech/623597.htm  \n",
       "1     http://www.cnbeta.com/articles/tech/623599.htm  \n",
       "2     http://www.cnbeta.com/articles/tech/623601.htm  \n",
       "3  http://world.huanqiu.com/hot/2017-06/10866126....  \n",
       "4  http://news.163.com/17/0618/00/CN617P3Q0001875...  "
      ]
     },
     "execution_count": 11,
     "metadata": {},
     "output_type": "execute_result"
    }
   ],
   "source": [
    "news_content.head()"
   ]
  },
  {
   "cell_type": "code",
   "execution_count": 16,
   "metadata": {},
   "outputs": [],
   "source": [
    "pure_content = pd.DataFrame()"
   ]
  },
  {
   "cell_type": "code",
   "execution_count": 17,
   "metadata": {},
   "outputs": [],
   "source": [
    "pure_content['content'] = news_content['content']"
   ]
  },
  {
   "cell_type": "code",
   "execution_count": 21,
   "metadata": {},
   "outputs": [],
   "source": [
    "pure_content = pure_content.fillna('')"
   ]
  },
  {
   "cell_type": "code",
   "execution_count": 29,
   "metadata": {},
   "outputs": [],
   "source": [
    "pure_content['tokenized_content'] = pure_content['content'].apply(cut)"
   ]
  },
  {
   "cell_type": "code",
   "execution_count": 44,
   "metadata": {},
   "outputs": [
    {
     "data": {
      "text/html": [
       "<div>\n",
       "<style scoped>\n",
       "    .dataframe tbody tr th:only-of-type {\n",
       "        vertical-align: middle;\n",
       "    }\n",
       "\n",
       "    .dataframe tbody tr th {\n",
       "        vertical-align: top;\n",
       "    }\n",
       "\n",
       "    .dataframe thead th {\n",
       "        text-align: right;\n",
       "    }\n",
       "</style>\n",
       "<table border=\"1\" class=\"dataframe\">\n",
       "  <thead>\n",
       "    <tr style=\"text-align: right;\">\n",
       "      <th></th>\n",
       "      <th>content</th>\n",
       "      <th>tokenized_content</th>\n",
       "    </tr>\n",
       "  </thead>\n",
       "  <tbody>\n",
       "    <tr>\n",
       "      <th>0</th>\n",
       "      <td>此外，自本周（6月12日）起，除小米手机6等15款机型外，其余机型已暂停更新发布（含开发版/...</td>\n",
       "      <td>此外 ， 自 本周 （ 6 月 12 日 ） 起 ， 除 小米 手机 6 等 15 款 机型...</td>\n",
       "    </tr>\n",
       "    <tr>\n",
       "      <th>1</th>\n",
       "      <td>骁龙835作为唯一通过Windows 10桌面平台认证的ARM处理器，高通强调，不会因为只考...</td>\n",
       "      <td>骁龙 835 作为 唯一 通过 Windows   10 桌面 平台 认证 的 ARM 处理...</td>\n",
       "    </tr>\n",
       "    <tr>\n",
       "      <th>2</th>\n",
       "      <td>此前的一加3T搭载的是3400mAh电池，DashCharge快充规格为5V/4A。\\r\\n...</td>\n",
       "      <td>此前 的 一加 3T 搭载 的 是 3400mAh 电池 ， DashCharge 快充 规...</td>\n",
       "    </tr>\n",
       "    <tr>\n",
       "      <th>3</th>\n",
       "      <td>这是6月18日在葡萄牙中部大佩德罗冈地区拍摄的被森林大火烧毁的汽车。新华社记者张立云摄\\r\\n</td>\n",
       "      <td>这是 6 月 18 日 在 葡萄牙 中部 大 佩德罗 冈 地区 拍摄 的 被 森林 大火 烧...</td>\n",
       "    </tr>\n",
       "    <tr>\n",
       "      <th>4</th>\n",
       "      <td>（原标题：44岁女子跑深圳约会网友被拒，暴雨中裸身奔走……）\\r\\n@深圳交警微博称：昨日清...</td>\n",
       "      <td>（ 原 标题 ： 44 岁 女子 跑 深圳 约会 网友 被 拒 ， 暴雨 中 裸身 奔走 …...</td>\n",
       "    </tr>\n",
       "  </tbody>\n",
       "</table>\n",
       "</div>"
      ],
      "text/plain": [
       "                                             content  \\\n",
       "0  此外，自本周（6月12日）起，除小米手机6等15款机型外，其余机型已暂停更新发布（含开发版/...   \n",
       "1  骁龙835作为唯一通过Windows 10桌面平台认证的ARM处理器，高通强调，不会因为只考...   \n",
       "2  此前的一加3T搭载的是3400mAh电池，DashCharge快充规格为5V/4A。\\r\\n...   \n",
       "3    这是6月18日在葡萄牙中部大佩德罗冈地区拍摄的被森林大火烧毁的汽车。新华社记者张立云摄\\r\\n   \n",
       "4  （原标题：44岁女子跑深圳约会网友被拒，暴雨中裸身奔走……）\\r\\n@深圳交警微博称：昨日清...   \n",
       "\n",
       "                                   tokenized_content  \n",
       "0  此外 ， 自 本周 （ 6 月 12 日 ） 起 ， 除 小米 手机 6 等 15 款 机型...  \n",
       "1  骁龙 835 作为 唯一 通过 Windows   10 桌面 平台 认证 的 ARM 处理...  \n",
       "2  此前 的 一加 3T 搭载 的 是 3400mAh 电池 ， DashCharge 快充 规...  \n",
       "3  这是 6 月 18 日 在 葡萄牙 中部 大 佩德罗 冈 地区 拍摄 的 被 森林 大火 烧...  \n",
       "4  （ 原 标题 ： 44 岁 女子 跑 深圳 约会 网友 被 拒 ， 暴雨 中 裸身 奔走 …...  "
      ]
     },
     "execution_count": 44,
     "metadata": {},
     "output_type": "execute_result"
    }
   ],
   "source": [
    "pure_content.head()"
   ]
  },
  {
   "cell_type": "markdown",
   "metadata": {},
   "source": [
    "## Train the word vector"
   ]
  },
  {
   "cell_type": "code",
   "execution_count": 32,
   "metadata": {},
   "outputs": [],
   "source": [
    "from gensim.models import FastText"
   ]
  },
  {
   "cell_type": "code",
   "execution_count": 45,
   "metadata": {},
   "outputs": [],
   "source": [
    "with open('all_corpus.txt', 'w', encoding='utf-8') as f:\n",
    "    f.write(' '.join(pure_content['tokenized_content'].tolist()))"
   ]
  },
  {
   "cell_type": "code",
   "execution_count": 35,
   "metadata": {},
   "outputs": [],
   "source": [
    "from gensim.models.word2vec import LineSentence"
   ]
  },
  {
   "cell_type": "code",
   "execution_count": 36,
   "metadata": {},
   "outputs": [],
   "source": [
    "model = FastText(LineSentence('all_corpus.txt'), window=5, size=35, iter=10, min_count=1)"
   ]
  },
  {
   "cell_type": "code",
   "execution_count": 195,
   "metadata": {},
   "outputs": [],
   "source": [
    "from functools import reduce"
   ]
  },
  {
   "cell_type": "code",
   "execution_count": null,
   "metadata": {},
   "outputs": [],
   "source": [
    "pure_content['tok,,'].tolist() \n",
    "[[''], [''], [''], [''], [''], [''], [''], ['']]"
   ]
  },
  {
   "cell_type": "code",
   "execution_count": null,
   "metadata": {},
   "outputs": [],
   "source": [
    "reduce(lambda a, b: a + b, pure_content['tokenized_content'].tolist()).split()"
   ]
  },
  {
   "cell_type": "code",
   "execution_count": 198,
   "metadata": {},
   "outputs": [],
   "source": [
    "tokeners = [t for l in pure_content['tokenized_content'].tolist() for t in l.split()]"
   ]
  },
  {
   "cell_type": "code",
   "execution_count": 199,
   "metadata": {},
   "outputs": [
    {
     "data": {
      "text/plain": [
       "['此外', '，', '自', '本周', '（', '6', '月', '12', '日', '）']"
      ]
     },
     "execution_count": 199,
     "metadata": {},
     "output_type": "execute_result"
    }
   ],
   "source": [
    "tokeners[:10]"
   ]
  },
  {
   "cell_type": "markdown",
   "metadata": {},
   "source": [
    "## Counts the words occurence "
   ]
  },
  {
   "cell_type": "code",
   "execution_count": 200,
   "metadata": {},
   "outputs": [],
   "source": [
    "from collections import Counter"
   ]
  },
  {
   "cell_type": "code",
   "execution_count": 201,
   "metadata": {},
   "outputs": [],
   "source": [
    "tokener_counter = Counter(tokeners)"
   ]
  },
  {
   "cell_type": "code",
   "execution_count": 205,
   "metadata": {},
   "outputs": [],
   "source": [
    "frequence = {w: count/len(tokeners) for w, count in tokener_counter.items()}"
   ]
  },
  {
   "cell_type": "code",
   "execution_count": 209,
   "metadata": {},
   "outputs": [],
   "source": [
    "occurences_frequences = sorted(list(frequence.values()), reverse=True)"
   ]
  },
  {
   "cell_type": "code",
   "execution_count": 210,
   "metadata": {},
   "outputs": [],
   "source": [
    "X = range(len(occurences_frequences))"
   ]
  },
  {
   "cell_type": "code",
   "execution_count": 212,
   "metadata": {},
   "outputs": [],
   "source": [
    "import matplotlib.pyplot as plt"
   ]
  },
  {
   "cell_type": "code",
   "execution_count": 215,
   "metadata": {},
   "outputs": [
    {
     "data": {
      "text/plain": [
       "[<matplotlib.lines.Line2D at 0x1322193c8>]"
      ]
     },
     "execution_count": 215,
     "metadata": {},
     "output_type": "execute_result"
    },
    {
     "name": "stderr",
     "output_type": "stream",
     "text": [
      "/anaconda3/envs/ibm/lib/python3.6/site-packages/matplotlib/font_manager.py:1328: UserWarning: findfont: Font family ['/Users/mqgao/Downloads/SourceHanSerifSC-Regular.otf'] not found. Falling back to DejaVu Sans\n",
      "  (prop.get_family(), self.defaultFamily[fontext]))\n"
     ]
    },
    {
     "data": {
      "image/png": "[encoded data removed]",
      "text/plain": [
       "<Figure size 432x288 with 1 Axes>"
      ]
     },
     "metadata": {},
     "output_type": "display_data"
    }
   ],
   "source": [
    "plt.plot(X[:50], occurences_frequences[:50])"
   ]
  },
  {
   "cell_type": "code",
   "execution_count": 43,
   "metadata": {},
   "outputs": [
    {
     "data": {
      "text/plain": [
       "Counter({'此': 33626,\n",
       "         '外': 131119,\n",
       "         ' ': 22994303,\n",
       "         '，': 1360799,\n",
       "         '自': 63122,\n",
       "         '本': 53481,\n",
       "         '周': 25145,\n",
       "         '（': 212529,\n",
       "         '6': 97092,\n",
       "         '月': 205888,\n",
       "         '1': 318823,\n",
       "         '2': 275952,\n",
       "         '日': 278379,\n",
       "         '）': 212782,\n",
       "         '起': 33322,\n",
       "         '除': 9959,\n",
       "         '小': 51778,\n",
       "         '米': 21697,\n",
       "         '手': 52263,\n",
       "         '机': 65294,\n",
       "         '等': 65840,\n",
       "         '5': 139557,\n",
       "         '款': 10820,\n",
       "         '型': 18257,\n",
       "         '其': 43675,\n",
       "         '余': 11292,\n",
       "         '已': 39217,\n",
       "         '暂': 2975,\n",
       "         '停': 7879,\n",
       "         '更': 32969,\n",
       "         '新': 272577,\n",
       "         '发': 144500,\n",
       "         '布': 38003,\n",
       "         '含': 3394,\n",
       "         '开': 88713,\n",
       "         '版': 6059,\n",
       "         '/': 33916,\n",
       "         '体': 89027,\n",
       "         '验': 16007,\n",
       "         '内': 55577,\n",
       "         '测': 10007,\n",
       "         '稳': 9068,\n",
       "         '定': 46305,\n",
       "         '不': 125980,\n",
       "         '受': 30189,\n",
       "         '影': 32483,\n",
       "         '响': 12528,\n",
       "         '以': 102150,\n",
       "         '确': 15469,\n",
       "         '保': 44264,\n",
       "         '工': 77783,\n",
       "         '程': 28967,\n",
       "         '师': 18739,\n",
       "         '可': 49642,\n",
       "         '集': 24404,\n",
       "         '中': 280076,\n",
       "         '全': 88651,\n",
       "         '部': 78994,\n",
       "         '精': 14930,\n",
       "         '力': 60323,\n",
       "         '进': 88523,\n",
       "         '行': 137683,\n",
       "         '系': 36449,\n",
       "         '统': 38829,\n",
       "         '优': 16057,\n",
       "         '化': 64405,\n",
       "         '作': 102091,\n",
       "         '。': 636522,\n",
       "         '有': 144978,\n",
       "         '人': 198466,\n",
       "         '猜': 439,\n",
       "         '这': 92182,\n",
       "         '也': 49389,\n",
       "         '是': 158493,\n",
       "         '将': 71078,\n",
       "         '主': 67385,\n",
       "         '要': 80169,\n",
       "         '用': 63684,\n",
       "         '到': 82450,\n",
       "         'M': 5581,\n",
       "         'I': 9653,\n",
       "         'U': 2126,\n",
       "         '9': 54909,\n",
       "         '的': 713561,\n",
       "         '研': 28687,\n",
       "         '之': 48620,\n",
       "         '\\r': 94098,\n",
       "         '\\n': 94388,\n",
       "         '8': 55320,\n",
       "         '去': 25533,\n",
       "         '年': 221905,\n",
       "         '距': 3737,\n",
       "         '今': 29716,\n",
       "         '一': 287295,\n",
       "         '时': 103642,\n",
       "         '候': 9617,\n",
       "         '换': 5861,\n",
       "         '代': 112166,\n",
       "         '了': 139942,\n",
       "         '当': 71881,\n",
       "         '然': 23643,\n",
       "         '关': 58426,\n",
       "         '于': 72657,\n",
       "         '切': 11383,\n",
       "         '信': 32998,\n",
       "         '息': 20369,\n",
       "         '我': 55082,\n",
       "         '们': 54185,\n",
       "         '还': 35973,\n",
       "         '待': 7233,\n",
       "         '官': 10953,\n",
       "         '方': 79436,\n",
       "         '消': 16841,\n",
       "         '骁': 249,\n",
       "         '龙': 19712,\n",
       "         '3': 102841,\n",
       "         '为': 141563,\n",
       "         '唯': 1900,\n",
       "         '通': 55915,\n",
       "         '过': 61809,\n",
       "         'W': 1567,\n",
       "         'i': 8929,\n",
       "         'n': 678457,\n",
       "         'd': 3382,\n",
       "         'o': 9806,\n",
       "         'w': 1825,\n",
       "         's': 5809,\n",
       "         '0': 268186,\n",
       "         '桌': 1098,\n",
       "         '面': 51623,\n",
       "         '平': 53294,\n",
       "         '台': 38334,\n",
       "         '认': 22808,\n",
       "         '证': 19798,\n",
       "         'A': 17402,\n",
       "         'R': 2629,\n",
       "         '处': 25483,\n",
       "         '理': 55145,\n",
       "         '器': 13649,\n",
       "         '高': 71760,\n",
       "         '强': 39032,\n",
       "         '调': 28635,\n",
       "         '会': 123619,\n",
       "         '因': 26708,\n",
       "         '只': 18060,\n",
       "         '考': 19017,\n",
       "         '虑': 3188,\n",
       "         '性': 33447,\n",
       "         '能': 73153,\n",
       "         '而': 34498,\n",
       "         '屏': 1408,\n",
       "         '蔽': 220,\n",
       "         '掉': 1888,\n",
       "         '核': 11624,\n",
       "         '心': 43569,\n",
       "         '相': 37663,\n",
       "         '反': 15270,\n",
       "         '他': 60014,\n",
       "         '正': 34420,\n",
       "         '联': 65344,\n",
       "         '微': 8886,\n",
       "         '软': 3347,\n",
       "         '找': 5501,\n",
       "         '种': 28906,\n",
       "         '适': 5706,\n",
       "         '合': 80592,\n",
       "         '、': 296644,\n",
       "         '兼': 2257,\n",
       "         '顾': 4303,\n",
       "         '和': 147115,\n",
       "         '功': 12763,\n",
       "         '耗': 1281,\n",
       "         '完': 36684,\n",
       "         '美': 71913,\n",
       "         '案': 20720,\n",
       "         '报': 41379,\n",
       "         '道': 39527,\n",
       "         '称': 16972,\n",
       "         '经': 75984,\n",
       "         '拿': 7588,\n",
       "         '些': 24295,\n",
       "         '源': 20833,\n",
       "         '码': 4305,\n",
       "         '便': 9169,\n",
       "         '好': 37765,\n",
       "         '地': 107688,\n",
       "         '解': 26095,\n",
       "         'b': 1699,\n",
       "         'g': 2715,\n",
       "         '.': 39820,\n",
       "         'l': 4806,\n",
       "         't': 7208,\n",
       "         'e': 11837,\n",
       "         '架': 5994,\n",
       "         '构': 19167,\n",
       "         '资': 55685,\n",
       "         '料': 9616,\n",
       "         '显': 18265,\n",
       "         '示': 44524,\n",
       "         '成': 100335,\n",
       "         'C': 11190,\n",
       "         'P': 9435,\n",
       "         'G': 3435,\n",
       "         '基': 42267,\n",
       "         '带': 39666,\n",
       "         '蓝': 3472,\n",
       "         '牙': 8642,\n",
       "         '-': 18797,\n",
       "         'F': 3338,\n",
       "         'S': 6143,\n",
       "         '比': 90066,\n",
       "         '传': 25120,\n",
       "         '节': 30470,\n",
       "         '省': 36146,\n",
       "         '至': 31956,\n",
       "         '少': 20769,\n",
       "         '%': 21051,\n",
       "         'B': 10060,\n",
       "         '空': 23692,\n",
       "         '间': 40981,\n",
       "         '按': 8322,\n",
       "         '计': 37729,\n",
       "         '划': 16983,\n",
       "         'Q': 701,\n",
       "         '4': 125823,\n",
       "         '华': 175322,\n",
       "         '硕': 976,\n",
       "         '惠': 5548,\n",
       "         '普': 22879,\n",
       "         '想': 15162,\n",
       "         '首': 39531,\n",
       "         '电': 64150,\n",
       "         '脑': 3520,\n",
       "         '预': 18297,\n",
       "         '均': 10540,\n",
       "         '二': 88158,\n",
       "         '形': 15730,\n",
       "         '态': 16535,\n",
       "         '产': 65820,\n",
       "         '品': 47132,\n",
       "         '个': 93876,\n",
       "         '始': 15083,\n",
       "         '未': 20018,\n",
       "         '来': 95755,\n",
       "         '许': 10467,\n",
       "         '见': 14711,\n",
       "         '三': 39604,\n",
       "         '星': 13585,\n",
       "         'E': 3324,\n",
       "         'x': 1267,\n",
       "         'y': 1818,\n",
       "         '科': 47828,\n",
       "         '麒': 153,\n",
       "         '麟': 448,\n",
       "         '澎': 317,\n",
       "         '湃': 278,\n",
       "         '入': 46225,\n",
       "         '前': 72681,\n",
       "         '加': 67983,\n",
       "         'T': 4617,\n",
       "         '搭': 3068,\n",
       "         '载': 7023,\n",
       "         'm': 3972,\n",
       "         'h': 4615,\n",
       "         '池': 2268,\n",
       "         'D': 3631,\n",
       "         'a': 11039,\n",
       "         'r': 7160,\n",
       "         '快': 17466,\n",
       "         '充': 7062,\n",
       "         '规': 30956,\n",
       "         '格': 29668,\n",
       "         'V': 1701,\n",
       "         '缩': 2911,\n",
       "         '水': 39902,\n",
       "         '与': 70298,\n",
       "         '刘': 10969,\n",
       "         '虎': 2394,\n",
       "         '所': 32206,\n",
       "         '说': 56933,\n",
       "         '做': 17816,\n",
       "         '市': 96112,\n",
       "         '最': 45276,\n",
       "         '轻': 7406,\n",
       "         '薄': 1054,\n",
       "         '大': 182608,\n",
       "         '旗': 3267,\n",
       "         '舰': 2979,\n",
       "         '设': 48738,\n",
       "         '照': 62543,\n",
       "         '目': 51833,\n",
       "         '掌': 2646,\n",
       "         '握': 3006,\n",
       "         '拥': 4364,\n",
       "         '寸': 514,\n",
       "         'O': 5336,\n",
       "         'L': 2120,\n",
       "         '双': 17298,\n",
       "         '万': 37176,\n",
       "         '摄': 47867,\n",
       "         '像': 7745,\n",
       "         '头': 20210,\n",
       "         '备': 18182,\n",
       "         '货': 11282,\n",
       "         '量': 33847,\n",
       "         '“': 239982,\n",
       "         '惊': 2364,\n",
       "         '喜': 5031,\n",
       "         '”': 239981,\n",
       "         '根': 13853,\n",
       "         '据': 38890,\n",
       "         '京': 43424,\n",
       "         '东': 40533,\n",
       "         '泄': 1001,\n",
       "         '露': 5243,\n",
       "         '售': 9799,\n",
       "         '价': 26942,\n",
       "         '元': 44634,\n",
       "         '应': 29665,\n",
       "         '该': 18218,\n",
       "         '在': 306813,\n",
       "         '7': 135735,\n",
       "         '某': 8047,\n",
       "         '葡': 2956,\n",
       "         '萄': 2444,\n",
       "         '佩': 3218,\n",
       "         '德': 46290,\n",
       "         '罗': 34120,\n",
       "         '冈': 1040,\n",
       "         '区': 72543,\n",
       "         '拍': 10087,\n",
       "         '被': 29863,\n",
       "         '森': 9157,\n",
       "         '林': 22160,\n",
       "         '火': 12989,\n",
       "         '烧': 1719,\n",
       "         '毁': 1326,\n",
       "         '汽': 8246,\n",
       "         '车': 45020,\n",
       "         '社': 179122,\n",
       "         '记': 78283,\n",
       "         '者': 102702,\n",
       "         '张': 22768,\n",
       "         '立': 30649,\n",
       "         '云': 9415,\n",
       "         '原': 22157,\n",
       "         '标': 31950,\n",
       "         '题': 37097,\n",
       "         '：': 102478,\n",
       "         '岁': 10161,\n",
       "         '女': 24376,\n",
       "         '子': 50908,\n",
       "         '跑': 6544,\n",
       "         '深': 23523,\n",
       "         '圳': 3463,\n",
       "         '约': 27179,\n",
       "         '网': 49881,\n",
       "         '友': 13160,\n",
       "         '拒': 1556,\n",
       "         '暴': 3898,\n",
       "         '雨': 7829,\n",
       "         '裸': 320,\n",
       "         '身': 20746,\n",
       "         '奔': 1744,\n",
       "         '走': 18045,\n",
       "         '…': 12053,\n",
       "         '@': 405,\n",
       "         '交': 44445,\n",
       "         '警': 16206,\n",
       "         '博': 16408,\n",
       "         '昨': 1373,\n",
       "         '清': 16048,\n",
       "         '晨': 3678,\n",
       "         '现': 67811,\n",
       "         '赤': 880,\n",
       "         '上': 132654,\n",
       "         '南': 41830,\n",
       "         '坪': 912,\n",
       "         '速': 15401,\n",
       "         '期': 43884,\n",
       "         '生': 95604,\n",
       "         '辅': 2013,\n",
       "         '后': 68324,\n",
       "         '赶': 2278,\n",
       "         '紧': 8117,\n",
       "         '披': 1487,\n",
       "         '黄': 13860,\n",
       "         '衣': 2503,\n",
       "         '并': 34519,\n",
       "         '路': 60794,\n",
       "         '劝': 652,\n",
       "         '她': 13918,\n",
       "         '那': 13133,\n",
       "         '么': 11218,\n",
       "         '事': 50913,\n",
       "         '底': 10393,\n",
       "         '都': 41015,\n",
       "         '什': 9308,\n",
       "         '呢': 1525,\n",
       "         '？': 13642,\n",
       "         '您': 737,\n",
       "         '场': 79516,\n",
       "         '岗': 3023,\n",
       "         '队': 82589,\n",
       "         '坂': 46,\n",
       "         '田': 7622,\n",
       "         '青': 17573,\n",
       "         '位': 36148,\n",
       "         '表': 55027,\n",
       "         '帅': 2564,\n",
       "         '气': 18438,\n",
       "         '话': 14014,\n",
       "         '略': 8925,\n",
       "         '腼': 55,\n",
       "         '腆': 55,\n",
       "         '介': 12541,\n",
       "         '绍': 9726,\n",
       "         '早': 8263,\n",
       "         '分': 74980,\n",
       "         '环': 24412,\n",
       "         '城': 37600,\n",
       "         '附': 5400,\n",
       "         '近': 36735,\n",
       "         '值': 12681,\n",
       "         '勤': 1410,\n",
       "         '接': 28908,\n",
       "         '动': 89921,\n",
       "         '危': 4637,\n",
       "         '险': 12987,\n",
       "         '情': 26915,\n",
       "         '随': 12714,\n",
       "         '骑': 4173,\n",
       "         '着': 32919,\n",
       "         '铁': 16116,\n",
       "         '沿': 6238,\n",
       "         '寻': 3972,\n",
       "         '概': 2056,\n",
       "         '花': 19968,\n",
       "         '十': 20506,\n",
       "         '多': 84668,\n",
       "         '钟': 6146,\n",
       "         '出': 95566,\n",
       "         '口': 22757,\n",
       "         '往': 11338,\n",
       "         '向': 31220,\n",
       "         '逆': 1746,\n",
       "         '丝': 7765,\n",
       "         '挂': 3222,\n",
       "         '流': 24685,\n",
       "         '坐': 3332,\n",
       "         '躺': 327,\n",
       "         '象': 10962,\n",
       "         '另': 6744,\n",
       "         '名': 50547,\n",
       "         '巡': 5117,\n",
       "         '防': 15805,\n",
       "         '员': 69303,\n",
       "         '追': 5563,\n",
       "         '绪': 1287,\n",
       "         '很': 20253,\n",
       "         '低': 13091,\n",
       "         '落': 15637,\n",
       "         '尝': 1509,\n",
       "         '试': 15115,\n",
       "         '离': 10021,\n",
       "         '愿': 8929,\n",
       "         '意': 35619,\n",
       "         '继': 10650,\n",
       "         '续': 23373,\n",
       "         '缓': 3289,\n",
       "         '慢': 2445,\n",
       "         '干': 13444,\n",
       "         '边': 13644,\n",
       "         '聚': 5587,\n",
       "         '民': 72357,\n",
       "         '围': 10977,\n",
       "         '观': 20073,\n",
       "         '刺': 4208,\n",
       "         '激': 5772,\n",
       "         '盯': 361,\n",
       "         '驱': 2175,\n",
       "         '群': 14310,\n",
       "         '众': 21034,\n",
       "         '从': 41533,\n",
       "         '提': 45973,\n",
       "         '供': 21958,\n",
       "         '份': 13916,\n",
       "         '视': 19607,\n",
       "         '频': 5997,\n",
       "         '雪': 6236,\n",
       "         '监': 16679,\n",
       "         '控': 12000,\n",
       "         '穿': 3924,\n",
       "         '白': 14392,\n",
       "         '色': 18257,\n",
       "         '裤': 431,\n",
       "         '班': 14009,\n",
       "         '峰': 9702,\n",
       "         '字': 12050,\n",
       "         '排': 12593,\n",
       "         '长': 64494,\n",
       "         '纷': 4310,\n",
       "         '驻': 6178,\n",
       "         '足': 36127,\n",
       "         '望': 14077,\n",
       "         '辆': 5474,\n",
       "         '放': 23405,\n",
       "         '度': 47087,\n",
       "         '但': 28400,\n",
       "         '下': 62764,\n",
       "         '脚': 3075,\n",
       "         '步': 22722,\n",
       "         '依': 10737,\n",
       "         '挡': 674,\n",
       "         '住': 12468,\n",
       "         '镜': 2113,\n",
       "         '再': 14231,\n",
       "         '次': 46994,\n",
       "         '没': 20273,\n",
       "         '朝': 7907,\n",
       "         '尾': 1655,\n",
       "         '或': 14946,\n",
       "         '止': 6418,\n",
       "         '看': 25393,\n",
       "         '样': 19590,\n",
       "         '况': 13199,\n",
       "         '恐': 6070,\n",
       "         '怕': 1533,\n",
       "         '家': 100513,\n",
       "         '办': 27192,\n",
       "         '法': 81209,\n",
       "         '淡': 1127,\n",
       "         '对': 97773,\n",
       "         '敢': 1558,\n",
       "         '里': 55821,\n",
       "         '挺': 993,\n",
       "         '别': 18903,\n",
       "         '扭': 581,\n",
       "         '感': 14856,\n",
       "         '觉': 5668,\n",
       "         '尴': 286,\n",
       "         '尬': 293,\n",
       "         '跟': 4464,\n",
       "         '让': 21393,\n",
       "         '举': 44650,\n",
       "         '突': 10460,\n",
       "         '靠': 4377,\n",
       "         '护': 18128,\n",
       "         '栏': 1559,\n",
       "         '跳': 2922,\n",
       "         '忙': 2601,\n",
       "         '冲': 6377,\n",
       "         '拉': 41852,\n",
       "         '制': 47572,\n",
       "         '远': 10716,\n",
       "         '碍': 1936,\n",
       "         '服': 29957,\n",
       "         '递': 2865,\n",
       "         '把': 13983,\n",
       "         '扔': 316,\n",
       "         '沟': 4070,\n",
       "         '耐': 1102,\n",
       "         '导': 26560,\n",
       "         '安': 51131,\n",
       "         '慰': 1250,\n",
       "         '听': 5063,\n",
       "         '断': 12399,\n",
       "         '重': 57943,\n",
       "         '复': 13392,\n",
       "         '句': 1395,\n",
       "         '你': 8315,\n",
       "         '遭': 5049,\n",
       "         '遇': 8377,\n",
       "         '图': 24493,\n",
       "         '挣': 461,\n",
       "         '脱': 7865,\n",
       "         '就': 44830,\n",
       "         '牵': 1346,\n",
       "         '天': 52990,\n",
       "         '连': 14034,\n",
       "         '眼': 6846,\n",
       "         '睛': 592,\n",
       "         '睁': 133,\n",
       "         '瞬': 667,\n",
       "         '透': 11006,\n",
       "         '帮': 7627,\n",
       "         '助': 18523,\n",
       "         '冒': 1083,\n",
       "         '四': 23415,\n",
       "         '吧': 1567,\n",
       "         '回': 26887,\n",
       "         '片': 68028,\n",
       "         '翼': 1692,\n",
       "         '旁': 1548,\n",
       "         '景': 14103,\n",
       "         '派': 6158,\n",
       "         '姑': 789,\n",
       "         '娘': 1398,\n",
       "         '才': 13934,\n",
       "         '姓': 2413,\n",
       "         '陈': 11621,\n",
       "         '湖': 13151,\n",
       "         '北': 59972,\n",
       "         '属': 7552,\n",
       "         '映': 6195,\n",
       "         '神': 10667,\n",
       "         '病': 10887,\n",
       "         '史': 11627,\n",
       "         '老': 21406,\n",
       "         '挫': 388,\n",
       "         '致': 13527,\n",
       "         '异': 3810,\n",
       "         '常': 23842,\n",
       "         '遂': 348,\n",
       "         '念': 9022,\n",
       "         '送': 7364,\n",
       "         '医': 22824,\n",
       "         '院': 35408,\n",
       "         '治': 24805,\n",
       "         '疗': 8880,\n",
       "         '君': 1446,\n",
       "         '希': 14126,\n",
       "         '点': 41022,\n",
       "         '康': 9734,\n",
       "         '实': 62440,\n",
       "         '真': 10783,\n",
       "         '爱': 12029,\n",
       "         '存': 12146,\n",
       "         '龄': 2464,\n",
       "         '限': 14147,\n",
       "         '善': 9933,\n",
       "         '良': 6544,\n",
       "         '暖': 2504,\n",
       "         '男': 15160,\n",
       "         'Z': 437,\n",
       "         'N': 7543,\n",
       "         '弓': 234,\n",
       "         '桦': 92,\n",
       "         '问': 28093,\n",
       "         '哥': 10507,\n",
       "         '票': 10301,\n",
       "         '吗': 1854,\n",
       "         '谅': 292,\n",
       "         '辈': 1127,\n",
       "         '浪': 3207,\n",
       "         '荡': 1537,\n",
       "         '羁': 78,\n",
       "         '萨': 9870,\n",
       "         '摩': 7774,\n",
       "         '耶': 2812,\n",
       "         '嘛': 123,\n",
       "         '己': 14467,\n",
       "         '同': 57783,\n",
       "         '谢': 4604,\n",
       "         '蜀': 165,\n",
       "         '黍': 25,\n",
       "         '聆': 211,\n",
       "         '灵': 2678,\n",
       "         '赞': 3082,\n",
       "         '華': 2,\n",
       "         '盾': 1532,\n",
       "         '察': 11245,\n",
       "         '需': 19398,\n",
       "         '申': 7065,\n",
       "         '援': 5191,\n",
       "         'c': 4252,\n",
       "         '！': 6638,\n",
       "         'J': 719,\n",
       "         '李': 18497,\n",
       "         '赫': 4405,\n",
       "         '海': 60612,\n",
       "         '木': 6777,\n",
       "         '迷': 3786,\n",
       "         '奸': 167,\n",
       "         '号': 17374,\n",
       "         '午': 8758,\n",
       "         '淮': 600,\n",
       "         '涟': 46,\n",
       "         '县': 18750,\n",
       "         '公': 91295,\n",
       "         '局': 31205,\n",
       "         '刑': 3098,\n",
       "         '奇': 11048,\n",
       "         '怪': 588,\n",
       "         '言': 10646,\n",
       "         '语': 7143,\n",
       "         '声': 10305,\n",
       "         '侵': 2671,\n",
       "         '害': 6076,\n",
       "         '几': 11853,\n",
       "         '键': 5129,\n",
       "         '词': 2897,\n",
       "         '令': 6312,\n",
       "         '\\u3000': 408918,\n",
       "         '股': 20842,\n",
       "         '纳': 26371,\n",
       "         '指': 25538,\n",
       "         '数': 39689,\n",
       "         '利': 67605,\n",
       "         '演': 20301,\n",
       "         '马': 46514,\n",
       "         '金': 52262,\n",
       "         '融': 19419,\n",
       "         '盘': 7021,\n",
       "         '仅': 12138,\n",
       "         '板': 8192,\n",
       "         '块': 4511,\n",
       "         '仍': 7844,\n",
       "         '维': 21709,\n",
       "         '红': 11648,\n",
       "         '状': 6105,\n",
       "         '析': 5592,\n",
       "         '士': 24428,\n",
       "         '益': 13385,\n",
       "         '估': 3453,\n",
       "         '获': 22628,\n",
       "         '睐': 433,\n",
       "         '弈': 353,\n",
       "         '风': 22232,\n",
       "         '替': 1730,\n",
       "         '震': 3630,\n",
       "         '延': 5744,\n",
       "         '改': 28927,\n",
       "         '济': 30650,\n",
       "         '悲': 661,\n",
       "         '修': 8831,\n",
       "         '支': 24542,\n",
       "         '撑': 2356,\n",
       "         '逐': 7042,\n",
       "         '九': 4824,\n",
       "         '势': 17100,\n",
       "         '两': 39190,\n",
       "         '幅': 9399,\n",
       "         '级': 43380,\n",
       "         '业': 125430,\n",
       "         '收': 29716,\n",
       "         '银': 15166,\n",
       "         '非': 19685,\n",
       "         '涨': 10346,\n",
       "         '商': 29875,\n",
       "         '达': 32570,\n",
       "         '国': 340445,\n",
       "         '托': 9436,\n",
       "         '及': 38224,\n",
       "         '券': 6173,\n",
       "         '共': 37321,\n",
       "         '招': 5944,\n",
       "         '贵': 7066,\n",
       "         '阳': 13240,\n",
       "         '夏': 7182,\n",
       "         '浦': 2484,\n",
       "         '兴': 10442,\n",
       "         '超': 26806,\n",
       "         '太': 11334,\n",
       "         '居': 10928,\n",
       "         '西': 58840,\n",
       "         '寿': 1046,\n",
       "         '跌': 7360,\n",
       "         '宣': 11246,\n",
       "         '占': 8236,\n",
       "         '团': 24553,\n",
       "         '包': 17117,\n",
       "         '剔': 188,\n",
       "         '互': 16853,\n",
       "         '易': 21229,\n",
       "         '牌': 12992,\n",
       "         '由': 25579,\n",
       "         'H': 2684,\n",
       "         '权': 18302,\n",
       "         '升': 19491,\n",
       "         '泛': 2659,\n",
       "         '费': 19542,\n",
       "         '涵': 1789,\n",
       "         '盖': 5278,\n",
       "         '司': 35598,\n",
       "         '增': 32342,\n",
       "         '半': 13558,\n",
       "         '稀': 917,\n",
       "         '释': 3444,\n",
       "         '尽': 6517,\n",
       "         '管': 33312,\n",
       "         '件': 27489,\n",
       "         '短': 6646,\n",
       "         '振': 3690,\n",
       "         '温': 7706,\n",
       "         '尚': 5108,\n",
       "         '效': 15839,\n",
       "         '独': 7189,\n",
       "         '乐': 16832,\n",
       "         '难': 15897,\n",
       "         '持': 35501,\n",
       "         '变': 18387,\n",
       "         '光': 16183,\n",
       "         '引': 19597,\n",
       "         '热': 14295,\n",
       "         '较': 14654,\n",
       "         '材': 5410,\n",
       "         '明': 39044,\n",
       "         '腾': 2092,\n",
       "         '挪': 1128,\n",
       "         '跷': 78,\n",
       "         '使': 20248,\n",
       "         '得': 50021,\n",
       "         '破': 10307,\n",
       "         '旧': 2958,\n",
       "         '偏': 2289,\n",
       "         '虽': 5074,\n",
       "         '智': 12696,\n",
       "         '无': 27182,\n",
       "         '退': 6264,\n",
       "         '归': 4604,\n",
       "         '登': 8113,\n",
       "         '第': 59215,\n",
       "         '陆': 9140,\n",
       "         '又': 9219,\n",
       "         '怎': 2746,\n",
       "         '秘': 4124,\n",
       "         '悄': 541,\n",
       "         'k': 1440,\n",
       "         '库': 9480,\n",
       "         '配': 9038,\n",
       "         '瞩': 419,\n",
       "         '芯': 899,\n",
       "         '采': 14648,\n",
       "         '艺': 14141,\n",
       "         '八': 7377,\n",
       "         'K': 1420,\n",
       "         'X': 1197,\n",
       "         '销': 10342,\n",
       "         '单': 27329,\n",
       "         '端': 9596,\n",
       "         '签': 7699,\n",
       "         '署': 6321,\n",
       "         '协': 19973,\n",
       "         '议': 29240,\n",
       "         '既': 3301,\n",
       "         '曝': 1041,\n",
       "         '渲': 69,\n",
       "         '染': 4893,\n",
       "         '竞': 10173,\n",
       "         '争': 12143,\n",
       "         '推': 31526,\n",
       "         '球': 103917,\n",
       "         '媒': 16780,\n",
       "         '忠': 2247,\n",
       "         '打': 26321,\n",
       "         '赌': 626,\n",
       "         '座': 6924,\n",
       "         '各': 28699,\n",
       "         '怀': 3556,\n",
       "         '揣': 140,\n",
       "         '沙': 12061,\n",
       "         '漠': 1462,\n",
       "         '雄': 5034,\n",
       "         '鹰': 1280,\n",
       "         '套': 5907,\n",
       "         '牢': 1282,\n",
       "         '筹': 3362,\n",
       "         ',': 12542,\n",
       "         '沪': 1762,\n",
       "         '站': 18434,\n",
       "         '线': 89402,\n",
       "         '黑': 8939,\n",
       "         '鹅': 695,\n",
       "         '拖': 1253,\n",
       "         '累': 4427,\n",
       "         '绝': 4695,\n",
       "         '扬': 3658,\n",
       "         '镳': 33,\n",
       "         '绿': 7227,\n",
       "         '久': 4488,\n",
       "         '策': 15051,\n",
       "         '域': 18458,\n",
       "         '整': 17738,\n",
       "         '压': 6789,\n",
       "         '夯': 294,\n",
       "         '承': 11847,\n",
       "         '告': 19880,\n",
       "         '段': 14224,\n",
       "         '财': 11151,\n",
       "         '闻': 15616,\n",
       "         '央': 10887,\n",
       "         '总': 45664,\n",
       "         '债': 7374,\n",
       "         '境': 20389,\n",
       "         '投': 30226,\n",
       "         '准': 19007,\n",
       "         '务': 52645,\n",
       "         '究': 19277,\n",
       "         '房': 22851,\n",
       "         '《': 36055,\n",
       "         '贷': 5997,\n",
       "         '率': 16433,\n",
       "         '楼': 5508,\n",
       "         '》': 36054,\n",
       "         '污': 5031,\n",
       "         '草': 5744,\n",
       "         '审': 9301,\n",
       "         '五': 15130,\n",
       "         '结': 23579,\n",
       "         '算': 8321,\n",
       "         '展': 80620,\n",
       "         '户': 20792,\n",
       "         '休': 4545,\n",
       "         '眠': 671,\n",
       "         '知': 14914,\n",
       "         '启': 8546,\n",
       "         '账': 3190,\n",
       "         '文': 58174,\n",
       "         '求': 21232,\n",
       "         '六': 6812,\n",
       "         '军': 36948,\n",
       "         '末': 2920,\n",
       "         '额': 8743,\n",
       "         '亿': 19546,\n",
       "         '七': 4837,\n",
       "         '宏': 3146,\n",
       "         '素': 7236,\n",
       "         '鼓': 4001,\n",
       "         '舞': 7389,\n",
       "         '富': 10844,\n",
       "         '际': 49594,\n",
       "         '磊': 1125,\n",
       "         '转': 18095,\n",
       "         '创': 35030,\n",
       "         '；': 25891,\n",
       "         '弱': 2816,\n",
       "         '抛': 723,\n",
       "         '药': 10427,\n",
       "         '造': 29895,\n",
       "         '技': 36699,\n",
       "         '术': 32358,\n",
       "         '临': 8361,\n",
       "         '吐': 1163,\n",
       "         '失': 9380,\n",
       "         '守': 6496,\n",
       "         '留': 8884,\n",
       "         '鸡': 1969,\n",
       "         '毛': 6162,\n",
       "         '每': 19367,\n",
       "         '置': 9541,\n",
       "         '抬': 670,\n",
       "         '即': 9882,\n",
       "         '乏': 1865,\n",
       "         '封': 2730,\n",
       "         '攻': 7113,\n",
       "         '克': 37903,\n",
       "         '却': 5626,\n",
       "         '则': 12008,\n",
       "         '触': 2371,\n",
       "         '疑': 5611,\n",
       "         '负': 13096,\n",
       "         '背': 4881,\n",
       "         '雏': 184,\n",
       "         '旦': 2111,\n",
       "         '味': 4921,\n",
       "         '如': 28248,\n",
       "         '综': 6835,\n",
       "         '脆': 417,\n",
       "         '碎': 739,\n",
       "         '模': 17784,\n",
       "         '糊': 395,\n",
       "         '凌': 2335,\n",
       "         '乱': 2714,\n",
       "         '赚': 741,\n",
       "         '钱': 5117,\n",
       "         '掣': 102,\n",
       "         '肘': 141,\n",
       "         '先': 18898,\n",
       "         '础': 8519,\n",
       "         '弹': 6310,\n",
       "         '积': 16057,\n",
       "         '轮': 20849,\n",
       "         '繁': 3585,\n",
       "         '吃': 4948,\n",
       "         '击': 18136,\n",
       "         '极': 16985,\n",
       "         '似': 3809,\n",
       "         '乎': 3237,\n",
       "         '买': 7573,\n",
       "         '直': 17278,\n",
       "         '吸': 7043,\n",
       "         '莫': 6939,\n",
       "         '齐': 5580,\n",
       "         '闪': 1215,\n",
       "         '崩': 334,\n",
       "         '踩': 286,\n",
       "         '踏': 1411,\n",
       "         '建': 63001,\n",
       "         '终': 11041,\n",
       "         '缺': 4720,\n",
       "         '若': 2524,\n",
       "         '活': 35438,\n",
       "         '跃': 2293,\n",
       "         '战': 43546,\n",
       "         '降': 12594,\n",
       "         '纠': 1471,\n",
       "         '缠': 320,\n",
       "         '促': 8697,\n",
       "         '摸': 1127,\n",
       "         ...})"
      ]
     },
     "execution_count": 43,
     "metadata": {},
     "output_type": "execute_result"
    }
   ],
   "source": [
    "tokener_counter"
   ]
  },
  {
   "cell_type": "markdown",
   "metadata": {},
   "source": [
    "## TextRank"
   ]
  },
  {
   "cell_type": "code",
   "execution_count": 46,
   "metadata": {},
   "outputs": [],
   "source": [
    "import networkx"
   ]
  },
  {
   "cell_type": "code",
   "execution_count": 47,
   "metadata": {},
   "outputs": [],
   "source": [
    "import random"
   ]
  },
  {
   "cell_type": "code",
   "execution_count": 50,
   "metadata": {},
   "outputs": [],
   "source": [
    "def genrate_name(length=3):  return ''.join(chr(random.randint(65, 73)) for _ in range(length))"
   ]
  },
  {
   "cell_type": "code",
   "execution_count": 54,
   "metadata": {},
   "outputs": [
    {
     "data": {
      "text/plain": [
       "'AFB'"
      ]
     },
     "execution_count": 54,
     "metadata": {},
     "output_type": "execute_result"
    }
   ],
   "source": [
    "genrate_name()"
   ]
  },
  {
   "cell_type": "code",
   "execution_count": 55,
   "metadata": {},
   "outputs": [],
   "source": [
    "graph = {\n",
    "    'Yao': ['Guo', 'Wang', 'Tian', 'Tim'] + [genrate_name() for _ in range(6)], \n",
    "    'Guo': ['Li'] + [genrate_name() for _ in range(5)], \n",
    "    'Wang': ['Li_2'] + [genrate_name() for _ in range(5)], \n",
    "    'Li': [genrate_name() for _ in range(3)], \n",
    "    'Li_2': [genrate_name() for _ in range(1)]\n",
    "}"
   ]
  },
  {
   "cell_type": "code",
   "execution_count": 56,
   "metadata": {},
   "outputs": [
    {
     "data": {
      "text/plain": [
       "{'Yao': ['Guo',\n",
       "  'Wang',\n",
       "  'Tian',\n",
       "  'Tim',\n",
       "  'BHD',\n",
       "  'DCC',\n",
       "  'GII',\n",
       "  'EEC',\n",
       "  'CIB',\n",
       "  'ECB'],\n",
       " 'Guo': ['Li', 'EAD', 'DAA', 'EII', 'CID', 'FEA'],\n",
       " 'Wang': ['Li_2', 'IAI', 'DGB', 'AEG', 'ECH', 'CGB'],\n",
       " 'Li': ['GEH', 'CIF', 'DBD'],\n",
       " 'Li_2': ['AEB']}"
      ]
     },
     "execution_count": 56,
     "metadata": {},
     "output_type": "execute_result"
    }
   ],
   "source": [
    "graph"
   ]
  },
  {
   "cell_type": "code",
   "execution_count": 58,
   "metadata": {},
   "outputs": [],
   "source": [
    "social_network = networkx.graph.Graph()"
   ]
  },
  {
   "cell_type": "code",
   "execution_count": 61,
   "metadata": {},
   "outputs": [
    {
     "name": "stdout",
     "output_type": "stream",
     "text": [
      "Help on method add_edges_from in module networkx.classes.graph:\n",
      "\n",
      "add_edges_from(ebunch_to_add, **attr) method of networkx.classes.graph.Graph instance\n",
      "    Add all the edges in ebunch_to_add.\n",
      "    \n",
      "    Parameters\n",
      "    ----------\n",
      "    ebunch_to_add : container of edges\n",
      "        Each edge given in the container will be added to the\n",
      "        graph. The edges must be given as as 2-tuples (u, v) or\n",
      "        3-tuples (u, v, d) where d is a dictionary containing edge data.\n",
      "    attr : keyword arguments, optional\n",
      "        Edge data (or labels or objects) can be assigned using\n",
      "        keyword arguments.\n",
      "    \n",
      "    See Also\n",
      "    --------\n",
      "    add_edge : add a single edge\n",
      "    add_weighted_edges_from : convenient way to add weighted edges\n",
      "    \n",
      "    Notes\n",
      "    -----\n",
      "    Adding the same edge twice has no effect but any edge data\n",
      "    will be updated when each duplicate edge is added.\n",
      "    \n",
      "    Edge attributes specified in an ebunch take precedence over\n",
      "    attributes specified via keyword arguments.\n",
      "    \n",
      "    Examples\n",
      "    --------\n",
      "    >>> G = nx.Graph()   # or DiGraph, MultiGraph, MultiDiGraph, etc\n",
      "    >>> G.add_edges_from([(0, 1), (1, 2)]) # using a list of edge tuples\n",
      "    >>> e = zip(range(0, 3), range(1, 4))\n",
      "    >>> G.add_edges_from(e) # Add the path graph 0-1-2-3\n",
      "    \n",
      "    Associate data to edges\n",
      "    \n",
      "    >>> G.add_edges_from([(1, 2), (2, 3)], weight=3)\n",
      "    >>> G.add_edges_from([(3, 4), (1, 4)], label='WN2898')\n",
      "\n"
     ]
    }
   ],
   "source": [
    "help(social_network.add_edges_from)"
   ]
  },
  {
   "cell_type": "code",
   "execution_count": 62,
   "metadata": {},
   "outputs": [],
   "source": [
    "for vertex, edge in graph.items():\n",
    "    for v in edge:\n",
    "        social_network.add_edges_from([(vertex, v)])"
   ]
  },
  {
   "cell_type": "code",
   "execution_count": 64,
   "metadata": {},
   "outputs": [],
   "source": [
    "%matplotlib inline"
   ]
  },
  {
   "cell_type": "code",
   "execution_count": 65,
   "metadata": {},
   "outputs": [
    {
     "data": {
      "image/png": "[encoded data removed]",
      "text/plain": [
       "<Figure size 432x288 with 1 Axes>"
      ]
     },
     "metadata": {},
     "output_type": "display_data"
    }
   ],
   "source": [
    "networkx.draw_networkx(social_network)"
   ]
  },
  {
   "cell_type": "code",
   "execution_count": 67,
   "metadata": {},
   "outputs": [],
   "source": [
    "ranking_result = networkx.pagerank(social_network)"
   ]
  },
  {
   "cell_type": "code",
   "execution_count": 70,
   "metadata": {},
   "outputs": [
    {
     "data": {
      "text/plain": [
       "[('Yao', 0.1747698412634544),\n",
       " ('Wang', 0.12616099221117885),\n",
       " ('Guo', 0.12434209154337311),\n",
       " ('Li', 0.07600909782512963),\n",
       " ('Li_2', 0.04007465697366682),\n",
       " ('AEB', 0.022586982681035123),\n",
       " ('GEH', 0.021706946858994478),\n",
       " ('CIF', 0.021706946858994478),\n",
       " ('DBD', 0.021706946858994478),\n",
       " ('IAI', 0.020875426652805028),\n",
       " ('DGB', 0.020875426652805028),\n",
       " ('AEG', 0.020875426652805028),\n",
       " ('ECH', 0.020875426652805028),\n",
       " ('CGB', 0.020875426652805028),\n",
       " ('EAD', 0.020654738077342236),\n",
       " ('DAA', 0.020654738077342236),\n",
       " ('EII', 0.020654738077342236),\n",
       " ('CID', 0.020654738077342236),\n",
       " ('FEA', 0.020654738077342236),\n",
       " ('Tian', 0.020410584159305276),\n",
       " ('Tim', 0.020410584159305276),\n",
       " ('BHD', 0.020410584159305276),\n",
       " ('DCC', 0.020410584159305276),\n",
       " ('GII', 0.020410584159305276),\n",
       " ('EEC', 0.020410584159305276),\n",
       " ('CIB', 0.020410584159305276),\n",
       " ('ECB', 0.020410584159305276)]"
      ]
     },
     "execution_count": 70,
     "metadata": {},
     "output_type": "execute_result"
    }
   ],
   "source": [
    "sorted(ranking_result.items(), key=lambda x: x[1], reverse=True)"
   ]
  },
  {
   "cell_type": "code",
   "execution_count": 66,
   "metadata": {},
   "outputs": [
    {
     "data": {
      "text/plain": [
       "{'Yao': 0.1747698412634544,\n",
       " 'Guo': 0.12434209154337311,\n",
       " 'Wang': 0.12616099221117885,\n",
       " 'Tian': 0.020410584159305276,\n",
       " 'Tim': 0.020410584159305276,\n",
       " 'BHD': 0.020410584159305276,\n",
       " 'DCC': 0.020410584159305276,\n",
       " 'GII': 0.020410584159305276,\n",
       " 'EEC': 0.020410584159305276,\n",
       " 'CIB': 0.020410584159305276,\n",
       " 'ECB': 0.020410584159305276,\n",
       " 'Li': 0.07600909782512963,\n",
       " 'EAD': 0.020654738077342236,\n",
       " 'DAA': 0.020654738077342236,\n",
       " 'EII': 0.020654738077342236,\n",
       " 'CID': 0.020654738077342236,\n",
       " 'FEA': 0.020654738077342236,\n",
       " 'Li_2': 0.04007465697366682,\n",
       " 'IAI': 0.020875426652805028,\n",
       " 'DGB': 0.020875426652805028,\n",
       " 'AEG': 0.020875426652805028,\n",
       " 'ECH': 0.020875426652805028,\n",
       " 'CGB': 0.020875426652805028,\n",
       " 'GEH': 0.021706946858994478,\n",
       " 'CIF': 0.021706946858994478,\n",
       " 'DBD': 0.021706946858994478,\n",
       " 'AEB': 0.022586982681035123}"
      ]
     },
     "execution_count": 66,
     "metadata": {},
     "output_type": "execute_result"
    }
   ],
   "source": [
    "networkx.pagerank(social_network)"
   ]
  },
  {
   "cell_type": "markdown",
   "metadata": {},
   "source": [
    "## TextRank Page"
   ]
  },
  {
   "cell_type": "code",
   "execution_count": 71,
   "metadata": {},
   "outputs": [
    {
     "data": {
      "text/html": [
       "<div>\n",
       "<style scoped>\n",
       "    .dataframe tbody tr th:only-of-type {\n",
       "        vertical-align: middle;\n",
       "    }\n",
       "\n",
       "    .dataframe tbody tr th {\n",
       "        vertical-align: top;\n",
       "    }\n",
       "\n",
       "    .dataframe thead th {\n",
       "        text-align: right;\n",
       "    }\n",
       "</style>\n",
       "<table border=\"1\" class=\"dataframe\">\n",
       "  <thead>\n",
       "    <tr style=\"text-align: right;\">\n",
       "      <th></th>\n",
       "      <th>content</th>\n",
       "      <th>tokenized_content</th>\n",
       "    </tr>\n",
       "  </thead>\n",
       "  <tbody>\n",
       "    <tr>\n",
       "      <th>0</th>\n",
       "      <td>此外，自本周（6月12日）起，除小米手机6等15款机型外，其余机型已暂停更新发布（含开发版/...</td>\n",
       "      <td>此外 ， 自 本周 （ 6 月 12 日 ） 起 ， 除 小米 手机 6 等 15 款 机型...</td>\n",
       "    </tr>\n",
       "    <tr>\n",
       "      <th>1</th>\n",
       "      <td>骁龙835作为唯一通过Windows 10桌面平台认证的ARM处理器，高通强调，不会因为只考...</td>\n",
       "      <td>骁龙 835 作为 唯一 通过 Windows   10 桌面 平台 认证 的 ARM 处理...</td>\n",
       "    </tr>\n",
       "    <tr>\n",
       "      <th>2</th>\n",
       "      <td>此前的一加3T搭载的是3400mAh电池，DashCharge快充规格为5V/4A。\\r\\n...</td>\n",
       "      <td>此前 的 一加 3T 搭载 的 是 3400mAh 电池 ， DashCharge 快充 规...</td>\n",
       "    </tr>\n",
       "    <tr>\n",
       "      <th>3</th>\n",
       "      <td>这是6月18日在葡萄牙中部大佩德罗冈地区拍摄的被森林大火烧毁的汽车。新华社记者张立云摄\\r\\n</td>\n",
       "      <td>这是 6 月 18 日 在 葡萄牙 中部 大 佩德罗 冈 地区 拍摄 的 被 森林 大火 烧...</td>\n",
       "    </tr>\n",
       "    <tr>\n",
       "      <th>4</th>\n",
       "      <td>（原标题：44岁女子跑深圳约会网友被拒，暴雨中裸身奔走……）\\r\\n@深圳交警微博称：昨日清...</td>\n",
       "      <td>（ 原 标题 ： 44 岁 女子 跑 深圳 约会 网友 被 拒 ， 暴雨 中 裸身 奔走 …...</td>\n",
       "    </tr>\n",
       "  </tbody>\n",
       "</table>\n",
       "</div>"
      ],
      "text/plain": [
       "                                             content  \\\n",
       "0  此外，自本周（6月12日）起，除小米手机6等15款机型外，其余机型已暂停更新发布（含开发版/...   \n",
       "1  骁龙835作为唯一通过Windows 10桌面平台认证的ARM处理器，高通强调，不会因为只考...   \n",
       "2  此前的一加3T搭载的是3400mAh电池，DashCharge快充规格为5V/4A。\\r\\n...   \n",
       "3    这是6月18日在葡萄牙中部大佩德罗冈地区拍摄的被森林大火烧毁的汽车。新华社记者张立云摄\\r\\n   \n",
       "4  （原标题：44岁女子跑深圳约会网友被拒，暴雨中裸身奔走……）\\r\\n@深圳交警微博称：昨日清...   \n",
       "\n",
       "                                   tokenized_content  \n",
       "0  此外 ， 自 本周 （ 6 月 12 日 ） 起 ， 除 小米 手机 6 等 15 款 机型...  \n",
       "1  骁龙 835 作为 唯一 通过 Windows   10 桌面 平台 认证 的 ARM 处理...  \n",
       "2  此前 的 一加 3T 搭载 的 是 3400mAh 电池 ， DashCharge 快充 规...  \n",
       "3  这是 6 月 18 日 在 葡萄牙 中部 大 佩德罗 冈 地区 拍摄 的 被 森林 大火 烧...  \n",
       "4  （ 原 标题 ： 44 岁 女子 跑 深圳 约会 网友 被 拒 ， 暴雨 中 裸身 奔走 …...  "
      ]
     },
     "execution_count": 71,
     "metadata": {},
     "output_type": "execute_result"
    }
   ],
   "source": [
    "pure_content.head()"
   ]
  },
  {
   "cell_type": "code",
   "execution_count": 138,
   "metadata": {},
   "outputs": [],
   "source": [
    "lengthes_of_text = map(len, pure_content['content'].tolist())"
   ]
  },
  {
   "cell_type": "code",
   "execution_count": 139,
   "metadata": {},
   "outputs": [
    {
     "data": {
      "text/plain": [
       "[177,\n",
       " 329,\n",
       " 216,\n",
       " 45,\n",
       " 1674,\n",
       " 1056,\n",
       " 657,\n",
       " 4093,\n",
       " 3665,\n",
       " 755,\n",
       " 169,\n",
       " 1467,\n",
       " 487,\n",
       " 774,\n",
       " 1137,\n",
       " 331,\n",
       " 293,\n",
       " 495,\n",
       " 289,\n",
       " 1707]"
      ]
     },
     "execution_count": 139,
     "metadata": {},
     "output_type": "execute_result"
    }
   ],
   "source": [
    "list(lengthes_of_text)[:20]"
   ]
  },
  {
   "cell_type": "code",
   "execution_count": 189,
   "metadata": {},
   "outputs": [
    {
     "data": {
      "text/plain": [
       "['/anaconda3/envs/ibm/lib/python3.6/site-packages/networkx']"
      ]
     },
     "execution_count": 189,
     "metadata": {},
     "output_type": "execute_result"
    }
   ],
   "source": [
    "networkx.__path__"
   ]
  },
  {
   "cell_type": "code",
   "execution_count": 256,
   "metadata": {},
   "outputs": [],
   "source": [
    "import matplotlib.font_manager as fm\n",
    "fp1 = fm.FontProperties(fname=\"/Users/mqgao/Downloads/SourceHanSerifSC-Regular.otf\")\n",
    "# how to set chinese display: \n",
    "# https://knowlab.wordpress.com/2016/05/25/networkx-%E7%B9%AA%E5%9C%96%E9%A1%AF%E7%A4%BA%E4%B8%AD%E6%96%87%E7%9A%84%E8%A7%A3%E6%B1%BA%E6%96%B9%E6%B3%95/\n",
    "\n",
    "def get_connect_graph_by_text_rank(tokenized_text: str, window=3):\n",
    "    keywords_graph = networkx.Graph()\n",
    "    tokeners = tokenized_text.split()\n",
    "    for ii, t in enumerate(tokeners):\n",
    "        word_tuples = [(tokeners[connect], t) \n",
    "                       for connect in range(ii-window, ii+window+1) \n",
    "                       if connect >= 0 and connect < len(tokeners)]\n",
    "        keywords_graph.add_edges_from(word_tuples)\n",
    "\n",
    "    return keywords_graph"
   ]
  },
  {
   "cell_type": "code",
   "execution_count": 100,
   "metadata": {},
   "outputs": [],
   "source": [
    "first_content = pure_content.iloc[1]['tokenized_content']"
   ]
  },
  {
   "cell_type": "code",
   "execution_count": 140,
   "metadata": {},
   "outputs": [],
   "source": [
    "first_content_continous = pure_content.iloc[4]['content']"
   ]
  },
  {
   "cell_type": "code",
   "execution_count": 121,
   "metadata": {},
   "outputs": [
    {
     "data": {
      "text/plain": [
       "['骁龙835作为唯一通过Windows',\n",
       " '10桌面平台认证的ARM处理器，高通强调，不会因为只考虑性能而去屏蔽掉小核心。相反，他们正联手微软，找到一种适合桌面平台的、兼顾性能和功耗的完美方案。',\n",
       " '报道称，微软已经拿到了一些新的源码，以便Windows',\n",
       " '10更好地理解big.little架构。',\n",
       " '资料显示，骁龙835作为一款集成了CPU、GPU、基带、蓝牙/Wi-Fi的SoC，比传统的Wintel方案可以节省至少30%的PCB空间。',\n",
       " '按计划，今年Q4，华硕、惠普、联想将首发骁龙835',\n",
       " 'Win10电脑，预计均是二合一形态的产品。',\n",
       " '当然，高通骁龙只是个开始，未来也许还能见到三星Exynos、联发科、华为麒麟、小米澎湃等进入Windows',\n",
       " '10桌面平台。']"
      ]
     },
     "execution_count": 121,
     "metadata": {},
     "output_type": "execute_result"
    }
   ],
   "source": [
    "first_content_continous.replace(',', ' ').split()"
   ]
  },
  {
   "cell_type": "code",
   "execution_count": 122,
   "metadata": {},
   "outputs": [],
   "source": [
    "import re"
   ]
  },
  {
   "cell_type": "code",
   "execution_count": 142,
   "metadata": {},
   "outputs": [],
   "source": [
    "pattern = re.compile('[。，,.]')\n",
    "token_by_sentence_first = pattern.sub(' ', first_content_continous).split()"
   ]
  },
  {
   "cell_type": "code",
   "execution_count": 170,
   "metadata": {},
   "outputs": [
    {
     "data": {
      "text/plain": [
       "['（原标题：44岁女子跑深圳约会网友被拒',\n",
       " '暴雨中裸身奔走……）',\n",
       " '@深圳交警微博称：昨日清晨交警发现有一女子赤裸上身',\n",
       " '行走在南坪快速上',\n",
       " '期间还起了轻生年头',\n",
       " '一辅警发现后赶紧为其披上黄衣',\n",
       " '并一路劝说她',\n",
       " '那么事发时',\n",
       " '到底都发生了些什么呢？',\n",
       " '南都记者带您一起还原现场']"
      ]
     },
     "execution_count": 170,
     "metadata": {},
     "output_type": "execute_result"
    }
   ],
   "source": [
    "token_by_sentence_first[:10]"
   ]
  },
  {
   "cell_type": "code",
   "execution_count": 177,
   "metadata": {},
   "outputs": [],
   "source": [
    "sentence_graph = get_connect_graph_by_text_rank()"
   ]
  },
  {
   "cell_type": "code",
   "execution_count": 178,
   "metadata": {},
   "outputs": [
    {
     "name": "stderr",
     "output_type": "stream",
     "text": [
      "/anaconda3/envs/ibm/lib/python3.6/site-packages/matplotlib/font_manager.py:1328: UserWarning: findfont: Font family ['/Users/mqgao/Downloads/SourceHanSerifSC-Regular.otf'] not found. Falling back to DejaVu Sans\n",
      "  (prop.get_family(), self.defaultFamily[fontext]))\n"
     ]
    },
    {
     "data": {
      "image/png": "[encoded data removed]",
      "text/plain": [
       "<Figure size 432x288 with 1 Axes>"
      ]
     },
     "metadata": {},
     "output_type": "display_data"
    }
   ],
   "source": [
    "networkx.draw(sentence_graph)"
   ]
  },
  {
   "cell_type": "code",
   "execution_count": 146,
   "metadata": {},
   "outputs": [],
   "source": [
    "ranking_sentence = networkx.pagerank(sentence_graph)"
   ]
  },
  {
   "cell_type": "code",
   "execution_count": 148,
   "metadata": {},
   "outputs": [
    {
     "data": {
      "text/plain": [
       "'（原标题：44岁女子跑深圳约会网友被拒，暴雨中裸身奔走……）\\r\\n@深圳交警微博称：昨日清晨交警发现有一女子赤裸上身，行走在南坪快速上，期间还起了轻生年头，一辅警发现后赶紧为其披上黄衣，并一路劝说她。\\r\\n那么事发时\\r\\n到底都发生了些什么呢？\\r\\n南都记者带您一起还原现场\\r\\n南都记者在龙岗大队坂田中队见到了辅警刘青（发现女生的辅警），一位外表高大帅气，说话略带些腼腆的90后青年。\\r\\n刘青介绍，6月16日早上7时36分，他正在环城南路附近值勤，接到中队关于一位女子裸身进入机动车可能有危险的警情，随后骑着小铁骑开始沿路寻找，大概花了十多分钟在南坪大道坂田出口往龙岗方向的逆行辅道上发现该女子。\\r\\n女子身上一丝不挂地逆车流而行，时走时停，时坐时躺，险象环生。刘青停好小铁骑，和另外一名巡防员追了上去，发现女子的情绪很低落，话不多，刘青尝试和女子交流，劝说女子离开，可女子并不愿意接受，继续缓慢地往南坪快速路的主干道上走去。\\r\\n此时路边上已经聚集了很市民围观，为了不刺激女子的情绪，刘青和巡防员一边盯着女子一边驱赶着围观的群众。\\r\\n现场还原\\r\\n从警方提供的一份视频了解到，16日早上7时25分，女子出现在坂雪岗大道与环城南路的监控视频中，此时女子还穿着白色的内裤，正沿着坂雪岗大道往南坪快速的方向缓慢地走着。\\r\\n当时正值上班高峰期，十字路口的车流已经排起了长队。当女子出现时，路上的市民纷纷驻足观望，不少车辆也放慢了速度，但女子并不为市民观望停下脚步，依然缓慢走着。当女子行进到十字路口中间时，一辆大货车挡住了镜头，但是当女子再次出现镜头时，可以发现女子已经没穿内裤了，全身裸露继续朝着南坪快速方向走去。记者发现，视频中女子周围并没有人尾随或者上前劝止的市民。\\r\\n一大清早路上看到这样的情况\\r\\n恐怕大家都没办法淡定\\r\\n面对这一情况\\r\\n刘青表示，“一开始根本不敢看她，心里挺别扭，感觉很尴尬”，但当刘青跟随女子上了南坪快速路主干道时，女子作出了让人意想不到的举动，她突然靠近护栏要从上面跳下去，刘青赶忙冲上去拉住了女子的手，将其控制住并远离护栏。碍于女子没有穿衣服，刘青递上衣服，女子没接受还把衣服扔到排水沟里，继续往前走，没办法刘青只能紧紧拉着她的一只手跟在后面。\\r\\n刘青一路上耐心地开导安慰她，但只听到她不断地重复着一句话“要是你也遭遇我的事，你也会这样的”，期间她还不时试图挣脱刘青的手要冲向护栏往下跳。\\r\\n就这样，我被牵着走了大概十多分钟，天突然下起了大暴雨，雨大的连眼睛都睁不开”刘青继续说着，瞬间他们就被雨透了，但女子依然不愿意接受刘青的帮助，就继续冒着大雨往前走。\\r\\n大概走了有四十分钟吧，女子突然停下来说“我想回家了”，然后女子也接受了刘青递过来的小黄衣，就出现了深圳微博上的照片，女子披着小黄衣，刘青小心翼翼地在旁边走着的场景。从南平快速下来后，刘青和巡防员将女子带到了附近的坂田派出所。\\r\\n那姑娘到底是遭遇了什么样的事情\\r\\n才会说\\r\\n“要是你也遭遇我的事，你也会这样”\\r\\n据警方透露，该女子姓陈，系湖北人，今年44岁，据家属反映其有精神病史。三天前，陈某从老家来深圳约会网友，但约会受挫导致情绪异常，女子遂产生轻生念头。\\r\\n目前\\r\\n陈某已经被送往深圳某精神病医院进行治疗\\r\\n大大君只希望姑娘能早点康复\\r\\n其实真爱的到来并不存在年龄的限制\\r\\n你们说呢？\\r\\n因善良的原因\\r\\n一众网友纷纷为\\r\\n交警暖男点ZAN\\r\\n@弓常yan桦：就想问这个小哥哥有女票吗\\r\\n@原谅我这一辈子浪荡不羁爱萨摩耶：有什么过不去的要轻生嘛？ 想想自己的家人。同时也感谢交警蜀黍\\r\\n@火心聆听心灵：点赞交警\\r\\n@中華云盾：警察……警察就是群众最需时申出援手\\r\\n@Tomchlee：蜀黍帅！\\r\\n@SJ-李赫海i：这个交警很暖有木有！\\r\\n男子迷奸网友拍418个视频 女方从20岁到50岁不等\\r\\n去年6月7号上午，淮安市涟水县公安局刑警大队突然接到了一个奇怪的报警电话，一名女子言语不清，声称自己遭到了侵害。女子、被侵害、言语不清，几个关键词令接到电话的民警瞬间紧张起来。\\r\\n'"
      ]
     },
     "execution_count": 148,
     "metadata": {},
     "output_type": "execute_result"
    }
   ],
   "source": [
    "first_content_continous"
   ]
  },
  {
   "cell_type": "code",
   "execution_count": 228,
   "metadata": {},
   "outputs": [],
   "source": [
    "def split_sentence(sentence):\n",
    "    pattern = re.compile('[。，,.]：')\n",
    "    split = pattern.sub(' ', sentence).split()  # split sentence\n",
    "    return split"
   ]
  },
  {
   "cell_type": "code",
   "execution_count": 288,
   "metadata": {},
   "outputs": [
    {
     "data": {
      "text/plain": [
       "'2013 3 月份官方突然宣布回归中国，预示着很快就有夏普新机在中国登场了。那么，第一款夏普手机什么时候登陆中国呢？又会是怎么样的手机呢？ 近日，一款型号为 FS8016 的夏普神秘新机悄然出现在 GeekBench 的跑分库上。从其中相关信息了解到，这款机子并非旗舰定位，所搭载的是高通骁龙 660 660 是高通今年最受瞩目的芯片之一，采用 14 纳米工艺，八个 Kryo 260 核心设计，集成 Adreno 512 GPU 和 X12 LTE 660 OPPO 660 OPPO 660 2013 年推出全球首款全面屏手机 EDGEST 302SH 至今，夏普手机推出了多达 28 款的全面屏手机。 在 5'"
      ]
     },
     "execution_count": 288,
     "metadata": {},
     "output_type": "execute_result"
    }
   ],
   "source": [
    "' '.join(get_summarization_simple_with_text_rank(sharp_news, constraint=250))"
   ]
  },
  {
   "cell_type": "code",
   "execution_count": 284,
   "metadata": {},
   "outputs": [],
   "source": [
    "def get_summarization_simple_with_text_rank(text, constraint=200):\n",
    "    return get_summarization_simple(text, sentence_ranking_by_text_ranking, constraint)"
   ]
  },
  {
   "cell_type": "code",
   "execution_count": 283,
   "metadata": {},
   "outputs": [],
   "source": [
    "def sentence_ranking_by_text_ranking(split_sentence):\n",
    "    sentence_graph = get_connect_graph_by_text_rank(' '.join(split_sentence))\n",
    "    ranking_sentence = networkx.pagerank(sentence_graph)\n",
    "    ranking_sentence = sorted(ranking_sentence.items(), key=lambda x: x[1], reverse=True)\n",
    "    return ranking_sentence"
   ]
  },
  {
   "cell_type": "code",
   "execution_count": 287,
   "metadata": {},
   "outputs": [],
   "source": [
    "def get_summarization_simple(text, score_fn, constraint=200):\n",
    "    sub_sentence = split_sentence(text)\n",
    "    ranking_sentence = score_fn(sub_sentence)\n",
    "    selected_text = set()\n",
    "    current_text = ''\n",
    "    \n",
    "    for sen, _ in ranking_sentence:\n",
    "        if len(current_text) < constraint:\n",
    "            current_text += sen\n",
    "            selected_text.add(sen)\n",
    "        else:\n",
    "            break\n",
    "\n",
    "    summarized = []\n",
    "    for sen in sub_sentence:  # print the selected sentence by sequent\n",
    "        if sen in selected_text:\n",
    "            summarized.append(sen)\n",
    "    return summarized"
   ]
  },
  {
   "cell_type": "markdown",
   "metadata": {},
   "source": [
    "## 课间休息 15min \n",
    "## 10：37 课程继续"
   ]
  },
  {
   "cell_type": "code",
   "execution_count": 162,
   "metadata": {},
   "outputs": [
    {
     "data": {
      "text/plain": [
       "'虽然至今夏普智能手机在市场上无法排得上号，已经完全没落，并于 2013 年退出中国市场，但是今年 3 月份官方突然宣布回归中国，预示着很快就有夏普新机在中国登场了。那么，第一款夏普手机什么时候登陆中国呢？又会是怎么样的手机呢？\\r\\n近日，一款型号为 FS8016 的夏普神秘新机悄然出现在 GeekBench 的跑分库上。从其中相关信息了解到，这款机子并非旗舰定位，所搭载的是高通骁龙 660 处理器，配备有 4GB 的内存。骁龙 660 是高通今年最受瞩目的芯片之一，采用 14 纳米工艺，八个 Kryo 260 核心设计，集成 Adreno 512 GPU 和 X12 LTE 调制解调器。\\r\\n当前市面上只有一款机子采用了骁龙 660 处理器，那就是已经上市销售的 OPPO R11。骁龙 660 尽管并非旗舰芯片，但在多核新能上比去年骁龙 820 强，单核改进也很明显，所以放在今年仍可以让很多手机变成高端机。不过，由于 OPPO 与高通签署了排他性协议，可以独占两三个月时间。\\r\\n考虑到夏普既然开始测试新机了，说明只要等独占时期一过，夏普就能发布骁龙 660 新品了。按照之前被曝光的渲染图了解，夏普的新机核心竞争优势还是全面屏，因为从 2013 年推出全球首款全面屏手机 EDGEST 302SH 至今，夏普手机推出了多达 28 款的全面屏手机。\\r\\n在 5 月份的媒体沟通会上，惠普罗忠生表示：“我敢打赌，12 个月之后，在座的各位手机都会换掉。因为全面屏时代的到来，我们怀揣的手机都将成为传统手机。”\\r\\n'"
      ]
     },
     "execution_count": 162,
     "metadata": {},
     "output_type": "execute_result"
    }
   ],
   "source": [
    "pure_content.iloc[6]['content']"
   ]
  },
  {
   "cell_type": "code",
   "execution_count": 161,
   "metadata": {},
   "outputs": [
    {
     "data": {
      "text/plain": [
       "'2013 年退出中国市场 但是今年 3 月份官方突然宣布回归中国 预示着很快就有夏普新机在中国登场了 那么 第一款夏普手机什么时候登陆中国呢？又会是怎么样的手机呢？ 近日 一款型号为 FS8016 660 处理器 骁龙 660 260 核心设计 集成 Adreno 512 660 处理器 OPPO 骁龙 660 OPPO 660 2013 EDGEST 302SH 至今 夏普手机推出了多达 28 款的全面屏手机 在 5 月份的媒体沟通会上 惠普罗忠生表示：“我敢打赌 12 个月之后 在座的各位手机都会换掉 因为全面屏时代的到来'"
      ]
     },
     "execution_count": 161,
     "metadata": {},
     "output_type": "execute_result"
    }
   ],
   "source": [
    "' '.join(get_summarization_simple(pure_content.iloc[6]['content']))"
   ]
  },
  {
   "cell_type": "code",
   "execution_count": 175,
   "metadata": {},
   "outputs": [
    {
     "data": {
      "text/plain": [
       "'原标题：中国墨子号卫星首次实现1200公里量子纠缠，震惊国外专家\\r\\n雷锋网按：在量子加密通信的研究领域，如何长距离传输纠缠光子一直是个很大的难题。不过最近我国的科学家们，利用去年八月发射的墨子号量子卫星，在这件事上取得了一些突破。研究者们成功从太空中，往相距约 1200 公里的云南丽江和青海德令哈地面站发送了纠缠光子对。本文由雷锋网编译。\\r\\n去年年底的某个晴朗的夜晚，一个绿色的星点出现在中缅边界的地平线附近。正在丽江郊外观测站的物理学家，中国科技大学教授陆朝阳观测到了这一现象，他说：“这很像一个非常明亮的绿色星体。”\\r\\n陆教授和他的同事们必须赶快采取行动。因为那个绿色星体其实是来自于 300 英里上空正在运行的卫星发出的一道激光，它就像一个灯塔预示着太空飞行器的位置。激光点在空中快速移动着，10 分钟后就会消失在地平线中。所以这个由中国的多个科学机构研究者组成的团队，正在用望远镜紧紧盯着这道绿光，努力捕捉着其中最重要的东西：这个卫星上由特殊晶体制造的一种微妙的单一红外光子。最终他们过滤掉绿光，锁定了他们的“猎物”——一个过去从未发出射过的量子信号。\\r\\n这项实验是量子密码这种新技术中的一次关键测试。量子密码就是像光子这样的量子传输安全信息的技术。但是众所周知，脆弱的量子不易进行传递，如果你试图利用光纤来传递它们，超过 150 英里后，信号就会失效，这种性质使得量子密码在全国或者世界范围内传递消息时起不到什么作用。\\r\\n所以科学家们一直在研究如何利用卫星来进行长距离的量子传送。但是在此之前，还没有人做到如此远的距离。在这项实验中，中国科学家在两个相距 750 英里的地面站点和卫星之间传递单一光子，创造了距离最远的新记录（两站分别是青海德令哈站和云南丽江高美古站，两站距离1203公里）。参与这项工作的巴黎量子计算中心副主管 Eleni Diamanti 说：“这个实验对扩展远距离量子沟通网络来讲拥有里程碑式的意义，这毫无疑问。”\\r\\n去年 8 月，在戈壁滩的酒泉卫星发射中心，中国发射了造价一亿美元的量子卫星“墨子号”，专门用来进行空间级别的量子实验。该卫星上搭载了一套复杂的激光系统、反射镜面系统和一中特殊的晶体，当激光反射在晶体上时，它会创造出一对处于纠缠态的光子。晶体一次可以制造 6 百万对光子，但是地面上的两个站点每秒只能探测到大约一对光子。陆教授说：“这项任务非常具有挑战性，类似于你在 300 米外观察一根头发。”\\r\\n陆教授和他的同事们认为，量子密码技术会成为未来一种良好的加密工具，其工作原理是这样的：首先，测量光子的性质，得到一串由 0、1 组成的密钥，接着利用这串密钥加密你的信息并将其发送给特定的接收者。如果黑客想要在传输中窃取这串密钥，根据测不准理论，量子将会在窃取的瞬间改变密钥数字。想象薛定谔的猫，当你没有观察它时，它既生又死，而你一旦观察它，它就会表现出生或者死的一个状态。同样的，偷窃的黑客会瞬间改变构成密钥的光子的状态，所以理论上，在理想状态下，这串密钥绝对不会被窃取（现实中的硬件设备并不完美，探测器在探测连续单一光子时表现不佳，这可能让我们误以为信息被窃取了，黑客也可以通过发射强光来追踪你的探测器）。\\r\\n中国的量子卫星发射和这项实验是科研人员长期努力的结果。负责这个项目的物理学家，中国科技大学教授潘建伟说，卫星实验的开始可以追溯到2003年，他带领的大约 100 人的团队从设计、建造到调整激光和卫星系统付出了多年的努力。他们最初的实验是在地面上进行的，起初只是在几英里内传输密钥，后来慢慢开始加大距离。\\r\\n“但是他们在该领域的研究仍然是很快的。”加拿大滑铁卢大学的物理学 Thomas Jennewein 说道（他最近完成了从地面到飞行中的飞机间的量子传输）。几年前，Jennewein 在国际空间站上试图完成相似的实验。他说：“因为各种实验的复杂性、高昂的成本等等，那些项目没有一个可以实现如此远的距离。但是中国团队现在做到了，他们走在了领域的前沿，这非常棒。”\\r\\n杜克大学的中国科技政策研究专家 Denis Simon 说：“他们之所以行动如此快速，得益于中国政府对该项目的充分重视。因为中国政府领导希望完成这样的实验，所以实验团队无需在通常的官僚制度上浪费时间。”中国政府对量子通信技术抱有极大的兴趣，因为量子安全通信对国家利益大有裨益。他说道：“中国政府想将这种通信技术运用在中国南海的海军战舰上，该技术的应用还有很多。”\\r\\n同时，其他国家的科学家也在进行类似的实验，但是却被很多官僚制度所束缚。比如 Diamanti 的团队还正在等待欧洲空间局对他们在国际空间站和欧洲几个地面站点间传递量子实验申请的回复。伊利诺伊香槟分校的物理学家 Paul Kwiat 也正在领导美国的团队与 NASA 合作进行相似的实验。\\r\\n但是还没有一个国家像中国一样对量子通信有着宏伟的计划。陆教授和他的团队正在计划在一个新的更远的卫星上实施同样的实验，将量子通信的距离从城市间扩展得到更远。他们想要在中国和奥地利（那里有一些合作伙伴）之间交换量子密钥。潘建伟曾说过，中国计划在 2030 年打造一个覆盖全球的量子卫星通信网络。陆教授说：“我们是非常幸运的，我们的成功得益于中国政府的快速决策系统，政治和科学的结合可以事半功倍。”\\r\\n'"
      ]
     },
     "execution_count": 175,
     "metadata": {},
     "output_type": "execute_result"
    }
   ],
   "source": [
    "pure_content.iloc[2496]['content']"
   ]
  },
  {
   "cell_type": "code",
   "execution_count": 174,
   "metadata": {},
   "outputs": [
    {
     "name": "stdout",
     "output_type": "stream",
     "text": [
      "2496----\n",
      "如何长距离传输纠缠光子一直是个很大的难题 不过最近我国的科学家们 利用去年八月发射的墨子号量子卫星 在这件事上取得了一些突破 研究者们成功从太空中 往相距约 1200 ” 300 Diamanti ” 300 ” 在理想状态下 这串密钥绝对不会被窃取（现实中的硬件设备并不完美 探测器在探测连续单一光子时表现不佳 这可能让我们误以为信息被窃取了 黑客也可以通过发射强光来追踪你的探测器） 中国的量子卫星发射和这项实验是科研人员长期努力的结果 Jennewein Jennewein ” ” Diamanti 年打造一个覆盖全球的量子卫星通信网络 ”\n"
     ]
    }
   ],
   "source": [
    "for index in random.sample(list(range(len(pure_content))), 30):\n",
    "    content = pure_content.iloc[index]['content']\n",
    "    if len(content) > 1000:\n",
    "        print('{}----'.format(index))\n",
    "        print(' '.join(get_summarization_simple(content)))"
   ]
  },
  {
   "cell_type": "code",
   "execution_count": 147,
   "metadata": {},
   "outputs": [
    {
     "data": {
      "text/plain": [
       "[('一名女子言语不清', 0.008761809701694283),\n",
       " ('行走在南坪快速上', 0.008761809701694281),\n",
       " ('期间还起了轻生年头', 0.00853806788025346),\n",
       " ('淮安市涟水县公安局刑警大队突然接到了一个奇怪的报警电话', 0.00853806788025346),\n",
       " ('一辅警发现后赶紧为其披上黄衣', 0.008371719895408159),\n",
       " ('去年6月7号上午', 0.008371719895408159),\n",
       " ('并一路劝说她', 0.008245759268329758),\n",
       " ('女方从20岁到50岁不等', 0.008245759268329758),\n",
       " ('那么事发时', 0.00815029910456809),\n",
       " ('男子迷奸网友拍418个视频', 0.00815029910456809),\n",
       " ('@SJ-李赫海i：这个交警很暖有木有！', 0.008078401421739694),\n",
       " ('到底都发生了些什么呢？', 0.008078401421739692),\n",
       " ('南都记者带您一起还原现场', 0.008024087516959199),\n",
       " ('@Tomchlee：蜀黍帅！', 0.008024087516959199),\n",
       " ('南都记者在龙岗大队坂田中队见到了辅警刘青（发现女生的辅警）', 0.007983207314774927),\n",
       " ('@中華云盾：警察……警察就是群众最需时申出援手', 0.007983207314774927),\n",
       " ('一位外表高大帅气', 0.007952624377193676),\n",
       " ('@火心聆听心灵：点赞交警', 0.007952624377193674),\n",
       " ('说话略带些腼腆的90后青年', 0.007929884597094566),\n",
       " ('同时也感谢交警蜀黍', 0.007929884597094566),\n",
       " ('刘青介绍', 0.007913142240506744),\n",
       " ('想想自己的家人', 0.007913142240506744),\n",
       " ('@原谅我这一辈子浪荡不羁爱萨摩耶：有什么过不去的要轻生嘛？', 0.007900964870248895),\n",
       " ('6月16日早上7时36分', 0.007900964870248892),\n",
       " ('他正在环城南路附近值勤', 0.007892232774304273),\n",
       " ('@弓常yan桦：就想问这个小哥哥有女票吗', 0.007892232774304273),\n",
       " ('接到中队关于一位女子裸身进入机动车可能有危险的警情', 0.00788607704919873),\n",
       " ('交警暖男点ZAN', 0.00788607704919873),\n",
       " ('一众网友纷纷为', 0.007881820981426759),\n",
       " ('随后骑着小铁骑开始沿路寻找', 0.007881820981426757),\n",
       " ('因善良的原因', 0.007878941618434662),\n",
       " ('大概花了十多分钟在南坪大道坂田出口往龙岗方向的逆行辅道上发现该女子', 0.00787894161843466),\n",
       " ('你们说呢？', 0.007877040414333012),\n",
       " ('女子身上一丝不挂地逆车流而行', 0.00787704041433301),\n",
       " ('时走时停', 0.007875818243366639),\n",
       " ('其实真爱的到来并不存在年龄的限制', 0.007875818243366639),\n",
       " ('时坐时躺', 0.007875055326830038),\n",
       " ('大大君只希望姑娘能早点康复', 0.007875055326830038),\n",
       " ('险象环生', 0.007874594202822473),\n",
       " ('陈某已经被送往深圳某精神病医院进行治疗', 0.007874594202822473),\n",
       " ('目前', 0.007874325165885149),\n",
       " ('刘青停好小铁骑', 0.007874325165885147),\n",
       " ('女子遂产生轻生念头', 0.00787417418096783),\n",
       " ('和另外一名巡防员追了上去', 0.007874174180967829),\n",
       " ('但约会受挫导致情绪异常', 0.007874093011541456),\n",
       " ('发现女子的情绪很低落', 0.007874093011541454),\n",
       " ('话不多', 0.007874051412730365),\n",
       " ('陈某从老家来深圳约会网友', 0.007874051412730365),\n",
       " ('刘青尝试和女子交流', 0.007874031209340058),\n",
       " ('三天前', 0.007874031209340058),\n",
       " ('劝说女子离开', 0.007874021979828482),\n",
       " ('据家属反映其有精神病史', 0.007874021979828482),\n",
       " ('今年44岁', 0.00787401805200212),\n",
       " ('可女子并不愿意接受', 0.007874018052002118),\n",
       " ('继续缓慢地往南坪快速路的主干道上走去', 0.007874016514985274),\n",
       " ('系湖北人', 0.007874016514985274),\n",
       " ('此时路边上已经聚集了很市民围观', 0.007874015971942193),\n",
       " ('该女子姓陈', 0.007874015971942193),\n",
       " ('为了不刺激女子的情绪', 0.007874015803169621),\n",
       " ('据警方透露', 0.007874015803169621),\n",
       " ('你也会这样”', 0.007874015758793634),\n",
       " ('刘青和巡防员一边盯着女子一边驱赶着围观的群众', 0.007874015758793632),\n",
       " ('现场还原', 0.007874015749519759),\n",
       " ('“要是你也遭遇我的事', 0.007874015749519759),\n",
       " ('从警方提供的一份视频了解到', 0.00787401574814256),\n",
       " ('才会说', 0.00787401574814256),\n",
       " ('16日早上7时25分', 0.007874015748031496),\n",
       " ('女子出现在坂雪岗大道与环城南路的监控视频中', 0.007874015748031496),\n",
       " ('此时女子还穿着白色的内裤', 0.007874015748031496),\n",
       " ('正沿着坂雪岗大道往南坪快速的方向缓慢地走着', 0.007874015748031496),\n",
       " ('当时正值上班高峰期', 0.007874015748031496),\n",
       " ('十字路口的车流已经排起了长队', 0.007874015748031496),\n",
       " ('当女子出现时', 0.007874015748031496),\n",
       " ('路上的市民纷纷驻足观望', 0.007874015748031496),\n",
       " ('不少车辆也放慢了速度', 0.007874015748031496),\n",
       " ('但女子并不为市民观望停下脚步', 0.007874015748031496),\n",
       " ('依然缓慢走着', 0.007874015748031496),\n",
       " ('当女子行进到十字路口中间时', 0.007874015748031496),\n",
       " ('一辆大货车挡住了镜头', 0.007874015748031496),\n",
       " ('但是当女子再次出现镜头时', 0.007874015748031496),\n",
       " ('可以发现女子已经没穿内裤了', 0.007874015748031496),\n",
       " ('全身裸露继续朝着南坪快速方向走去', 0.007874015748031496),\n",
       " ('记者发现', 0.007874015748031496),\n",
       " ('视频中女子周围并没有人尾随或者上前劝止的市民', 0.007874015748031496),\n",
       " ('一大清早路上看到这样的情况', 0.007874015748031496),\n",
       " ('恐怕大家都没办法淡定', 0.007874015748031496),\n",
       " ('面对这一情况', 0.007874015748031496),\n",
       " ('刘青表示', 0.007874015748031496),\n",
       " ('“一开始根本不敢看她', 0.007874015748031496),\n",
       " ('心里挺别扭', 0.007874015748031496),\n",
       " ('感觉很尴尬”', 0.007874015748031496),\n",
       " ('但当刘青跟随女子上了南坪快速路主干道时', 0.007874015748031496),\n",
       " ('女子作出了让人意想不到的举动', 0.007874015748031496),\n",
       " ('她突然靠近护栏要从上面跳下去', 0.007874015748031496),\n",
       " ('刘青赶忙冲上去拉住了女子的手', 0.007874015748031496),\n",
       " ('将其控制住并远离护栏', 0.007874015748031496),\n",
       " ('碍于女子没有穿衣服', 0.007874015748031496),\n",
       " ('刘青递上衣服', 0.007874015748031496),\n",
       " ('女子没接受还把衣服扔到排水沟里', 0.007874015748031496),\n",
       " ('继续往前走', 0.007874015748031496),\n",
       " ('没办法刘青只能紧紧拉着她的一只手跟在后面', 0.007874015748031496),\n",
       " ('刘青一路上耐心地开导安慰她', 0.007874015748031496),\n",
       " ('但只听到她不断地重复着一句话“要是你也遭遇我的事', 0.007874015748031496),\n",
       " ('你也会这样的”', 0.007874015748031496),\n",
       " ('期间她还不时试图挣脱刘青的手要冲向护栏往下跳', 0.007874015748031496),\n",
       " ('就这样', 0.007874015748031496),\n",
       " ('我被牵着走了大概十多分钟', 0.007874015748031496),\n",
       " ('天突然下起了大暴雨', 0.007874015748031496),\n",
       " ('雨大的连眼睛都睁不开”刘青继续说着', 0.007874015748031496),\n",
       " ('瞬间他们就被雨透了', 0.007874015748031496),\n",
       " ('但女子依然不愿意接受刘青的帮助', 0.007874015748031496),\n",
       " ('就继续冒着大雨往前走', 0.007874015748031496),\n",
       " ('大概走了有四十分钟吧', 0.007874015748031496),\n",
       " ('女子突然停下来说“我想回家了”', 0.007874015748031496),\n",
       " ('然后女子也接受了刘青递过来的小黄衣', 0.007874015748031496),\n",
       " ('就出现了深圳微博上的照片', 0.007874015748031496),\n",
       " ('女子披着小黄衣', 0.007874015748031496),\n",
       " ('刘青小心翼翼地在旁边走着的场景', 0.007874015748031496),\n",
       " ('从南平快速下来后', 0.007874015748031496),\n",
       " ('刘青和巡防员将女子带到了附近的坂田派出所', 0.007874015748031496),\n",
       " ('那姑娘到底是遭遇了什么样的事情', 0.007874015748031496),\n",
       " ('声称自己遭到了侵害', 0.007760391420088102),\n",
       " ('@深圳交警微博称：昨日清晨交警发现有一女子赤裸上身', 0.007760391420088101),\n",
       " ('暴雨中裸身奔走……）', 0.006743520732558356),\n",
       " ('女子、被侵害、言语不清', 0.006743520732558355),\n",
       " ('（原标题：44岁女子跑深圳约会网友被拒', 0.005706295418150805),\n",
       " ('几个关键词令接到电话的民警瞬间紧张起来', 0.005706295418150804)]"
      ]
     },
     "execution_count": 147,
     "metadata": {},
     "output_type": "execute_result"
    }
   ],
   "source": [
    "sorted(ranking_sentence.items(), key=lambda x: x[1], reverse=True)"
   ]
  },
  {
   "cell_type": "code",
   "execution_count": 183,
   "metadata": {},
   "outputs": [
    {
     "ename": "AttributeError",
     "evalue": "'str' object has no attribute 'decode'",
     "output_type": "error",
     "traceback": [
      "\u001b[0;31m---------------------------------------------------------------------------\u001b[0m",
      "\u001b[0;31mAttributeError\u001b[0m                            Traceback (most recent call last)",
      "\u001b[0;32m<ipython-input-183-a20865cbc625>\u001b[0m in \u001b[0;36m<module>\u001b[0;34m()\u001b[0m\n\u001b[0;32m----> 1\u001b[0;31m \u001b[0mkeywords_graph\u001b[0m \u001b[0;34m=\u001b[0m \u001b[0mget_connect_graph_by_text_rank\u001b[0m\u001b[0;34m(\u001b[0m\u001b[0mfirst_content\u001b[0m\u001b[0;34m,\u001b[0m \u001b[0mwindow\u001b[0m\u001b[0;34m=\u001b[0m\u001b[0;36m5\u001b[0m\u001b[0;34m)\u001b[0m\u001b[0;34m\u001b[0m\u001b[0m\n\u001b[0m",
      "\u001b[0;32m<ipython-input-176-b285888f805a>\u001b[0m in \u001b[0;36mget_connect_graph_by_text_rank\u001b[0;34m(tokenized_text, window)\u001b[0m\n\u001b[1;32m      4\u001b[0m     \u001b[0;32mfor\u001b[0m \u001b[0mii\u001b[0m\u001b[0;34m,\u001b[0m \u001b[0mt\u001b[0m \u001b[0;32min\u001b[0m \u001b[0menumerate\u001b[0m\u001b[0;34m(\u001b[0m\u001b[0mtokeners\u001b[0m\u001b[0;34m)\u001b[0m\u001b[0;34m:\u001b[0m\u001b[0;34m\u001b[0m\u001b[0m\n\u001b[1;32m      5\u001b[0m         word_tuples = [(tokeners[connect].decode('utf-8'), t.decode('utf-8')) \n\u001b[0;32m----> 6\u001b[0;31m                        \u001b[0;32mfor\u001b[0m \u001b[0mconnect\u001b[0m \u001b[0;32min\u001b[0m \u001b[0mrange\u001b[0m\u001b[0;34m(\u001b[0m\u001b[0mii\u001b[0m\u001b[0;34m-\u001b[0m\u001b[0mwindow\u001b[0m\u001b[0;34m,\u001b[0m \u001b[0mii\u001b[0m\u001b[0;34m+\u001b[0m\u001b[0mwindow\u001b[0m\u001b[0;34m+\u001b[0m\u001b[0;36m1\u001b[0m\u001b[0;34m)\u001b[0m\u001b[0;34m\u001b[0m\u001b[0m\n\u001b[0m\u001b[1;32m      7\u001b[0m                        if connect >= 0 and connect < len(tokeners)]\n\u001b[1;32m      8\u001b[0m         \u001b[0mkeywords_graph\u001b[0m\u001b[0;34m.\u001b[0m\u001b[0madd_edges_from\u001b[0m\u001b[0;34m(\u001b[0m\u001b[0mword_tuples\u001b[0m\u001b[0;34m)\u001b[0m\u001b[0;34m\u001b[0m\u001b[0m\n",
      "\u001b[0;32m<ipython-input-176-b285888f805a>\u001b[0m in \u001b[0;36m<listcomp>\u001b[0;34m(.0)\u001b[0m\n\u001b[1;32m      5\u001b[0m         word_tuples = [(tokeners[connect].decode('utf-8'), t.decode('utf-8')) \n\u001b[1;32m      6\u001b[0m                        \u001b[0;32mfor\u001b[0m \u001b[0mconnect\u001b[0m \u001b[0;32min\u001b[0m \u001b[0mrange\u001b[0m\u001b[0;34m(\u001b[0m\u001b[0mii\u001b[0m\u001b[0;34m-\u001b[0m\u001b[0mwindow\u001b[0m\u001b[0;34m,\u001b[0m \u001b[0mii\u001b[0m\u001b[0;34m+\u001b[0m\u001b[0mwindow\u001b[0m\u001b[0;34m+\u001b[0m\u001b[0;36m1\u001b[0m\u001b[0;34m)\u001b[0m\u001b[0;34m\u001b[0m\u001b[0m\n\u001b[0;32m----> 7\u001b[0;31m                        if connect >= 0 and connect < len(tokeners)]\n\u001b[0m\u001b[1;32m      8\u001b[0m         \u001b[0mkeywords_graph\u001b[0m\u001b[0;34m.\u001b[0m\u001b[0madd_edges_from\u001b[0m\u001b[0;34m(\u001b[0m\u001b[0mword_tuples\u001b[0m\u001b[0;34m)\u001b[0m\u001b[0;34m\u001b[0m\u001b[0m\n\u001b[1;32m      9\u001b[0m \u001b[0;34m\u001b[0m\u001b[0m\n",
      "\u001b[0;31mAttributeError\u001b[0m: 'str' object has no attribute 'decode'"
     ]
    }
   ],
   "source": [
    "keywords_graph = get_connect_graph_by_text_rank(first_content, window=5)"
   ]
  },
  {
   "cell_type": "code",
   "execution_count": 102,
   "metadata": {},
   "outputs": [],
   "source": [
    "ranking_words = networkx.pagerank(keywords_graph)"
   ]
  },
  {
   "cell_type": "code",
   "execution_count": 96,
   "metadata": {},
   "outputs": [],
   "source": [
    "from matplotlib import rcParams\n",
    "rcParams['font.family'] = '/Users/mqgao/Downloads/SourceHanSerifSC-Regular.otf'"
   ]
  },
  {
   "cell_type": "code",
   "execution_count": 97,
   "metadata": {},
   "outputs": [],
   "source": [
    "%matplotlib inline"
   ]
  },
  {
   "cell_type": "code",
   "execution_count": 181,
   "metadata": {},
   "outputs": [
    {
     "name": "stderr",
     "output_type": "stream",
     "text": [
      "/anaconda3/envs/ibm/lib/python3.6/site-packages/matplotlib/font_manager.py:1328: UserWarning: findfont: Font family ['/Users/mqgao/Downloads/SourceHanSerifSC-Regular.otf'] not found. Falling back to DejaVu Sans\n",
      "  (prop.get_family(), self.defaultFamily[fontext]))\n"
     ]
    },
    {
     "data": {
      "image/png": "[encoded data removed]",
      "text/plain": [
       "<Figure size 432x288 with 1 Axes>"
      ]
     },
     "metadata": {},
     "output_type": "display_data"
    }
   ],
   "source": [
    "networkx.draw_networkx(keywords_graph)"
   ]
  },
  {
   "cell_type": "code",
   "execution_count": 191,
   "metadata": {},
   "outputs": [
    {
     "data": {
      "text/plain": [
       "[('，', 0.04971796909107254),\n",
       " ('的', 0.032169208603727614),\n",
       " ('。', 0.02860228225909264),\n",
       " ('、', 0.02771502328849811),\n",
       " ('骁龙', 0.017759850248184172),\n",
       " ('Windows', 0.015115542829056361),\n",
       " ('10', 0.014661459543306039),\n",
       " ('835', 0.01417195081727616),\n",
       " ('桌面', 0.013938442660657342),\n",
       " ('平台', 0.012843338290542764)]"
      ]
     },
     "execution_count": 191,
     "metadata": {},
     "output_type": "execute_result"
    }
   ],
   "source": [
    "sorted(ranking_words.items(), key=lambda x: x[1], reverse=True)[:10]"
   ]
  },
  {
   "cell_type": "markdown",
   "metadata": {},
   "source": [
    "## Sentence Embedding Based"
   ]
  },
  {
   "cell_type": "code",
   "execution_count": null,
   "metadata": {},
   "outputs": [],
   "source": []
  },
  {
   "cell_type": "code",
   "execution_count": 216,
   "metadata": {},
   "outputs": [
    {
     "data": {
      "text/plain": [
       "0.06041265049289309"
      ]
     },
     "execution_count": 216,
     "metadata": {},
     "output_type": "execute_result"
    }
   ],
   "source": [
    "max(frequence.values())"
   ]
  },
  {
   "cell_type": "code",
   "execution_count": 219,
   "metadata": {},
   "outputs": [
    {
     "data": {
      "text/plain": [
       "True"
      ]
     },
     "execution_count": 219,
     "metadata": {},
     "output_type": "execute_result"
    }
   ],
   "source": [
    "'测试机' in model.wv"
   ]
  },
  {
   "cell_type": "code",
   "execution_count": 221,
   "metadata": {},
   "outputs": [
    {
     "name": "stderr",
     "output_type": "stream",
     "text": [
      "/anaconda3/envs/ibm/lib/python3.6/site-packages/ipykernel_launcher.py:14: DeprecationWarning: Call to deprecated `__contains__` (Method will be removed in 4.0.0, use self.wv.__contains__() instead).\n",
      "  \n"
     ]
    },
    {
     "data": {
      "text/plain": [
       "array([ 0.8209102 ,  0.06840289, -0.53223395, -0.735713  , -0.24113654,\n",
       "       -0.95707494,  0.9833474 , -0.74113065,  0.31412685, -2.0497446 ,\n",
       "        2.0620635 , -1.0265256 ,  1.092847  , -0.853559  , -1.8556648 ,\n",
       "       -0.93276614,  0.2515715 , -1.020293  , -0.05743051, -1.8814358 ,\n",
       "        0.5998357 , -0.06820183,  2.357323  ,  0.83137274, -1.2140547 ,\n",
       "       -3.565163  ,  0.9846055 , -0.77957344, -0.2384383 ,  1.178894  ,\n",
       "       -0.96436185,  3.207032  ,  0.897161  , -0.5350476 ,  0.40027657],\n",
       "      dtype=float32)"
      ]
     },
     "execution_count": 221,
     "metadata": {},
     "output_type": "execute_result"
    }
   ],
   "source": [
    "sentence_embedding('这是 一台 测试机')"
   ]
  },
  {
   "cell_type": "code",
   "execution_count": 347,
   "metadata": {},
   "outputs": [],
   "source": [
    "def sentence_embedding(sentence, cut):\n",
    "    # weight = alpah/(alpah + p) \n",
    "    # alpha is a parameter, 1e-3 ~ 1e-5\n",
    "    alpha = 1e-4\n",
    "    \n",
    "    global frequence\n",
    "    \n",
    "    max_fre = max(frequence.values())\n",
    "    \n",
    "    words = cut(sentence).split()\n",
    "    \n",
    "    sentence_vec = np.zeros_like(model.wv['测试'])\n",
    "    \n",
    "    words = [w for w in words if w in model]\n",
    "    \n",
    "    for w in words:\n",
    "        weight = alpha / (alpha + frequence.get(w, max_fre))\n",
    "        sentence_vec += weight * model.wv[w]\n",
    "    \n",
    "    sentence_vec /= len(words)\n",
    "    # Skip the PCA\n",
    "    return sentence_vec"
   ]
  },
  {
   "cell_type": "markdown",
   "metadata": {},
   "source": [
    "## Treat the whole text as a long sentence.\n",
    "\n",
    "```\n",
    "\n",
    "# 程序伪代码\n",
    "sentence_vector = get_sentence_embedding(text) \n",
    "# sentence vector is represeted as semantic similarity\n",
    "# therefore, sentence vector is representing the whole text semantic infomation.\n",
    "\n",
    "correlations = []\n",
    "\n",
    "for sub_sentence in text:\n",
    "    sub_sen_vec = get_sentence_embedding(sub_sentence)\n",
    "    correlation = similarity(sub_sen_vec, sentence_vector)\n",
    "    correlations.append(correlation)\n",
    "```"
   ]
  },
  {
   "cell_type": "code",
   "execution_count": 225,
   "metadata": {},
   "outputs": [],
   "source": [
    "sharp_news = pure_content.iloc[6]['content']"
   ]
  },
  {
   "cell_type": "code",
   "execution_count": 234,
   "metadata": {},
   "outputs": [],
   "source": [
    "from scipy.spatial.distance import cosine"
   ]
  },
  {
   "cell_type": "code",
   "execution_count": null,
   "metadata": {},
   "outputs": [],
   "source": [
    "def split_sentence(sentence):\n",
    "    pattern = re.compile('[。，,.]：')\n",
    "    split = pattern.sub(' ', sentence).split()  # split sentence\n",
    "    return split"
   ]
  },
  {
   "cell_type": "code",
   "execution_count": 293,
   "metadata": {},
   "outputs": [],
   "source": [
    "def get_corrlations(text, cut_fn):\n",
    "    if isinstance(text, list): text = ' '.join(text)\n",
    "        \n",
    "    sub_sentences = split_sentence(text)\n",
    "    sentence_vector = sentence_embedding(text, cut_fn)\n",
    "        \n",
    "    correlations = {}\n",
    "    \n",
    "    for sub_sentence in sub_sentences:\n",
    "        sub_sen_vec = sentence_embedding(sub_sentence, cut_fn)\n",
    "        correlation = cosine(sentence_vector, sub_sen_vec)\n",
    "        correlations[sub_sentence]= correlation\n",
    "\n",
    "    return sorted(corrlations.items(), key=lambda x: x[1], reverse=True)"
   ]
  },
  {
   "cell_type": "code",
   "execution_count": 294,
   "metadata": {},
   "outputs": [],
   "source": [
    "from functools import partial"
   ]
  },
  {
   "cell_type": "code",
   "execution_count": 296,
   "metadata": {},
   "outputs": [],
   "source": [
    "# f(x, y) \n",
    "#f(x, y=1) # is a partial funtion"
   ]
  },
  {
   "cell_type": "code",
   "execution_count": 297,
   "metadata": {},
   "outputs": [],
   "source": [
    "corrlations_with_global_cut = partial(get_corrlations, cut_fn=cut)\n",
    "corrlations_with_global_cut = partial(get_corrlations, cut_fn=another_cut)"
   ]
  },
  {
   "cell_type": "code",
   "execution_count": null,
   "metadata": {},
   "outputs": [],
   "source": [
    "def new_summarization_algorithm(): pass"
   ]
  },
  {
   "cell_type": "code",
   "execution_count": 275,
   "metadata": {},
   "outputs": [
    {
     "name": "stdout",
     "output_type": "stream",
     "text": [
      "Help on function get_summarization_simple in module __main__:\n",
      "\n",
      "get_summarization_simple(text, score_fn, constraint=200)\n",
      "\n"
     ]
    }
   ],
   "source": [
    "help(get_summarization_simple)"
   ]
  },
  {
   "cell_type": "code",
   "execution_count": null,
   "metadata": {},
   "outputs": [],
   "source": [
    "def get_summarization_simple(text, score_fn, constraint=200):\n",
    "    sub_sentence = split_sentence(text)\n",
    "    ranking_sentence = score_fn(sub_sentence)\n",
    "    selected_text = set()\n",
    "    current_text = ''\n",
    "    \n",
    "    for sen, _ in ranking_sentence:\n",
    "        if len(current_text) < constraint:\n",
    "            current_text += sen\n",
    "            selected_text.add(sen)\n",
    "        else:\n",
    "            break\n",
    "\n",
    "    summarized = []\n",
    "    for sen in sub_sentence:  # print the selected sentence by sequent\n",
    "        if sen in selected_text:\n",
    "            summarized.append(sen)\n",
    "    return summarized"
   ]
  },
  {
   "cell_type": "code",
   "execution_count": 298,
   "metadata": {},
   "outputs": [],
   "source": [
    "def get_summarization_simple_by_sen_embedding(text, constraint=200):\n",
    "    return get_summarization_simple(text, corrlations_with_global_cut, constraint)"
   ]
  },
  {
   "cell_type": "code",
   "execution_count": 301,
   "metadata": {},
   "outputs": [
    {
     "name": "stderr",
     "output_type": "stream",
     "text": [
      "/anaconda3/envs/ibm/lib/python3.6/site-packages/ipykernel_launcher.py:14: DeprecationWarning: Call to deprecated `__contains__` (Method will be removed in 4.0.0, use self.wv.__contains__() instead).\n",
      "  \n"
     ]
    },
    {
     "data": {
      "text/plain": [
       "'2013 年退出中国市场，但是今年 3 近日，一款型号为 FS8016 的夏普神秘新机悄然出现在 GeekBench 660 处理器，配备有 4GB 660 14 纳米工艺，八个 Kryo 260 核心设计，集成 Adreno 512 GPU 和 X12 LTE 调制解调器。 660 OPPO R11。骁龙 660 820 OPPO 与高通签署了排他性协议，可以独占两三个月时间。 660 2013 年推出全球首款全面屏手机 EDGEST 302SH 28 在 5 月份的媒体沟通会上，惠普罗忠生表示：“我敢打赌，12'"
      ]
     },
     "execution_count": 301,
     "metadata": {},
     "output_type": "execute_result"
    }
   ],
   "source": [
    "' '.join(get_summarization_simple_by_sen_embedding(sharp_news, constraint=200))"
   ]
  },
  {
   "cell_type": "code",
   "execution_count": 308,
   "metadata": {},
   "outputs": [],
   "source": [
    "danger_news = pure_content.iloc[4]['content']"
   ]
  },
  {
   "cell_type": "code",
   "execution_count": 343,
   "metadata": {},
   "outputs": [],
   "source": [
    "def get_sequent_correlation(text):\n",
    "    sub_sentence = split_sentence(text)\n",
    "    corrleations = corrlations_with_global_cut(sub_sentence)\n",
    "    correlation_with_sequent = [(sen, corrlations[sen]) for sen in sub_sentence]\n",
    "    return correlation_with_sequent"
   ]
  },
  {
   "cell_type": "code",
   "execution_count": 344,
   "metadata": {},
   "outputs": [
    {
     "name": "stderr",
     "output_type": "stream",
     "text": [
      "/anaconda3/envs/ibm/lib/python3.6/site-packages/ipykernel_launcher.py:14: DeprecationWarning: Call to deprecated `__contains__` (Method will be removed in 4.0.0, use self.wv.__contains__() instead).\n",
      "  \n"
     ]
    },
    {
     "data": {
      "text/plain": [
       "[('虽然至今夏普智能手机在市场上无法排得上号，已经完全没落，并于', 0.12964648008346558),\n",
       " ('2013', 0.799274817109108),\n",
       " ('年退出中国市场，但是今年', 0.30392885208129883),\n",
       " ('3', 1.0643607676029205),\n",
       " ('月份官方突然宣布回归中国，预示着很快就有夏普新机在中国登场了。那么，第一款夏普手机什么时候登陆中国呢？又会是怎么样的手机呢？',\n",
       "  0.12079513072967529),\n",
       " ('近日，一款型号为', 0.24997162818908691),\n",
       " ('FS8016', 1.0181109383702278),\n",
       " ('的夏普神秘新机悄然出现在', 0.19331711530685425),\n",
       " ('GeekBench', 1.0206618532538414),\n",
       " ('的跑分库上。从其中相关信息了解到，这款机子并非旗舰定位，所搭载的是高通骁龙', 0.04037266969680786),\n",
       " ('660', 0.8802495077252388),\n",
       " ('处理器，配备有', 0.2487751841545105),\n",
       " ('4GB', 0.8022160232067108),\n",
       " ('的内存。骁龙', 0.1610603928565979),\n",
       " ('660', 0.8802495077252388),\n",
       " ('是高通今年最受瞩目的芯片之一，采用', 0.1596813201904297),\n",
       " ('14', 1.0912874341011047),\n",
       " ('纳米工艺，八个', 0.20669978857040405),\n",
       " ('Kryo', 1.261707752943039),\n",
       " ('260', 0.9195282161235809),\n",
       " ('核心设计，集成', 0.2239118218421936),\n",
       " ('Adreno', 1.0604844614863396),\n",
       " ('512', 0.9973529151175171),\n",
       " ('GPU', 0.6360308527946472),\n",
       " ('和', 0.5902390778064728),\n",
       " ('X12', 1.0669185444712639),\n",
       " ('LTE', 0.6847786903381348),\n",
       " ('调制解调器。', 0.4060221314430237),\n",
       " ('当前市面上只有一款机子采用了骁龙', 0.17805546522140503),\n",
       " ('660', 0.8802495077252388),\n",
       " ('处理器，那就是已经上市销售的', 0.055647075176239014),\n",
       " ('OPPO', 0.7231224775314331),\n",
       " ('R11。骁龙', 0.38088226318359375),\n",
       " ('660', 0.8802495077252388),\n",
       " ('尽管并非旗舰芯片，但在多核新能上比去年骁龙', 0.16877931356430054),\n",
       " ('820', 0.9291320592164993),\n",
       " ('强，单核改进也很明显，所以放在今年仍可以让很多手机变成高端机。不过，由于', 0.09469187259674072),\n",
       " ('OPPO', 0.7231224775314331),\n",
       " ('与高通签署了排他性协议，可以独占两三个月时间。', 0.2567896246910095),\n",
       " ('考虑到夏普既然开始测试新机了，说明只要等独占时期一过，夏普就能发布骁龙', 0.07963865995407104),\n",
       " ('660', 0.8802495077252388),\n",
       " ('新品了。按照之前被曝光的渲染图了解，夏普的新机核心竞争优势还是全面屏，因为从', 0.040095508098602295),\n",
       " ('2013', 0.799274817109108),\n",
       " ('年推出全球首款全面屏手机', 0.5124390721321106),\n",
       " ('EDGEST', 1.1215405240654945),\n",
       " ('302SH', 0.9462662227451801),\n",
       " ('至今，夏普手机推出了多达', 0.13676100969314575),\n",
       " ('28', 1.1545579135417938),\n",
       " ('款的全面屏手机。', 0.11287486553192139),\n",
       " ('在', 0.4273228049278259),\n",
       " ('5', 1.174242302775383),\n",
       " ('月份的媒体沟通会上，惠普罗忠生表示：“我敢打赌，12', 0.1848764419555664),\n",
       " ('个月之后，在座的各位手机都会换掉。因为全面屏时代的到来，我们怀揣的手机都将成为传统手机。”', 0.045291781425476074)]"
      ]
     },
     "execution_count": 344,
     "metadata": {},
     "output_type": "execute_result"
    }
   ],
   "source": [
    "sub_sentence = get_sequent_correlation(sharp_news)\n",
    "sub_sentence"
   ]
  },
  {
   "cell_type": "code",
   "execution_count": 345,
   "metadata": {},
   "outputs": [
    {
     "data": {
      "text/plain": [
       "[<matplotlib.lines.Line2D at 0x1406251d0>]"
      ]
     },
     "execution_count": 345,
     "metadata": {},
     "output_type": "execute_result"
    },
    {
     "name": "stderr",
     "output_type": "stream",
     "text": [
      "/anaconda3/envs/ibm/lib/python3.6/site-packages/matplotlib/font_manager.py:1328: UserWarning: findfont: Font family ['/Users/mqgao/Downloads/SourceHanSerifSC-Regular.otf'] not found. Falling back to DejaVu Sans\n",
      "  (prop.get_family(), self.defaultFamily[fontext]))\n"
     ]
    },
    {
     "data": {
      "image/png": "[encoded data removed]",
      "text/plain": [
       "<Figure size 432x288 with 1 Axes>"
      ]
     },
     "metadata": {},
     "output_type": "display_data"
    }
   ],
   "source": [
    "plt.plot(range(len(sub_sentence)), [y for _, y in correlation_with_sequent])"
   ]
  },
  {
   "cell_type": "code",
   "execution_count": 324,
   "metadata": {},
   "outputs": [
    {
     "name": "stderr",
     "output_type": "stream",
     "text": [
      "/anaconda3/envs/ibm/lib/python3.6/site-packages/ipykernel_launcher.py:14: DeprecationWarning: Call to deprecated `__contains__` (Method will be removed in 4.0.0, use self.wv.__contains__() instead).\n",
      "  \n"
     ]
    }
   ],
   "source": [
    "sub_seq_of_danger = get_sequent_correlation(danger_news)"
   ]
  },
  {
   "cell_type": "code",
   "execution_count": 325,
   "metadata": {},
   "outputs": [
    {
     "data": {
      "text/plain": [
       "[]"
      ]
     },
     "execution_count": 325,
     "metadata": {},
     "output_type": "execute_result"
    }
   ],
   "source": [
    "sub_seq_of_danger"
   ]
  },
  {
   "cell_type": "code",
   "execution_count": 322,
   "metadata": {},
   "outputs": [
    {
     "data": {
      "text/plain": [
       "[<matplotlib.lines.Line2D at 0x140f9cf28>]"
      ]
     },
     "execution_count": 322,
     "metadata": {},
     "output_type": "execute_result"
    },
    {
     "name": "stderr",
     "output_type": "stream",
     "text": [
      "/anaconda3/envs/ibm/lib/python3.6/site-packages/matplotlib/font_manager.py:1328: UserWarning: findfont: Font family ['/Users/mqgao/Downloads/SourceHanSerifSC-Regular.otf'] not found. Falling back to DejaVu Sans\n",
      "  (prop.get_family(), self.defaultFamily[fontext]))\n"
     ]
    },
    {
     "data": {
      "image/png": "[encoded data removed]",
      "text/plain": [
       "<Figure size 432x288 with 1 Axes>"
      ]
     },
     "metadata": {},
     "output_type": "display_data"
    }
   ],
   "source": [
    "plt.plot(range(len(sub_seq_of_danger)), [y for _, y in sub_seq_of_danger])"
   ]
  },
  {
   "cell_type": "markdown",
   "metadata": {},
   "source": [
    "## Supplementary\n",
    "\n",
    "这些对TextRank和Sentence Emebdding都是有效用的。 \n",
    "\n",
    "### 1. KNN make it more fluently\n",
    "> 对于一个sub_sentence来说，它的重要性，取决于他本身的重要性和周围的句子(neighbors)的重要性的综合；\n",
    "### 2. Title is very important is it exists\n",
    "> 如果一个文章有标题，那么，其实这个标题已经包含了很多它的摘要信息， 在考虑语义建模的时候，就应该对标题更加重要的考虑；\n",
    "### 3. The keywords count; \n",
    "> 关键字是很重要的，如果我们能够比较准确的提取出来关键词/字，然后对关键字/词包含的句子增加其权重； \n",
    "### 4. Position counts;\n",
    "> 对于一些文本，文章，例如一个故事的这种文章，那么他的textRank， sentence embedding 会发现，并不会出现很明显有些句子是重要的，有些句子不重要的，如果plot他的曲线的话，我们这个时候就要考虑他的位置，开头，结尾，增加一些权重；\n",
    "### 5. Topics count; \n",
    "> LDA主题模型，得到的主题分布，我们可以用每句话和的出来的这些主题进行相似度对比，我们不仅仅是是考虑他的整个的text， 我们还有考虑主题；\n",
    "\n"
   ]
  },
  {
   "cell_type": "code",
   "execution_count": 246,
   "metadata": {},
   "outputs": [
    {
     "name": "stderr",
     "output_type": "stream",
     "text": [
      "/anaconda3/envs/ibm/lib/python3.6/site-packages/ipykernel_launcher.py:14: DeprecationWarning: Call to deprecated `__contains__` (Method will be removed in 4.0.0, use self.wv.__contains__() instead).\n",
      "  \n"
     ]
    }
   ],
   "source": [
    "corrlations = get_corrlations(sharp_news, cut)"
   ]
  },
  {
   "cell_type": "code",
   "execution_count": null,
   "metadata": {},
   "outputs": [],
   "source": [
    "get_summarization_simple()"
   ]
  },
  {
   "cell_type": "code",
   "execution_count": 248,
   "metadata": {},
   "outputs": [
    {
     "data": {
      "text/plain": [
       "[('Kryo', 1.261707752943039),\n",
       " ('5', 1.174242302775383),\n",
       " ('28', 1.1545579135417938),\n",
       " ('EDGEST', 1.1215405240654945),\n",
       " ('14', 1.0912874341011047),\n",
       " ('X12', 1.0669185444712639),\n",
       " ('3', 1.0643607676029205),\n",
       " ('Adreno', 1.0604844614863396),\n",
       " ('GeekBench', 1.0206618532538414),\n",
       " ('FS8016', 1.0181109383702278),\n",
       " ('512', 0.9973529151175171),\n",
       " ('302SH', 0.9462662227451801),\n",
       " ('820', 0.9291320592164993),\n",
       " ('260', 0.9195282161235809),\n",
       " ('660', 0.8802495077252388),\n",
       " ('4GB', 0.8022160232067108),\n",
       " ('2013', 0.799274817109108),\n",
       " ('OPPO', 0.7231224775314331),\n",
       " ('LTE', 0.6847786903381348),\n",
       " ('GPU', 0.6360308527946472),\n",
       " ('和', 0.5902390778064728),\n",
       " ('年推出全球首款全面屏手机', 0.5124390721321106),\n",
       " ('在', 0.4273228049278259),\n",
       " ('调制解调器。', 0.4060221314430237),\n",
       " ('R11。骁龙', 0.38088226318359375),\n",
       " ('年退出中国市场，但是今年', 0.30392885208129883),\n",
       " ('与高通签署了排他性协议，可以独占两三个月时间。', 0.2567896246910095),\n",
       " ('近日，一款型号为', 0.24997162818908691),\n",
       " ('处理器，配备有', 0.2487751841545105),\n",
       " ('核心设计，集成', 0.2239118218421936),\n",
       " ('纳米工艺，八个', 0.20669978857040405),\n",
       " ('的夏普神秘新机悄然出现在', 0.19331711530685425),\n",
       " ('月份的媒体沟通会上，惠普罗忠生表示：“我敢打赌，12', 0.1848764419555664),\n",
       " ('当前市面上只有一款机子采用了骁龙', 0.17805546522140503),\n",
       " ('尽管并非旗舰芯片，但在多核新能上比去年骁龙', 0.16877931356430054),\n",
       " ('的内存。骁龙', 0.1610603928565979),\n",
       " ('是高通今年最受瞩目的芯片之一，采用', 0.1596813201904297),\n",
       " ('至今，夏普手机推出了多达', 0.13676100969314575),\n",
       " ('虽然至今夏普智能手机在市场上无法排得上号，已经完全没落，并于', 0.12964648008346558),\n",
       " ('月份官方突然宣布回归中国，预示着很快就有夏普新机在中国登场了。那么，第一款夏普手机什么时候登陆中国呢？又会是怎么样的手机呢？',\n",
       "  0.12079513072967529),\n",
       " ('款的全面屏手机。', 0.11287486553192139),\n",
       " ('强，单核改进也很明显，所以放在今年仍可以让很多手机变成高端机。不过，由于', 0.09469187259674072),\n",
       " ('考虑到夏普既然开始测试新机了，说明只要等独占时期一过，夏普就能发布骁龙', 0.07963865995407104),\n",
       " ('处理器，那就是已经上市销售的', 0.055647075176239014),\n",
       " ('个月之后，在座的各位手机都会换掉。因为全面屏时代的到来，我们怀揣的手机都将成为传统手机。”', 0.045291781425476074),\n",
       " ('的跑分库上。从其中相关信息了解到，这款机子并非旗舰定位，所搭载的是高通骁龙', 0.04037266969680786),\n",
       " ('新品了。按照之前被曝光的渲染图了解，夏普的新机核心竞争优势还是全面屏，因为从', 0.040095508098602295)]"
      ]
     },
     "execution_count": 248,
     "metadata": {},
     "output_type": "execute_result"
    }
   ],
   "source": []
  },
  {
   "cell_type": "code",
   "execution_count": 231,
   "metadata": {},
   "outputs": [
    {
     "data": {
      "text/plain": [
       "'虽然至今夏普智能手机在市场上无法排得上号，已经完全没落，并于 2013 年退出中国市场，但是今年 3 月份官方突然宣布回归中国，预示着很快就有夏普新机在中国登场了。那么，第一款夏普手机什么时候登陆中国呢？又会是怎么样的手机呢？\\r\\n近日，一款型号为 FS8016 的夏普神秘新机悄然出现在 GeekBench 的跑分库上。从其中相关信息了解到，这款机子并非旗舰定位，所搭载的是高通骁龙 660 处理器，配备有 4GB 的内存。骁龙 660 是高通今年最受瞩目的芯片之一，采用 14 纳米工艺，八个 Kryo 260 核心设计，集成 Adreno 512 GPU 和 X12 LTE 调制解调器。\\r\\n当前市面上只有一款机子采用了骁龙 660 处理器，那就是已经上市销售的 OPPO R11。骁龙 660 尽管并非旗舰芯片，但在多核新能上比去年骁龙 820 强，单核改进也很明显，所以放在今年仍可以让很多手机变成高端机。不过，由于 OPPO 与高通签署了排他性协议，可以独占两三个月时间。\\r\\n考虑到夏普既然开始测试新机了，说明只要等独占时期一过，夏普就能发布骁龙 660 新品了。按照之前被曝光的渲染图了解，夏普的新机核心竞争优势还是全面屏，因为从 2013 年推出全球首款全面屏手机 EDGEST 302SH 至今，夏普手机推出了多达 28 款的全面屏手机。\\r\\n在 5 月份的媒体沟通会上，惠普罗忠生表示：“我敢打赌，12 个月之后，在座的各位手机都会换掉。因为全面屏时代的到来，我们怀揣的手机都将成为传统手机。”\\r\\n'"
      ]
     },
     "execution_count": 231,
     "metadata": {},
     "output_type": "execute_result"
    }
   ],
   "source": [
    "sharp_news"
   ]
  },
  {
   "cell_type": "code",
   "execution_count": 230,
   "metadata": {},
   "outputs": [
    {
     "data": {
      "text/plain": [
       "['虽然至今夏普智能手机在市场上无法排得上号，已经完全没落，并于',\n",
       " '2013',\n",
       " '年退出中国市场，但是今年',\n",
       " '3',\n",
       " '月份官方突然宣布回归中国，预示着很快就有夏普新机在中国登场了。那么，第一款夏普手机什么时候登陆中国呢？又会是怎么样的手机呢？',\n",
       " '近日，一款型号为',\n",
       " 'FS8016',\n",
       " '的夏普神秘新机悄然出现在',\n",
       " 'GeekBench',\n",
       " '的跑分库上。从其中相关信息了解到，这款机子并非旗舰定位，所搭载的是高通骁龙',\n",
       " '660',\n",
       " '处理器，配备有',\n",
       " '4GB',\n",
       " '的内存。骁龙',\n",
       " '660',\n",
       " '是高通今年最受瞩目的芯片之一，采用',\n",
       " '14',\n",
       " '纳米工艺，八个',\n",
       " 'Kryo',\n",
       " '260',\n",
       " '核心设计，集成',\n",
       " 'Adreno',\n",
       " '512',\n",
       " 'GPU',\n",
       " '和',\n",
       " 'X12',\n",
       " 'LTE',\n",
       " '调制解调器。',\n",
       " '当前市面上只有一款机子采用了骁龙',\n",
       " '660',\n",
       " '处理器，那就是已经上市销售的',\n",
       " 'OPPO',\n",
       " 'R11。骁龙',\n",
       " '660',\n",
       " '尽管并非旗舰芯片，但在多核新能上比去年骁龙',\n",
       " '820',\n",
       " '强，单核改进也很明显，所以放在今年仍可以让很多手机变成高端机。不过，由于',\n",
       " 'OPPO',\n",
       " '与高通签署了排他性协议，可以独占两三个月时间。',\n",
       " '考虑到夏普既然开始测试新机了，说明只要等独占时期一过，夏普就能发布骁龙',\n",
       " '660',\n",
       " '新品了。按照之前被曝光的渲染图了解，夏普的新机核心竞争优势还是全面屏，因为从',\n",
       " '2013',\n",
       " '年推出全球首款全面屏手机',\n",
       " 'EDGEST',\n",
       " '302SH',\n",
       " '至今，夏普手机推出了多达',\n",
       " '28',\n",
       " '款的全面屏手机。',\n",
       " '在',\n",
       " '5',\n",
       " '月份的媒体沟通会上，惠普罗忠生表示：“我敢打赌，12',\n",
       " '个月之后，在座的各位手机都会换掉。因为全面屏时代的到来，我们怀揣的手机都将成为传统手机。”']"
      ]
     },
     "execution_count": 230,
     "metadata": {},
     "output_type": "execute_result"
    }
   ],
   "source": []
  }
 ],
 "metadata": {
  "kernelspec": {
   "display_name": "Python 3",
   "language": "python",
   "name": "python3"
  },
  "language_info": {
   "codemirror_mode": {
    "name": "ipython",
    "version": 3
   },
   "file_extension": ".py",
   "mimetype": "text/x-python",
   "name": "python",
   "nbconvert_exporter": "python",
   "pygments_lexer": "ipython3",
   "version": "3.7.3"
  },
  "toc": {
   "base_numbering": 1,
   "nav_menu": {},
   "number_sections": true,
   "sideBar": true,
   "skip_h1_title": false,
   "title_cell": "Table of Contents",
   "title_sidebar": "Contents",
   "toc_cell": false,
   "toc_position": {},
   "toc_section_display": true,
   "toc_window_display": false
  }
 },
 "nbformat": 4,
 "nbformat_minor": 2
}
