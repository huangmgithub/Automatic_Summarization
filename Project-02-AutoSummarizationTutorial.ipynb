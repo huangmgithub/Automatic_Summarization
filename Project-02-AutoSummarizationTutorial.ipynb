{
 "cells": [
  {
   "cell_type": "markdown",
   "metadata": {},
   "source": [
    "## Environment\n",
    "+ Pycharm\n",
    "+ python3.6\n",
    "+ networkx\n",
    "+ jieba\n",
    "+ numpy, pandas, matplotlib\n",
    "+ gensim"
   ]
  },
  {
   "cell_type": "markdown",
   "metadata": {},
   "source": [
    "## References"
   ]
  },
  {
   "cell_type": "markdown",
   "metadata": {},
   "source": [
    "+ https://nlp.stanford.edu/pubs/see2017get.pdf\n",
    "+ https://web.eecs.umich.edu/~mihalcea/papers/mihalcea.emnlp04.pdf\n",
    "+ https://openreview.net/pdf?id=SyK00v5xx\n",
    "+ https://arxiv.org/abs/1409.0473\n",
    "+ "
   ]
  },
  {
   "cell_type": "markdown",
   "metadata": {},
   "source": [
    "## Background Knowledge"
   ]
  },
  {
   "cell_type": "markdown",
   "metadata": {},
   "source": [
    "Q1. 简述自动摘要技术的三个应用场景？"
   ]
  },
  {
   "cell_type": "markdown",
   "metadata": {},
   "source": [
    "回答："
   ]
  },
  {
   "cell_type": "markdown",
   "metadata": {},
   "source": [
    "##### 提示，如果需要帮助，可以运行以下的提示"
   ]
  },
  {
   "cell_type": "code",
   "execution_count": 1,
   "metadata": {},
   "outputs": [],
   "source": [
    "# remove the # before hint(), to show the example sulution\n",
    "#hint('a.641c.7d22.5f15.64ce.ff1b.a.32.2e.20.89c2.70b9.62bd.53d6.ff1b.a.33.2e.20.65b0.95fb.ff1b.a.34.2e.20.6c47.62a5.6587.6863.a')"
   ]
  },
  {
   "cell_type": "markdown",
   "metadata": {},
   "source": [
    "Q2. 目前的摘要技术分为哪两类？"
   ]
  },
  {
   "cell_type": "markdown",
   "metadata": {},
   "source": [
    "回答："
   ]
  },
  {
   "cell_type": "code",
   "execution_count": 2,
   "metadata": {},
   "outputs": [],
   "source": [
    "#hint('a.6458.8981.20.41.62.73.74.72.61.63.74.69.76.65.3a.20.91cd.65b0.6574.7406.4fe1.606f.a.62bd.53d6.20.45.78.74.72.61.63.74.69.76.65.3a.20.4ece.539f.6587.4e2d.63d0.53d6.90e8.5206.a')"
   ]
  },
  {
   "cell_type": "markdown",
   "metadata": {},
   "source": [
    "Q3. 目前实现自动摘要的难点在哪里？列出三点。"
   ]
  },
  {
   "cell_type": "markdown",
   "metadata": {},
   "source": [
    "回答："
   ]
  },
  {
   "cell_type": "code",
   "execution_count": 3,
   "metadata": {},
   "outputs": [],
   "source": [
    "#hint('a.31.2e.20.7f3a.4e4f.6807.6ce8.8bad.7ec3.6570.636e.ff1b.a.32.2e.20.57fa.4e8e.6587.672c.7406.89e3.ff0c.63d0.53d6.91cd.8981.5185.5bb9.96be.ff1b.a.33.2e.20.4eba.7c7b.5bf9.6587.672c.903b.8f91.654f.611f.ff0c.6458.8981.7ed3.679c.5bb9.9519.7387.4f4e.a')"
   ]
  },
  {
   "cell_type": "markdown",
   "metadata": {},
   "source": [
    "## Basic Technologies"
   ]
  },
  {
   "cell_type": "markdown",
   "metadata": {},
   "source": [
    "Q4. 什么是PageRank？ PageRank 用在什么地方？用 $Latex$ 写出其方程"
   ]
  },
  {
   "cell_type": "markdown",
   "metadata": {},
   "source": [
    "回答： "
   ]
  },
  {
   "cell_type": "code",
   "execution_count": 4,
   "metadata": {},
   "outputs": [],
   "source": [
    "#hint('a.31.2e.20.65b9.7a0b.3a.a.20.20.20.20.50.52.28.70.5f.69.29.20.3d.20.a.72.61.63.7b.31.2d.64.7d.7b.4e.7d.20.2b.20.64.20.5c.73.75.6d.5f.7b.70.5f.6a.20.5c.69.6e.20.4d.28.70.5f.69.29.7d.20.a.72.61.63.7b.50.52.20.28.70.5f.6a.29.7d.7b.4c.28.70.5f.6a.29.7d.a.32.2e.20.53c2.8003.ff1a.a.20.20.20.20.68.74.74.70.73.3a.2f.2f.77.77.77.2e.77.69.6b.69.77.61.6e.64.2e.63.6f.6d.2f.65.6e.2f.50.61.67.65.52.61.6e.6b.a')"
   ]
  },
  {
   "cell_type": "markdown",
   "metadata": {},
   "source": [
    "Q5. PageRank和TextRank的关系是什么，TextRank的背景原理是什么？ "
   ]
  },
  {
   "cell_type": "markdown",
   "metadata": {},
   "source": [
    "回答："
   ]
  },
  {
   "cell_type": "code",
   "execution_count": 5,
   "metadata": {},
   "outputs": [],
   "source": [
    "#hint('a.53c2.8003.8bba.6587.ff1a.20.68.74.74.70.73.3a.2f.2f.77.65.62.2e.65.65.63.73.2e.75.6d.69.63.68.2e.65.64.75.2f.7e.6d.69.68.61.6c.63.65.61.2f.70.61.70.65.72.73.2f.6d.69.68.61.6c.63.65.61.2e.65.6d.6e.6c.70.30.34.2e.70.64.66.a')"
   ]
  },
  {
   "cell_type": "markdown",
   "metadata": {},
   "source": [
    "Q6. 在存在大量原始文本以及该文本对应的摘要内容时，我们是否可以使用 Seq2Seq 进行生成？ Sequence2Sequence的原理是什么？ Attention的机制原理是什么？ "
   ]
  },
  {
   "cell_type": "markdown",
   "metadata": {},
   "source": [
    "### Extractive, Abstractive \n",
    "+ Extractive是从文中找出关键信息，然后拼接进行结果输出\n",
    "    + 确定重要信息\n",
    "+ Abstracrtive: 依据文本的输入，生产单词（可能是新的单词）进行结果输出\n",
    "    + Seq2Seq的问题\n",
    "    + Transfomer"
   ]
  },
  {
   "cell_type": "markdown",
   "metadata": {},
   "source": [
    "## Data Pipeline"
   ]
  },
  {
   "cell_type": "markdown",
   "metadata": {},
   "source": [
    "我们首先加载数据"
   ]
  },
  {
   "cell_type": "code",
   "execution_count": 6,
   "metadata": {},
   "outputs": [],
   "source": [
    "import pandas as pd\n",
    "import numpy as np\n",
    "import jieba\n",
    "import os\n",
    "\n",
    "def cut(string): return ' '.join(jieba.cut(string))\n",
    "path_root = '~/Downloads'\n",
    "news_file = os.path.join(path_root, 'sqlResult_1558435.csv') \n",
    "# this file could downloaded from github group's : \n",
    "#  https://github.com/Artificial-Intelligence-for-NLP-Chinese/datasource "
   ]
  },
  {
   "cell_type": "code",
   "execution_count": 7,
   "metadata": {},
   "outputs": [
    {
     "ename": "FileNotFoundError",
     "evalue": "[Errno 2] File b'C:\\\\Users\\\\huangm/Downloads\\\\sqlResult_1558435.csv' does not exist: b'C:\\\\Users\\\\huangm/Downloads\\\\sqlResult_1558435.csv'",
     "output_type": "error",
     "traceback": [
      "\u001b[1;31m---------------------------------------------------------------------------\u001b[0m",
      "\u001b[1;31mFileNotFoundError\u001b[0m                         Traceback (most recent call last)",
      "\u001b[1;32m<ipython-input-7-e409d64cb5a8>\u001b[0m in \u001b[0;36m<module>\u001b[1;34m\u001b[0m\n\u001b[1;32m----> 1\u001b[1;33m \u001b[0mnews_content\u001b[0m \u001b[1;33m=\u001b[0m \u001b[0mpd\u001b[0m\u001b[1;33m.\u001b[0m\u001b[0mread_csv\u001b[0m\u001b[1;33m(\u001b[0m\u001b[0mnews_file\u001b[0m\u001b[1;33m,\u001b[0m \u001b[0mencoding\u001b[0m\u001b[1;33m=\u001b[0m\u001b[1;34m'gb18030'\u001b[0m\u001b[1;33m)\u001b[0m\u001b[1;33m\u001b[0m\u001b[1;33m\u001b[0m\u001b[0m\n\u001b[0m\u001b[0;32m      2\u001b[0m \u001b[0mnews_content\u001b[0m\u001b[1;33m.\u001b[0m\u001b[0mhead\u001b[0m\u001b[1;33m(\u001b[0m\u001b[1;33m)\u001b[0m\u001b[1;33m\u001b[0m\u001b[1;33m\u001b[0m\u001b[0m\n",
      "\u001b[1;32mF:\\Anaconda3\\lib\\site-packages\\pandas\\io\\parsers.py\u001b[0m in \u001b[0;36mparser_f\u001b[1;34m(filepath_or_buffer, sep, delimiter, header, names, index_col, usecols, squeeze, prefix, mangle_dupe_cols, dtype, engine, converters, true_values, false_values, skipinitialspace, skiprows, skipfooter, nrows, na_values, keep_default_na, na_filter, verbose, skip_blank_lines, parse_dates, infer_datetime_format, keep_date_col, date_parser, dayfirst, iterator, chunksize, compression, thousands, decimal, lineterminator, quotechar, quoting, doublequote, escapechar, comment, encoding, dialect, tupleize_cols, error_bad_lines, warn_bad_lines, delim_whitespace, low_memory, memory_map, float_precision)\u001b[0m\n\u001b[0;32m    700\u001b[0m                     skip_blank_lines=skip_blank_lines)\n\u001b[0;32m    701\u001b[0m \u001b[1;33m\u001b[0m\u001b[0m\n\u001b[1;32m--> 702\u001b[1;33m         \u001b[1;32mreturn\u001b[0m \u001b[0m_read\u001b[0m\u001b[1;33m(\u001b[0m\u001b[0mfilepath_or_buffer\u001b[0m\u001b[1;33m,\u001b[0m \u001b[0mkwds\u001b[0m\u001b[1;33m)\u001b[0m\u001b[1;33m\u001b[0m\u001b[1;33m\u001b[0m\u001b[0m\n\u001b[0m\u001b[0;32m    703\u001b[0m \u001b[1;33m\u001b[0m\u001b[0m\n\u001b[0;32m    704\u001b[0m     \u001b[0mparser_f\u001b[0m\u001b[1;33m.\u001b[0m\u001b[0m__name__\u001b[0m \u001b[1;33m=\u001b[0m \u001b[0mname\u001b[0m\u001b[1;33m\u001b[0m\u001b[1;33m\u001b[0m\u001b[0m\n",
      "\u001b[1;32mF:\\Anaconda3\\lib\\site-packages\\pandas\\io\\parsers.py\u001b[0m in \u001b[0;36m_read\u001b[1;34m(filepath_or_buffer, kwds)\u001b[0m\n\u001b[0;32m    427\u001b[0m \u001b[1;33m\u001b[0m\u001b[0m\n\u001b[0;32m    428\u001b[0m     \u001b[1;31m# Create the parser.\u001b[0m\u001b[1;33m\u001b[0m\u001b[1;33m\u001b[0m\u001b[1;33m\u001b[0m\u001b[0m\n\u001b[1;32m--> 429\u001b[1;33m     \u001b[0mparser\u001b[0m \u001b[1;33m=\u001b[0m \u001b[0mTextFileReader\u001b[0m\u001b[1;33m(\u001b[0m\u001b[0mfilepath_or_buffer\u001b[0m\u001b[1;33m,\u001b[0m \u001b[1;33m**\u001b[0m\u001b[0mkwds\u001b[0m\u001b[1;33m)\u001b[0m\u001b[1;33m\u001b[0m\u001b[1;33m\u001b[0m\u001b[0m\n\u001b[0m\u001b[0;32m    430\u001b[0m \u001b[1;33m\u001b[0m\u001b[0m\n\u001b[0;32m    431\u001b[0m     \u001b[1;32mif\u001b[0m \u001b[0mchunksize\u001b[0m \u001b[1;32mor\u001b[0m \u001b[0miterator\u001b[0m\u001b[1;33m:\u001b[0m\u001b[1;33m\u001b[0m\u001b[1;33m\u001b[0m\u001b[0m\n",
      "\u001b[1;32mF:\\Anaconda3\\lib\\site-packages\\pandas\\io\\parsers.py\u001b[0m in \u001b[0;36m__init__\u001b[1;34m(self, f, engine, **kwds)\u001b[0m\n\u001b[0;32m    893\u001b[0m             \u001b[0mself\u001b[0m\u001b[1;33m.\u001b[0m\u001b[0moptions\u001b[0m\u001b[1;33m[\u001b[0m\u001b[1;34m'has_index_names'\u001b[0m\u001b[1;33m]\u001b[0m \u001b[1;33m=\u001b[0m \u001b[0mkwds\u001b[0m\u001b[1;33m[\u001b[0m\u001b[1;34m'has_index_names'\u001b[0m\u001b[1;33m]\u001b[0m\u001b[1;33m\u001b[0m\u001b[1;33m\u001b[0m\u001b[0m\n\u001b[0;32m    894\u001b[0m \u001b[1;33m\u001b[0m\u001b[0m\n\u001b[1;32m--> 895\u001b[1;33m         \u001b[0mself\u001b[0m\u001b[1;33m.\u001b[0m\u001b[0m_make_engine\u001b[0m\u001b[1;33m(\u001b[0m\u001b[0mself\u001b[0m\u001b[1;33m.\u001b[0m\u001b[0mengine\u001b[0m\u001b[1;33m)\u001b[0m\u001b[1;33m\u001b[0m\u001b[1;33m\u001b[0m\u001b[0m\n\u001b[0m\u001b[0;32m    896\u001b[0m \u001b[1;33m\u001b[0m\u001b[0m\n\u001b[0;32m    897\u001b[0m     \u001b[1;32mdef\u001b[0m \u001b[0mclose\u001b[0m\u001b[1;33m(\u001b[0m\u001b[0mself\u001b[0m\u001b[1;33m)\u001b[0m\u001b[1;33m:\u001b[0m\u001b[1;33m\u001b[0m\u001b[1;33m\u001b[0m\u001b[0m\n",
      "\u001b[1;32mF:\\Anaconda3\\lib\\site-packages\\pandas\\io\\parsers.py\u001b[0m in \u001b[0;36m_make_engine\u001b[1;34m(self, engine)\u001b[0m\n\u001b[0;32m   1120\u001b[0m     \u001b[1;32mdef\u001b[0m \u001b[0m_make_engine\u001b[0m\u001b[1;33m(\u001b[0m\u001b[0mself\u001b[0m\u001b[1;33m,\u001b[0m \u001b[0mengine\u001b[0m\u001b[1;33m=\u001b[0m\u001b[1;34m'c'\u001b[0m\u001b[1;33m)\u001b[0m\u001b[1;33m:\u001b[0m\u001b[1;33m\u001b[0m\u001b[1;33m\u001b[0m\u001b[0m\n\u001b[0;32m   1121\u001b[0m         \u001b[1;32mif\u001b[0m \u001b[0mengine\u001b[0m \u001b[1;33m==\u001b[0m \u001b[1;34m'c'\u001b[0m\u001b[1;33m:\u001b[0m\u001b[1;33m\u001b[0m\u001b[1;33m\u001b[0m\u001b[0m\n\u001b[1;32m-> 1122\u001b[1;33m             \u001b[0mself\u001b[0m\u001b[1;33m.\u001b[0m\u001b[0m_engine\u001b[0m \u001b[1;33m=\u001b[0m \u001b[0mCParserWrapper\u001b[0m\u001b[1;33m(\u001b[0m\u001b[0mself\u001b[0m\u001b[1;33m.\u001b[0m\u001b[0mf\u001b[0m\u001b[1;33m,\u001b[0m \u001b[1;33m**\u001b[0m\u001b[0mself\u001b[0m\u001b[1;33m.\u001b[0m\u001b[0moptions\u001b[0m\u001b[1;33m)\u001b[0m\u001b[1;33m\u001b[0m\u001b[1;33m\u001b[0m\u001b[0m\n\u001b[0m\u001b[0;32m   1123\u001b[0m         \u001b[1;32melse\u001b[0m\u001b[1;33m:\u001b[0m\u001b[1;33m\u001b[0m\u001b[1;33m\u001b[0m\u001b[0m\n\u001b[0;32m   1124\u001b[0m             \u001b[1;32mif\u001b[0m \u001b[0mengine\u001b[0m \u001b[1;33m==\u001b[0m \u001b[1;34m'python'\u001b[0m\u001b[1;33m:\u001b[0m\u001b[1;33m\u001b[0m\u001b[1;33m\u001b[0m\u001b[0m\n",
      "\u001b[1;32mF:\\Anaconda3\\lib\\site-packages\\pandas\\io\\parsers.py\u001b[0m in \u001b[0;36m__init__\u001b[1;34m(self, src, **kwds)\u001b[0m\n\u001b[0;32m   1851\u001b[0m         \u001b[0mkwds\u001b[0m\u001b[1;33m[\u001b[0m\u001b[1;34m'usecols'\u001b[0m\u001b[1;33m]\u001b[0m \u001b[1;33m=\u001b[0m \u001b[0mself\u001b[0m\u001b[1;33m.\u001b[0m\u001b[0musecols\u001b[0m\u001b[1;33m\u001b[0m\u001b[1;33m\u001b[0m\u001b[0m\n\u001b[0;32m   1852\u001b[0m \u001b[1;33m\u001b[0m\u001b[0m\n\u001b[1;32m-> 1853\u001b[1;33m         \u001b[0mself\u001b[0m\u001b[1;33m.\u001b[0m\u001b[0m_reader\u001b[0m \u001b[1;33m=\u001b[0m \u001b[0mparsers\u001b[0m\u001b[1;33m.\u001b[0m\u001b[0mTextReader\u001b[0m\u001b[1;33m(\u001b[0m\u001b[0msrc\u001b[0m\u001b[1;33m,\u001b[0m \u001b[1;33m**\u001b[0m\u001b[0mkwds\u001b[0m\u001b[1;33m)\u001b[0m\u001b[1;33m\u001b[0m\u001b[1;33m\u001b[0m\u001b[0m\n\u001b[0m\u001b[0;32m   1854\u001b[0m         \u001b[0mself\u001b[0m\u001b[1;33m.\u001b[0m\u001b[0munnamed_cols\u001b[0m \u001b[1;33m=\u001b[0m \u001b[0mself\u001b[0m\u001b[1;33m.\u001b[0m\u001b[0m_reader\u001b[0m\u001b[1;33m.\u001b[0m\u001b[0munnamed_cols\u001b[0m\u001b[1;33m\u001b[0m\u001b[1;33m\u001b[0m\u001b[0m\n\u001b[0;32m   1855\u001b[0m \u001b[1;33m\u001b[0m\u001b[0m\n",
      "\u001b[1;32mpandas/_libs/parsers.pyx\u001b[0m in \u001b[0;36mpandas._libs.parsers.TextReader.__cinit__\u001b[1;34m()\u001b[0m\n",
      "\u001b[1;32mpandas/_libs/parsers.pyx\u001b[0m in \u001b[0;36mpandas._libs.parsers.TextReader._setup_parser_source\u001b[1;34m()\u001b[0m\n",
      "\u001b[1;31mFileNotFoundError\u001b[0m: [Errno 2] File b'C:\\\\Users\\\\huangm/Downloads\\\\sqlResult_1558435.csv' does not exist: b'C:\\\\Users\\\\huangm/Downloads\\\\sqlResult_1558435.csv'"
     ]
    }
   ],
   "source": [
    "news_content = pd.read_csv(news_file, encoding='gb18030')\n",
    "news_content.head()"
   ]
  },
  {
   "cell_type": "markdown",
   "metadata": {},
   "source": [
    "然后进行：\n",
    "    1. 把content这一列全部拿出来\n",
    "    2. 对content进行切词\n",
    "    3. 统计单词出现的频率格式\n",
    "    4. 其他的分析\n",
    "`提示`：相关代码可以在Github Group的Slides里边的Lecture18，自动摘要里边看到。 "
   ]
  },
  {
   "cell_type": "markdown",
   "metadata": {},
   "source": [
    "## 使用TextRank进行自动摘要提取"
   ]
  },
  {
   "cell_type": "markdown",
   "metadata": {},
   "source": [
    "#### Task 1 使用neteworkx包，建立一个随机图，对该图进行PageRank分析\n"
   ]
  },
  {
   "cell_type": "code",
   "execution_count": null,
   "metadata": {},
   "outputs": [],
   "source": [
    "#hints: 代码可以在Github Group 中看到"
   ]
  },
  {
   "cell_type": "markdown",
   "metadata": {},
   "source": [
    "#### Task 2 使用PageRank 对文本进行关联分析"
   ]
  },
  {
   "cell_type": "code",
   "execution_count": null,
   "metadata": {},
   "outputs": [],
   "source": [
    "#hints: 代码可以在Github Group 中看到"
   ]
  },
  {
   "cell_type": "markdown",
   "metadata": {},
   "source": [
    "Q6. 切句子是如何实现的？如何使用正则表达式进行句子分割？ "
   ]
  },
  {
   "cell_type": "markdown",
   "metadata": {},
   "source": [
    "回答："
   ]
  },
  {
   "cell_type": "code",
   "execution_count": null,
   "metadata": {},
   "outputs": [],
   "source": [
    "#hint('a.70.61.74.74.65.72.6e.20.3d.20.72.65.2e.63.6f.6d.70.69.6c.65.28.27.5b.3002.ff0c.2c.2e.5d.ff1a.27.29.a.73.70.6c.69.74.20.3d.20.70.61.74.74.65.72.6e.2e.73.75.62.28.27.20.27.2c.20.73.65.6e.74.65.6e.63.65.29.2e.73.70.6c.69.74.28.29.20.20.23.20.73.70.6c.69.74.20.73.65.6e.74.65.6e.63.65.a')"
   ]
  },
  {
   "cell_type": "markdown",
   "metadata": {},
   "source": [
    "Q7. 如果对切词之后的句子的标点符号进行恢复？"
   ]
  },
  {
   "cell_type": "markdown",
   "metadata": {},
   "source": [
    "回答："
   ]
  },
  {
   "cell_type": "code",
   "execution_count": null,
   "metadata": {},
   "outputs": [],
   "source": [
    "#hint('a.63d0.793a.ff1a.5efa.7acb.53e5.5b50.548c.6807.70b9.7b26.53f7.4e4b.95f4.7684.5173.7cfb.ff0c.4f8b.5982.ff0c.5efa.7acb.4e00.4e2a.5b57.5178.a')"
   ]
  },
  {
   "cell_type": "markdown",
   "metadata": {},
   "source": [
    "#### Task3 在Pycharm里边合并代码，合并成一个单独的函数，实现输入一篇文章，输出该文本的摘要流程"
   ]
  },
  {
   "cell_type": "markdown",
   "metadata": {},
   "source": [
    "`Jupyter Notebook`里边适合做中间结果的记录以及想法验证，真正开发还是要在Pycharm等集成IDE里边进行"
   ]
  },
  {
   "cell_type": "code",
   "execution_count": null,
   "metadata": {},
   "outputs": [],
   "source": []
  },
  {
   "cell_type": "markdown",
   "metadata": {},
   "source": [
    "## 使用词向量进行自动摘要"
   ]
  },
  {
   "cell_type": "markdown",
   "metadata": {},
   "source": [
    "### Data Preprocessing"
   ]
  },
  {
   "cell_type": "code",
   "execution_count": 1,
   "metadata": {},
   "outputs": [],
   "source": [
    "import jieba\n",
    "import re\n",
    "\n",
    "def cut(string):\n",
    "    \"\"\"切词\"\"\"\n",
    "    return ' '.join(jieba.cut(string))\n",
    "\n",
    "def token(string):\n",
    "    \"\"\"匹配文字\"\"\"\n",
    "    return re.findall(r'[\\d\\w]+', string)"
   ]
  },
  {
   "cell_type": "code",
   "execution_count": 2,
   "metadata": {},
   "outputs": [
    {
     "data": {
      "text/html": [
       "<div>\n",
       "<style scoped>\n",
       "    .dataframe tbody tr th:only-of-type {\n",
       "        vertical-align: middle;\n",
       "    }\n",
       "\n",
       "    .dataframe tbody tr th {\n",
       "        vertical-align: top;\n",
       "    }\n",
       "\n",
       "    .dataframe thead th {\n",
       "        text-align: right;\n",
       "    }\n",
       "</style>\n",
       "<table border=\"1\" class=\"dataframe\">\n",
       "  <thead>\n",
       "    <tr style=\"text-align: right;\">\n",
       "      <th></th>\n",
       "      <th>id</th>\n",
       "      <th>author</th>\n",
       "      <th>source</th>\n",
       "      <th>content</th>\n",
       "      <th>feature</th>\n",
       "      <th>title</th>\n",
       "      <th>url</th>\n",
       "    </tr>\n",
       "  </thead>\n",
       "  <tbody>\n",
       "    <tr>\n",
       "      <th>0</th>\n",
       "      <td>89617</td>\n",
       "      <td></td>\n",
       "      <td>快科技@http://www.kkj.cn/</td>\n",
       "      <td>此外，自本周（6月12日）起，除小米手机6等15款机型外，其余机型已暂停更新发布（含开发版/...</td>\n",
       "      <td>{\"type\":\"科技\",\"site\":\"cnbeta\",\"commentNum\":\"37\"...</td>\n",
       "      <td>小米MIUI 9首批机型曝光：共计15款</td>\n",
       "      <td>http://www.cnbeta.com/articles/tech/623597.htm</td>\n",
       "    </tr>\n",
       "    <tr>\n",
       "      <th>1</th>\n",
       "      <td>89616</td>\n",
       "      <td></td>\n",
       "      <td>快科技@http://www.kkj.cn/</td>\n",
       "      <td>骁龙835作为唯一通过Windows 10桌面平台认证的ARM处理器，高通强调，不会因为只考...</td>\n",
       "      <td>{\"type\":\"科技\",\"site\":\"cnbeta\",\"commentNum\":\"15\"...</td>\n",
       "      <td>骁龙835在Windows 10上的性能表现有望改善</td>\n",
       "      <td>http://www.cnbeta.com/articles/tech/623599.htm</td>\n",
       "    </tr>\n",
       "    <tr>\n",
       "      <th>2</th>\n",
       "      <td>89615</td>\n",
       "      <td></td>\n",
       "      <td>快科技@http://www.kkj.cn/</td>\n",
       "      <td>此前的一加3T搭载的是3400mAh电池，DashCharge快充规格为5V/4A。\\r\\n...</td>\n",
       "      <td>{\"type\":\"科技\",\"site\":\"cnbeta\",\"commentNum\":\"18\"...</td>\n",
       "      <td>一加手机5细节曝光：3300mAh、充半小时用1天</td>\n",
       "      <td>http://www.cnbeta.com/articles/tech/623601.htm</td>\n",
       "    </tr>\n",
       "    <tr>\n",
       "      <th>3</th>\n",
       "      <td>89614</td>\n",
       "      <td></td>\n",
       "      <td>新华社</td>\n",
       "      <td>这是6月18日在葡萄牙中部大佩德罗冈地区拍摄的被森林大火烧毁的汽车。新华社记者张立云摄\\r\\n</td>\n",
       "      <td>{\"type\":\"国际新闻\",\"site\":\"环球\",\"commentNum\":\"0\",\"j...</td>\n",
       "      <td>葡森林火灾造成至少62人死亡 政府宣布进入紧急状态（组图）</td>\n",
       "      <td>http://world.huanqiu.com/hot/2017-06/10866126....</td>\n",
       "    </tr>\n",
       "    <tr>\n",
       "      <th>4</th>\n",
       "      <td>89613</td>\n",
       "      <td>胡淑丽_MN7479</td>\n",
       "      <td>深圳大件事</td>\n",
       "      <td>（原标题：44岁女子跑深圳约会网友被拒，暴雨中裸身奔走……）\\r\\n@深圳交警微博称：昨日清...</td>\n",
       "      <td>{\"type\":\"新闻\",\"site\":\"网易热门\",\"commentNum\":\"978\",...</td>\n",
       "      <td>44岁女子约网友被拒暴雨中裸奔 交警为其披衣相随</td>\n",
       "      <td>http://news.163.com/17/0618/00/CN617P3Q0001875...</td>\n",
       "    </tr>\n",
       "  </tbody>\n",
       "</table>\n",
       "</div>"
      ],
      "text/plain": [
       "      id      author                  source  \\\n",
       "0  89617              快科技@http://www.kkj.cn/   \n",
       "1  89616              快科技@http://www.kkj.cn/   \n",
       "2  89615              快科技@http://www.kkj.cn/   \n",
       "3  89614                                 新华社   \n",
       "4  89613  胡淑丽_MN7479                   深圳大件事   \n",
       "\n",
       "                                             content  \\\n",
       "0  此外，自本周（6月12日）起，除小米手机6等15款机型外，其余机型已暂停更新发布（含开发版/...   \n",
       "1  骁龙835作为唯一通过Windows 10桌面平台认证的ARM处理器，高通强调，不会因为只考...   \n",
       "2  此前的一加3T搭载的是3400mAh电池，DashCharge快充规格为5V/4A。\\r\\n...   \n",
       "3    这是6月18日在葡萄牙中部大佩德罗冈地区拍摄的被森林大火烧毁的汽车。新华社记者张立云摄\\r\\n   \n",
       "4  （原标题：44岁女子跑深圳约会网友被拒，暴雨中裸身奔走……）\\r\\n@深圳交警微博称：昨日清...   \n",
       "\n",
       "                                             feature  \\\n",
       "0  {\"type\":\"科技\",\"site\":\"cnbeta\",\"commentNum\":\"37\"...   \n",
       "1  {\"type\":\"科技\",\"site\":\"cnbeta\",\"commentNum\":\"15\"...   \n",
       "2  {\"type\":\"科技\",\"site\":\"cnbeta\",\"commentNum\":\"18\"...   \n",
       "3  {\"type\":\"国际新闻\",\"site\":\"环球\",\"commentNum\":\"0\",\"j...   \n",
       "4  {\"type\":\"新闻\",\"site\":\"网易热门\",\"commentNum\":\"978\",...   \n",
       "\n",
       "                           title  \\\n",
       "0           小米MIUI 9首批机型曝光：共计15款   \n",
       "1     骁龙835在Windows 10上的性能表现有望改善   \n",
       "2      一加手机5细节曝光：3300mAh、充半小时用1天   \n",
       "3  葡森林火灾造成至少62人死亡 政府宣布进入紧急状态（组图）   \n",
       "4       44岁女子约网友被拒暴雨中裸奔 交警为其披衣相随   \n",
       "\n",
       "                                                 url  \n",
       "0     http://www.cnbeta.com/articles/tech/623597.htm  \n",
       "1     http://www.cnbeta.com/articles/tech/623599.htm  \n",
       "2     http://www.cnbeta.com/articles/tech/623601.htm  \n",
       "3  http://world.huanqiu.com/hot/2017-06/10866126....  \n",
       "4  http://news.163.com/17/0618/00/CN617P3Q0001875...  "
      ]
     },
     "execution_count": 2,
     "metadata": {},
     "output_type": "execute_result"
    }
   ],
   "source": [
    "import pandas as pd\n",
    "fname = './sqlResult_1558435.csv'\n",
    "data = pd.read_csv(fname, encoding='gb18030')\n",
    "data = data.fillna('')\n",
    "data.head()"
   ]
  },
  {
   "cell_type": "code",
   "execution_count": 3,
   "metadata": {},
   "outputs": [
    {
     "name": "stderr",
     "output_type": "stream",
     "text": [
      "Building prefix dict from the default dictionary ...\n",
      "Loading model from cache C:\\Users\\huangm\\AppData\\Local\\Temp\\jieba.cache\n",
      "Loading model cost 0.632 seconds.\n",
      "Prefix dict has been built succesfully.\n"
     ]
    }
   ],
   "source": [
    "contents = [cut(''.join(token(content))) for content in data['content'].tolist()]\n",
    "with open('./news.txt', 'w', encoding='utf-8') as f:\n",
    "    for content in contents:\n",
    "        f.write(str(content) + '\\n')"
   ]
  },
  {
   "cell_type": "markdown",
   "metadata": {},
   "source": [
    "### Word2Vec"
   ]
  },
  {
   "cell_type": "code",
   "execution_count": 4,
   "metadata": {},
   "outputs": [
    {
     "name": "stderr",
     "output_type": "stream",
     "text": [
      "2019-09-24 08:16:20,379 - INFO - 422 -  loading Word2Vec object from ./wiki.zh.model\n",
      "2019-09-24 08:16:22,468 - INFO - 456 -  loading wv recursively from ./wiki.zh.model.wv.* with mmap=None\n",
      "2019-09-24 08:16:22,469 - INFO - 494 -  setting ignored attribute vectors_norm to None\n",
      "2019-09-24 08:16:22,470 - INFO - 456 -  loading vocabulary recursively from ./wiki.zh.model.vocabulary.* with mmap=None\n",
      "2019-09-24 08:16:22,472 - INFO - 456 -  loading trainables recursively from ./wiki.zh.model.trainables.* with mmap=None\n",
      "2019-09-24 08:16:22,473 - INFO - 494 -  setting ignored attribute cum_table to None\n",
      "2019-09-24 08:16:22,475 - INFO - 428 -  loaded ./wiki.zh.model\n",
      "F:\\Anaconda3\\lib\\site-packages\\ipykernel_launcher.py:22: DeprecationWarning: Call to deprecated `most_similar` (Method will be removed in 4.0.0, use self.wv.most_similar() instead).\n",
      "2019-09-24 08:16:22,675 - INFO - 1353 -  precomputing L2-norms of word weight vectors\n"
     ]
    },
    {
     "name": "stdout",
     "output_type": "stream",
     "text": [
      "[('安徽', 0.8531519174575806), ('湖北', 0.8011526465415955), ('湖南', 0.8001124858856201), ('陕西', 0.7566452026367188), ('南昌', 0.7466493844985962), ('山西', 0.7449131011962891), ('甘肃', 0.7363568544387817), ('云南', 0.7211558222770691), ('河南', 0.7179139852523804), ('福建', 0.7156016230583191)]\n"
     ]
    }
   ],
   "source": [
    "from gensim.models import Word2Vec\n",
    "from gensim.models.word2vec import LineSentence\n",
    "import multiprocessing #多进程\n",
    "import logging\n",
    "\n",
    "logging.basicConfig(level=logging.INFO, format='%(asctime)s - %(levelname)s - %(lineno)d -  %(message)s')\n",
    "\n",
    "def word2vec_train():\n",
    "    \"\"\"词向量训练\"\"\"\n",
    "    f_wiki = open(\"./news.txt\", \"r\", encoding=\"utf-8\")\n",
    "    sentences = LineSentence(f_wiki)\n",
    "    model = Word2Vec(sentences, size = 100, window = 5, min_count = 5, workers = multiprocessing.cpu_count())\n",
    "    model.save(\"./wiki.zh.model\")\n",
    "    model.wv.save_word2vec_format(\"./wiki.zh.vectors\", binary = False)\n",
    "\n",
    "# 训练\n",
    "# word2vec_train()\n",
    "# 导入模型\n",
    "model = Word2Vec.load(\"./wiki.zh.model\")\n",
    "# 词向量\n",
    "# print(\"江西\", word2vec_model['江西']) # 获得词向量\n",
    "print(model.most_similar('江西'))"
   ]
  },
  {
   "cell_type": "markdown",
   "metadata": {},
   "source": [
    "### Counts word 's occurence"
   ]
  },
  {
   "cell_type": "code",
   "execution_count": 5,
   "metadata": {
    "scrolled": true
   },
   "outputs": [
    {
     "data": {
      "text/plain": [
       "[<matplotlib.lines.Line2D at 0x29049a0d048>]"
      ]
     },
     "execution_count": 5,
     "metadata": {},
     "output_type": "execute_result"
    },
    {
     "data": {
      "image/png": "[encoded data removed]",
      "text/plain": [
       "<Figure size 432x288 with 1 Axes>"
      ]
     },
     "metadata": {
      "needs_background": "light"
     },
     "output_type": "display_data"
    }
   ],
   "source": [
    "from collections import Counter\n",
    "\n",
    "words = [word for content in contents for word in content.split()]\n",
    "words_counter = Counter(words)\n",
    "words_freq = {word: count / len(words) for word, count in words_counter.items()}\n",
    "occurences_freq = sorted(list(words_freq.values()), reverse=True)\n",
    "X = range(len(occurences_freq))\n",
    "import matplotlib.pyplot as plt\n",
    "%matplotlib inline\n",
    "\n",
    "plt.plot(X[:50], occurences_freq[:50])"
   ]
  },
  {
   "cell_type": "markdown",
   "metadata": {},
   "source": [
    "### Sentence Embedding"
   ]
  },
  {
   "cell_type": "markdown",
   "metadata": {},
   "source": [
    "for all sentences s in S    \n",
    "$ \\quad v_s =  \\frac{1}{|s|} \\sum_{w\\in s} \\frac{a}{a+p(w)}v_w  $   \n",
    "form a matrix X whose columns are{v_s:s \\in S} and let u be its first singular vector    \n",
    "for all sentences s in S   \n",
    "$ \\quad v_s = v_s - uu^Tv_s $"
   ]
  },
  {
   "cell_type": "code",
   "execution_count": 6,
   "metadata": {},
   "outputs": [],
   "source": [
    "import numpy as np\n",
    "import re\n",
    "\n",
    "def sentence_embedding(sentence, alpha = 1e-4):\n",
    "    \"\"\"sentence embedding\"\"\"\n",
    "    global words_freq\n",
    "    max_fre = max(list(words_freq.values()))\n",
    "    words = cut(sentence).split()\n",
    "    sentence_vec = np.zeros_like(model['江西'])\n",
    "    words = [w for w in words if w in model]\n",
    "    for word in words:\n",
    "        weight = alpha / (alpha + words_freq.get(word, max_fre))\n",
    "        sentence_vec += weight * model[word]\n",
    "    \n",
    "    sentence_vec /= len(words)\n",
    "    # Skip PCA\n",
    "    return sentence_vec"
   ]
  },
  {
   "cell_type": "code",
   "execution_count": 7,
   "metadata": {},
   "outputs": [],
   "source": [
    "def split_sentence(sentence):\n",
    "    \"\"\"split Sentence to segments\"\"\"\n",
    "    pattern = re.compile('[。，,.！!?？:：]')\n",
    "    sentence_segments = pattern.sub( ' ', sentence).split()\n",
    "    return sentence_segments"
   ]
  },
  {
   "cell_type": "code",
   "execution_count": 8,
   "metadata": {},
   "outputs": [],
   "source": [
    "from scipy.spatial.distance import cosine # 判断相似度\n",
    "\n",
    "def get_correlation_with_sorted(text):\n",
    "    \"\"\"get sub_sentence&text correlation\"\"\"\n",
    "    if isinstance(text, list):text = ' '.join(text)\n",
    "        \n",
    "    sub_sentences = split_sentence(text)\n",
    "    sentence_vec = sentence_embedding(text)\n",
    "\n",
    "    correlations = {}\n",
    "    \n",
    "    for sub_sentence in sub_sentences:\n",
    "        sub_sen_vec = sentence_embedding(sub_sentence)\n",
    "        correlation = cosine(sentence_vec, sub_sen_vec)\n",
    "        correlations[sub_sentence] = correlation\n",
    "    \n",
    "    return sorted(correlations.items(), key=lambda x:x[1], reverse=True)\n",
    "\n",
    "def get_correlation_with_no_sorted(text):\n",
    "    \"\"\"get sub_sentence&text correlation\"\"\"\n",
    "    if isinstance(text, list):text = ' '.join(text)\n",
    "        \n",
    "    sub_sentences = split_sentence(text)\n",
    "    sentence_vec = sentence_embedding(text)\n",
    "\n",
    "    correlations = {}\n",
    "    \n",
    "    for sub_sentence in sub_sentences:\n",
    "        sub_sen_vec = sentence_embedding(sub_sentence)\n",
    "        correlation = cosine(sentence_vec, sub_sen_vec)\n",
    "        correlations[sub_sentence] = correlation\n",
    "    \n",
    "    return correlations"
   ]
  },
  {
   "cell_type": "code",
   "execution_count": 9,
   "metadata": {},
   "outputs": [],
   "source": [
    "def get_summarization(text, score_fn, constraint=200):\n",
    "    \"\"\"get summarization\"\"\"\n",
    "    sub_sentence = split_sentence(text)\n",
    "    ranked_sentence = score_fn(sub_sentence)\n",
    "    selected_text = set()\n",
    "    current_text = ''\n",
    "    \n",
    "    # 限制字数\n",
    "    for sen, _ in ranked_sentence:\n",
    "        if len(current_text) < constraint:\n",
    "            current_text += sen\n",
    "            selected_text.add(sen)\n",
    "        else:\n",
    "            break\n",
    "            \n",
    "    # 获得摘要\n",
    "    summarized = []\n",
    "    for sen in sub_sentence: # 按顺序打印\n",
    "        if sen in selected_text:\n",
    "            summarized.append(sen)\n",
    "    return ''.join(summarized)\n",
    "            "
   ]
  },
  {
   "cell_type": "code",
   "execution_count": 10,
   "metadata": {
    "scrolled": true
   },
   "outputs": [
    {
     "data": {
      "text/plain": [
       "'虽然至今夏普智能手机在市场上无法排得上号，已经完全没落，并于 2013 年退出中国市场，但是今年 3 月份官方突然宣布回归中国，预示着很快就有夏普新机在中国登场了。那么，第一款夏普手机什么时候登陆中国呢？又会是怎么样的手机呢？\\r\\n近日，一款型号为 FS8016 的夏普神秘新机悄然出现在 GeekBench 的跑分库上。从其中相关信息了解到，这款机子并非旗舰定位，所搭载的是高通骁龙 660 处理器，配备有 4GB 的内存。骁龙 660 是高通今年最受瞩目的芯片之一，采用 14 纳米工艺，八个 Kryo 260 核心设计，集成 Adreno 512 GPU 和 X12 LTE 调制解调器。\\r\\n当前市面上只有一款机子采用了骁龙 660 处理器，那就是已经上市销售的 OPPO R11。骁龙 660 尽管并非旗舰芯片，但在多核新能上比去年骁龙 820 强，单核改进也很明显，所以放在今年仍可以让很多手机变成高端机。不过，由于 OPPO 与高通签署了排他性协议，可以独占两三个月时间。\\r\\n考虑到夏普既然开始测试新机了，说明只要等独占时期一过，夏普就能发布骁龙 660 新品了。按照之前被曝光的渲染图了解，夏普的新机核心竞争优势还是全面屏，因为从 2013 年推出全球首款全面屏手机 EDGEST 302SH 至今，夏普手机推出了多达 28 款的全面屏手机。\\r\\n在 5 月份的媒体沟通会上，惠普罗忠生表示：“我敢打赌，12 个月之后，在座的各位手机都会换掉。因为全面屏时代的到来，我们怀揣的手机都将成为传统手机。”\\r\\n'"
      ]
     },
     "execution_count": 10,
     "metadata": {},
     "output_type": "execute_result"
    }
   ],
   "source": [
    "test_news = data.iloc[6]['content']\n",
    "test_news"
   ]
  },
  {
   "cell_type": "code",
   "execution_count": 11,
   "metadata": {
    "scrolled": true
   },
   "outputs": [
    {
     "name": "stderr",
     "output_type": "stream",
     "text": [
      "F:\\Anaconda3\\lib\\site-packages\\ipykernel_launcher.py:9: DeprecationWarning: Call to deprecated `__getitem__` (Method will be removed in 4.0.0, use self.wv.__getitem__() instead).\n",
      "  if __name__ == '__main__':\n",
      "F:\\Anaconda3\\lib\\site-packages\\ipykernel_launcher.py:10: DeprecationWarning: Call to deprecated `__contains__` (Method will be removed in 4.0.0, use self.wv.__contains__() instead).\n",
      "  # Remove the CWD from sys.path while we load stuff.\n",
      "F:\\Anaconda3\\lib\\site-packages\\ipykernel_launcher.py:13: DeprecationWarning: Call to deprecated `__getitem__` (Method will be removed in 4.0.0, use self.wv.__getitem__() instead).\n",
      "  del sys.path[0]\n",
      "F:\\Anaconda3\\lib\\site-packages\\ipykernel_launcher.py:15: RuntimeWarning: invalid value encountered in true_divide\n",
      "  from ipykernel import kernelapp as app\n"
     ]
    },
    {
     "data": {
      "text/plain": [
       "'已经完全没落并于2013年退出中国市场但是今年3月份官方突然宣布回归中国预示着很快就有夏普新机在中国登场了那么第一款夏普手机什么时候登陆中国呢又会是怎么样的手机呢近日一款型号为FS8016的夏普神秘新机悄然出现在GeekBench的跑分库上从其中相关信息了解到所搭载的是高通骁龙660处理器配备有4GB的内存骁龙660是高通今年最受瞩目的芯片之一采用14纳米工艺八个Kryo260核心设计集成Adreno512GPU和660处理器骁龙6606602013'"
      ]
     },
     "execution_count": 11,
     "metadata": {},
     "output_type": "execute_result"
    }
   ],
   "source": [
    "get_summarization(test_news, get_correlation_with_sorted, constraint=200)"
   ]
  },
  {
   "cell_type": "code",
   "execution_count": 12,
   "metadata": {},
   "outputs": [],
   "source": [
    "def get_sequent_correlation(text):\n",
    "    \"\"\"get sequent correlation\"\"\"\n",
    "    sub_sentence = split_sentence(text)\n",
    "    correlations = get_correlation_with_no_sorted(text)\n",
    "    correlation_with_sequent = [(sen, correlations[sen]) for sen in sub_sentence]\n",
    "    return correlation_with_sequent"
   ]
  },
  {
   "cell_type": "code",
   "execution_count": 13,
   "metadata": {},
   "outputs": [
    {
     "name": "stderr",
     "output_type": "stream",
     "text": [
      "F:\\Anaconda3\\lib\\site-packages\\ipykernel_launcher.py:9: DeprecationWarning: Call to deprecated `__getitem__` (Method will be removed in 4.0.0, use self.wv.__getitem__() instead).\n",
      "  if __name__ == '__main__':\n",
      "F:\\Anaconda3\\lib\\site-packages\\ipykernel_launcher.py:10: DeprecationWarning: Call to deprecated `__contains__` (Method will be removed in 4.0.0, use self.wv.__contains__() instead).\n",
      "  # Remove the CWD from sys.path while we load stuff.\n",
      "F:\\Anaconda3\\lib\\site-packages\\ipykernel_launcher.py:13: DeprecationWarning: Call to deprecated `__getitem__` (Method will be removed in 4.0.0, use self.wv.__getitem__() instead).\n",
      "  del sys.path[0]\n",
      "F:\\Anaconda3\\lib\\site-packages\\ipykernel_launcher.py:15: RuntimeWarning: invalid value encountered in true_divide\n",
      "  from ipykernel import kernelapp as app\n"
     ]
    },
    {
     "data": {
      "text/plain": [
       "[<matplotlib.lines.Line2D at 0x2908164f588>]"
      ]
     },
     "execution_count": 13,
     "metadata": {},
     "output_type": "execute_result"
    },
    {
     "data": {
      "image/png": "[encoded data removed]",
      "text/plain": [
       "<Figure size 432x288 with 1 Axes>"
      ]
     },
     "metadata": {
      "needs_background": "light"
     },
     "output_type": "display_data"
    }
   ],
   "source": [
    "correlation_with_sequent = get_sequent_correlation(test_news)\n",
    "\n",
    "plt.plot(range(len(correlation_with_sequent)), [cws for _,cws in correlation_with_sequent])"
   ]
  },
  {
   "cell_type": "markdown",
   "metadata": {},
   "source": [
    "## More Added Feature"
   ]
  },
  {
   "cell_type": "markdown",
   "metadata": {},
   "source": [
    "### KNN思想"
   ]
  },
  {
   "cell_type": "markdown",
   "metadata": {},
   "source": [
    "例如，当我们有一个列表是 [1, 1, 2, 3, 8, 1, 2]的时候，其中的 8 数值太大，这在我们的摘要中的表现为，该句子周围的句子都是不那么相关的，但是该句子单独的相关性很高。 那么，如果把这个句子摘录进来，就会导致“不通顺”. 我们可以采用KNN的思想，将这个列表进行重新计算，让它每一个元素的值，等于自己的值和周围的几个值的一个计算结果。 "
   ]
  },
  {
   "cell_type": "markdown",
   "metadata": {},
   "source": [
    "Q19. 如何使用KNN思想进行“平滑”操作? 请代码实现"
   ]
  },
  {
   "cell_type": "code",
   "execution_count": 26,
   "metadata": {},
   "outputs": [],
   "source": [
    "import numpy as np\n",
    "from collections import defaultdict\n",
    "\n",
    "def knn_smooth(text, fn):\n",
    "    correlations = fn(text)\n",
    "    correlations_copy = correlations.copy()\n",
    "    correlate_dict = defaultdict(int)\n",
    "    for sen_i, cor_i in correlations:\n",
    "        for sen_j, cor_j in correlations_copy:\n",
    "            correlate_dict[sen_i] += np.sqrt(np.square(cor_i - cor_j))\n",
    "    return sorted(correlate_dict.items(), key=lambda x:x[1])\n",
    "\n",
    "def get_summarization_with_knn(text, score_fn, knn_fn, constraint=200):\n",
    "    \"\"\"get summarization with knn\"\"\"\n",
    "    sub_sentence = split_sentence(text)\n",
    "    ranked_sentence = knn_fn(text, score_fn)\n",
    "    selected_text = set()\n",
    "    current_text = ''\n",
    "    \n",
    "    # 限制字数\n",
    "    for sen, _ in ranked_sentence:\n",
    "        if len(current_text) < constraint:\n",
    "            current_text += sen\n",
    "            selected_text.add(sen)\n",
    "        else:\n",
    "            break\n",
    "            \n",
    "    # 获得摘要\n",
    "    summarized = []\n",
    "    for sen in sub_sentence: # 按顺序打印\n",
    "        if sen in selected_text:\n",
    "            summarized.append(sen)\n",
    "    return ''.join(summarized)"
   ]
  },
  {
   "cell_type": "code",
   "execution_count": 27,
   "metadata": {},
   "outputs": [
    {
     "name": "stderr",
     "output_type": "stream",
     "text": [
      "F:\\Anaconda3\\lib\\site-packages\\ipykernel_launcher.py:9: DeprecationWarning: Call to deprecated `__getitem__` (Method will be removed in 4.0.0, use self.wv.__getitem__() instead).\n",
      "  if __name__ == '__main__':\n",
      "F:\\Anaconda3\\lib\\site-packages\\ipykernel_launcher.py:10: DeprecationWarning: Call to deprecated `__contains__` (Method will be removed in 4.0.0, use self.wv.__contains__() instead).\n",
      "  # Remove the CWD from sys.path while we load stuff.\n",
      "F:\\Anaconda3\\lib\\site-packages\\ipykernel_launcher.py:13: DeprecationWarning: Call to deprecated `__getitem__` (Method will be removed in 4.0.0, use self.wv.__getitem__() instead).\n",
      "  del sys.path[0]\n",
      "F:\\Anaconda3\\lib\\site-packages\\ipykernel_launcher.py:15: RuntimeWarning: invalid value encountered in true_divide\n",
      "  from ipykernel import kernelapp as app\n"
     ]
    },
    {
     "data": {
      "text/plain": [
       "'已经完全没落并于2013年退出中国市场但是今年3月份官方突然宣布回归中国预示着很快就有夏普新机在中国登场了那么第一款夏普手机什么时候登陆中国呢又会是怎么样的手机呢近日一款型号为FS8016的夏普神秘新机悄然出现在GeekBench的跑分库上从其中相关信息了解到所搭载的是高通骁龙660处理器配备有4GB的内存骁龙660是高通今年最受瞩目的芯片之一采用14纳米工艺八个Kryo260核心设计集成Adreno512GPU和660处理器骁龙6606602013'"
      ]
     },
     "execution_count": 27,
     "metadata": {},
     "output_type": "execute_result"
    }
   ],
   "source": [
    "get_summarization_with_knn(test_news, get_correlation_with_sorted, knn_smooth, constraint=200)"
   ]
  },
  {
   "cell_type": "markdown",
   "metadata": {},
   "source": [
    "### Title 标题"
   ]
  },
  {
   "cell_type": "markdown",
   "metadata": {},
   "source": [
    "如果该文本有标题，那么标题可以帮助我们很多。在之前，我们计算每个句子与文章整体的相似度是对每个子句与整体文章进行相似度距离计算，那么，我们这个时候，就可以把标题的embedding结果拿出来，那么每句话的相似度就是这句话与整体文章的相似度和标题的相似度的一个“结合”。"
   ]
  },
  {
   "cell_type": "code",
   "execution_count": 17,
   "metadata": {},
   "outputs": [
    {
     "data": {
      "text/plain": [
       "89611"
      ]
     },
     "execution_count": 17,
     "metadata": {},
     "output_type": "execute_result"
    }
   ],
   "source": [
    "len(contents)"
   ]
  },
  {
   "cell_type": "code",
   "execution_count": 30,
   "metadata": {},
   "outputs": [
    {
     "data": {
      "text/plain": [
       "'配骁龙660 全面屏鼻祖夏普新机酝酿中'"
      ]
     },
     "execution_count": 30,
     "metadata": {},
     "output_type": "execute_result"
    }
   ],
   "source": [
    "test_news = data.iloc[6]['content']\n",
    "test_news_title = data.iloc[6]['title']\n",
    "test_news_title"
   ]
  },
  {
   "cell_type": "code",
   "execution_count": 31,
   "metadata": {},
   "outputs": [],
   "source": [
    "def get_correlation_with_title(text):\n",
    "    \"\"\"with title\"\"\"\n",
    "    w = 1\n",
    "    if isinstance(text, list):text = ' '.join(text)\n",
    "\n",
    "    sub_sentences = split_sentence(text)\n",
    "    sentence_vec = sentence_embedding(text)\n",
    "    title_vec = sentence_embedding(test_news_title)\n",
    "\n",
    "    correlations = {}\n",
    "    \n",
    "    for sub_sentence in sub_sentences:\n",
    "        sub_sen_vec = sentence_embedding(sub_sentence)\n",
    "        correlation = cosine(sentence_vec, sub_sen_vec) + w * cosine(sentence_vec, title_vec) # 增加title与子句的相似度\n",
    "        correlations[sub_sentence] = correlation\n",
    "    \n",
    "    return sorted(correlations.items(), key=lambda x:x[1], reverse=True)"
   ]
  },
  {
   "cell_type": "code",
   "execution_count": 32,
   "metadata": {},
   "outputs": [
    {
     "name": "stderr",
     "output_type": "stream",
     "text": [
      "F:\\Anaconda3\\lib\\site-packages\\ipykernel_launcher.py:9: DeprecationWarning: Call to deprecated `__getitem__` (Method will be removed in 4.0.0, use self.wv.__getitem__() instead).\n",
      "  if __name__ == '__main__':\n",
      "F:\\Anaconda3\\lib\\site-packages\\ipykernel_launcher.py:10: DeprecationWarning: Call to deprecated `__contains__` (Method will be removed in 4.0.0, use self.wv.__contains__() instead).\n",
      "  # Remove the CWD from sys.path while we load stuff.\n",
      "F:\\Anaconda3\\lib\\site-packages\\ipykernel_launcher.py:13: DeprecationWarning: Call to deprecated `__getitem__` (Method will be removed in 4.0.0, use self.wv.__getitem__() instead).\n",
      "  del sys.path[0]\n",
      "F:\\Anaconda3\\lib\\site-packages\\ipykernel_launcher.py:15: RuntimeWarning: invalid value encountered in true_divide\n",
      "  from ipykernel import kernelapp as app\n"
     ]
    },
    {
     "data": {
      "text/plain": [
       "'已经完全没落并于2013年退出中国市场但是今年3月份官方突然宣布回归中国预示着很快就有夏普新机在中国登场了那么第一款夏普手机什么时候登陆中国呢又会是怎么样的手机呢近日一款型号为FS8016的夏普神秘新机悄然出现在GeekBench的跑分库上从其中相关信息了解到所搭载的是高通骁龙660处理器配备有4GB的内存骁龙660是高通今年最受瞩目的芯片之一采用14纳米工艺八个Kryo260核心设计集成Adreno512GPU和660处理器骁龙6606602013'"
      ]
     },
     "execution_count": 32,
     "metadata": {},
     "output_type": "execute_result"
    }
   ],
   "source": [
    "get_summarization_with_knn(test_news, get_correlation_with_title, knn_smooth, constraint=200)"
   ]
  },
  {
   "cell_type": "markdown",
   "metadata": {},
   "source": [
    "### Keywords 关键字"
   ]
  },
  {
   "cell_type": "markdown",
   "metadata": {},
   "source": [
    "对整篇文章提取关键字，该关键字可以通过TextRank或者tfidf或者gensim自带的包进行提取。 然后对包含了关键词的句子进行手动加权\n",
    "> 关键字是很重要的，如果我们能够比较准确的提取出来关键词/字，然后对关键字/词包含的句子增加其权重； "
   ]
  },
  {
   "cell_type": "code",
   "execution_count": 52,
   "metadata": {},
   "outputs": [],
   "source": [
    "from gensim import corpora, models\n",
    "\n",
    "def cut(string):\n",
    "    \"\"\"切词\"\"\"\n",
    "    return list(jieba.cut(string))\n",
    "\n",
    "def token(string):\n",
    "    \"\"\"匹配文字\"\"\"\n",
    "    return re.findall(r'[\\d\\w]+', string)\n",
    "\n",
    "def get_stopwords(filename):\n",
    "    \"\"\"停用词\"\"\"\n",
    "    with open(filename, 'r', encoding='utf-8') as f:\n",
    "        return set([line.strip() for line in f])\n",
    "    \n",
    "def split_sentence(text):\n",
    "    \"\"\"分割文本\"\"\"\n",
    "    pattern = re.compile('[。，,.！!?？:：]')\n",
    "    sentence_segments = pattern.sub( ' ', text).split()\n",
    "    return sentence_segments\n",
    "    \n",
    "def get_words_list(text, stopwords_filename):\n",
    "    \"\"\"分词\"\"\"\n",
    "    word_list = []\n",
    "    stopwords = get_stopwords(stopwords_filename)\n",
    "    for sentence in split_sentence(text):\n",
    "        tmp = cut(''.join(token(sentence)))\n",
    "        word_list.append([word for word in tmp if word not in stopwords])\n",
    "    return word_list"
   ]
  },
  {
   "cell_type": "code",
   "execution_count": 68,
   "metadata": {
    "scrolled": true
   },
   "outputs": [
    {
     "data": {
      "text/plain": [
       "'手机'"
      ]
     },
     "execution_count": 68,
     "metadata": {},
     "output_type": "execute_result"
    }
   ],
   "source": [
    "# Tfidf\n",
    "from sklearn.feature_extraction.text import TfidfVectorizer\n",
    "\n",
    "def tfidf_to_keywords(text, stopwords_filename):\n",
    "    words = [' '.join([' '.join(word_list) for word_list in get_words_list(text, stopwords_filename)]),]\n",
    "    tf = TfidfVectorizer()\n",
    "    tf_vec = tf.fit_transform(words)\n",
    "    tf_array = tf_vec.toarray()\n",
    "    tf_featrues = tf.get_feature_names()\n",
    "    keyword_idx = np.argmax(tf_array)\n",
    "    return tf_featrues[keyword_idx]\n",
    "tfidf_to_keywords(test_news, './chinese_stopwords.txt')"
   ]
  },
  {
   "cell_type": "code",
   "execution_count": 54,
   "metadata": {},
   "outputs": [
    {
     "data": {
      "text/plain": [
       "'虽然至今夏普智能手机在市场上无法排得上号，已经完全没落，并于 2013 年退出中国市场，但是今年 3 月份官方突然宣布回归中国，预示着很快就有夏普新机在中国登场了。那么，第一款夏普手机什么时候登陆中国呢？又会是怎么样的手机呢？\\r\\n近日，一款型号为 FS8016 的夏普神秘新机悄然出现在 GeekBench 的跑分库上。从其中相关信息了解到，这款机子并非旗舰定位，所搭载的是高通骁龙 660 处理器，配备有 4GB 的内存。骁龙 660 是高通今年最受瞩目的芯片之一，采用 14 纳米工艺，八个 Kryo 260 核心设计，集成 Adreno 512 GPU 和 X12 LTE 调制解调器。\\r\\n当前市面上只有一款机子采用了骁龙 660 处理器，那就是已经上市销售的 OPPO R11。骁龙 660 尽管并非旗舰芯片，但在多核新能上比去年骁龙 820 强，单核改进也很明显，所以放在今年仍可以让很多手机变成高端机。不过，由于 OPPO 与高通签署了排他性协议，可以独占两三个月时间。\\r\\n考虑到夏普既然开始测试新机了，说明只要等独占时期一过，夏普就能发布骁龙 660 新品了。按照之前被曝光的渲染图了解，夏普的新机核心竞争优势还是全面屏，因为从 2013 年推出全球首款全面屏手机 EDGEST 302SH 至今，夏普手机推出了多达 28 款的全面屏手机。\\r\\n在 5 月份的媒体沟通会上，惠普罗忠生表示：“我敢打赌，12 个月之后，在座的各位手机都会换掉。因为全面屏时代的到来，我们怀揣的手机都将成为传统手机。”\\r\\n'"
      ]
     },
     "execution_count": 54,
     "metadata": {},
     "output_type": "execute_result"
    }
   ],
   "source": [
    "test_news"
   ]
  },
  {
   "cell_type": "code",
   "execution_count": 55,
   "metadata": {},
   "outputs": [
    {
     "name": "stdout",
     "output_type": "stream",
     "text": [
      "['手机', '新机', '中国', '全面', '独占', '核心', '市场', '了解', '机子', '旗舰', '月份', '宣布', '回归', '说明', '芯片', '市面上', '采用', '定位', '排他性', '配备']\n"
     ]
    }
   ],
   "source": [
    "# TextRank\n",
    "from jieba import analyse\n",
    "textrank = analyse.textrank\n",
    "\n",
    "keywords = textrank(test_news)\n",
    "print(keywords)"
   ]
  },
  {
   "cell_type": "markdown",
   "metadata": {},
   "source": [
    "#### Task 请代码实现"
   ]
  },
  {
   "cell_type": "markdown",
   "metadata": {},
   "source": [
    "### Position 位置信息"
   ]
  },
  {
   "cell_type": "markdown",
   "metadata": {},
   "source": [
    "对于句子而言，如果其出现在段落开端，结尾，是否是重要的？ 请做实验证明之，并且代码进行改进。 \n",
    "> 对于一些文本，文章，例如一个故事的这种文章，那么他的textRank， sentence embedding 会发现，并不会出现很明显有些句子是重要的，有些句子不重要的，如果plot他的曲线的话，我们这个时候就要考虑他的位置，开头，结尾，增加一些权重；"
   ]
  },
  {
   "cell_type": "markdown",
   "metadata": {},
   "source": [
    "#### Task 加入位置信息的考量"
   ]
  },
  {
   "cell_type": "markdown",
   "metadata": {},
   "source": [
    "### Topic 主题信息"
   ]
  },
  {
   "cell_type": "markdown",
   "metadata": {},
   "source": [
    "自学Gensim LDA的使用方法，对于文章获得其主题，然后依据主题对每个句子进行判断，每个句子是否和该主题相关。 \n",
    "> LDA主题模型，得到的主题分布，我们可以用每句话和的出来的这些主题进行相似度对比，我们不仅仅是是考虑他的整个的text， 我们还有考虑主题；\n",
    "参考网站： \n",
    "1. Google Search： Gensim LDA\n",
    "2. https://github.com/xiaoyichao/-python-gensim-LDA-/blob/master/topicmodel3.py"
   ]
  },
  {
   "cell_type": "code",
   "execution_count": 69,
   "metadata": {
    "scrolled": true
   },
   "outputs": [
    {
     "name": "stderr",
     "output_type": "stream",
     "text": [
      "2019-09-24 10:39:40,409 - INFO - 205 -  adding document #0 to Dictionary(0 unique tokens: [])\n",
      "2019-09-24 10:39:40,411 - INFO - 212 -  built Dictionary(136 unique tokens: ['号', '夏普', '市场', '排得', '无法']...) from 90 documents (total 194 corpus positions)\n",
      "2019-09-24 10:39:40,412 - INFO - 570 -  using autotuned alpha, starting with [0.2, 0.2, 0.2, 0.2, 0.2]\n",
      "2019-09-24 10:39:40,413 - INFO - 557 -  using symmetric eta at 0.2\n",
      "2019-09-24 10:39:40,414 - INFO - 481 -  using serial LDA version on this node\n",
      "2019-09-24 10:39:40,415 - INFO - 929 -  running online (single-pass) LDA training, 5 topics, 1 passes over the supplied corpus of 90 documents, updating model once every 90 documents, evaluating perplexity every 90 documents, iterating 50x with a convergence threshold of 0.001000\n",
      "2019-09-24 10:39:40,416 - WARNING - 934 -  too few updates, training might not converge; consider increasing the number of passes or iterations to improve accuracy\n",
      "2019-09-24 10:39:40,440 - INFO - 824 -  -8.538 per-word bound, 371.6 perplexity estimate based on a held-out corpus of 90 documents with 194 words\n",
      "2019-09-24 10:39:40,441 - INFO - 978 -  PROGRESS: pass 0, at document #90/90\n",
      "2019-09-24 10:39:40,462 - INFO - 769 -  optimized alpha [0.19081338, 0.18265583, 0.19666822, 0.19627866, 0.18028533]\n",
      "2019-09-24 10:39:40,463 - INFO - 1171 -  topic #0 (0.191): 0.088*\"手机\" + 0.031*\"夏普\" + 0.031*\"全面\" + 0.031*\"新机\" + 0.031*\"屏\" + 0.017*\"推出\" + 0.017*\"首款\" + 0.017*\"款\" + 0.017*\"成为\" + 0.017*\"并非\"\n",
      "2019-09-24 10:39:40,465 - INFO - 1171 -  topic #1 (0.183): 0.030*\"夏普\" + 0.029*\"至今\" + 0.016*\"手机\" + 0.016*\"骁龙\" + 0.016*\"今年\" + 0.016*\"新机\" + 0.016*\"中国\" + 0.016*\"市场\" + 0.016*\"了解\" + 0.016*\"旗舰\"\n",
      "2019-09-24 10:39:40,466 - INFO - 1171 -  topic #2 (0.197): 0.031*\"手机\" + 0.031*\"夏普\" + 0.031*\"中国\" + 0.031*\"已经\" + 0.031*\"一款\" + 0.031*\"骁龙\" + 0.017*\"采用\" + 0.017*\"第一款\" + 0.017*\"当前\" + 0.017*\"市面上\"\n",
      "2019-09-24 10:39:40,466 - INFO - 1171 -  topic #3 (0.196): 0.043*\"骁龙\" + 0.030*\"屏\" + 0.030*\"夏普\" + 0.030*\"高通\" + 0.030*\"核心\" + 0.030*\"全面\" + 0.029*\"OPPO\" + 0.016*\"中国\" + 0.016*\"今年\" + 0.016*\"月份\"\n",
      "2019-09-24 10:39:40,467 - INFO - 1171 -  topic #4 (0.180): 0.123*\"660\" + 0.052*\"处理器\" + 0.029*\"2013\" + 0.029*\"28\" + 0.028*\"GPU\" + 0.028*\"X12\" + 0.028*\"不过\" + 0.028*\"512\" + 0.028*\"八个\" + 0.005*\"OPPO\"\n",
      "2019-09-24 10:39:40,467 - INFO - 1049 -  topic diff=3.194285, rho=1.000000\n"
     ]
    },
    {
     "name": "stdout",
     "output_type": "stream",
     "text": [
      "(0, '0.088*\"手机\" + 0.031*\"夏普\" + 0.031*\"全面\" + 0.031*\"新机\" + 0.031*\"屏\" + 0.017*\"推出\" + 0.017*\"首款\" + 0.017*\"款\" + 0.017*\"成为\" + 0.017*\"并非\"')\n",
      "(1, '0.030*\"夏普\" + 0.029*\"至今\" + 0.016*\"手机\" + 0.016*\"骁龙\" + 0.016*\"今年\" + 0.016*\"新机\" + 0.016*\"中国\" + 0.016*\"市场\" + 0.016*\"了解\" + 0.016*\"旗舰\"')\n",
      "(2, '0.031*\"手机\" + 0.031*\"夏普\" + 0.031*\"中国\" + 0.031*\"已经\" + 0.031*\"一款\" + 0.031*\"骁龙\" + 0.017*\"采用\" + 0.017*\"第一款\" + 0.017*\"当前\" + 0.017*\"市面上\"')\n",
      "(3, '0.043*\"骁龙\" + 0.030*\"屏\" + 0.030*\"夏普\" + 0.030*\"高通\" + 0.030*\"核心\" + 0.030*\"全面\" + 0.029*\"OPPO\" + 0.016*\"中国\" + 0.016*\"今年\" + 0.016*\"月份\"')\n",
      "(4, '0.123*\"660\" + 0.052*\"处理器\" + 0.029*\"2013\" + 0.029*\"28\" + 0.028*\"GPU\" + 0.028*\"X12\" + 0.028*\"不过\" + 0.028*\"512\" + 0.028*\"八个\" + 0.005*\"OPPO\"')\n"
     ]
    }
   ],
   "source": [
    "# LDA\n",
    "word_list = get_words_list(test_news, './chinese_stopwords.txt')\n",
    "word_dict = corpora.Dictionary(word_list) #生成文档的词典，每个词与一个整型索引值对应\n",
    "corpus_list = [word_dict.doc2bow(text) for text in word_list] #词频统计，转化成空间向量格式\n",
    "lda = models.ldamodel.LdaModel(corpus=corpus_list,\n",
    "                               id2word=word_dict,\n",
    "                              num_topics=5,\n",
    "                               passes=20,\n",
    "                              alpha='auto')\n",
    "for pattern in lda.show_topics():\n",
    "    print(pattern)"
   ]
  },
  {
   "cell_type": "code",
   "execution_count": 72,
   "metadata": {},
   "outputs": [
    {
     "data": {
      "text/plain": [
       "[(0, 0.02409437),\n",
       " (1, 0.90347755),\n",
       " (2, 0.024945177),\n",
       " (3, 0.024791788),\n",
       " (4, 0.02269117)]"
      ]
     },
     "execution_count": 72,
     "metadata": {},
     "output_type": "execute_result"
    }
   ],
   "source": [
    "lda.get_document_topics(corpus_list[0])"
   ]
  },
  {
   "cell_type": "code",
   "execution_count": 74,
   "metadata": {},
   "outputs": [
    {
     "data": {
      "text/plain": [
       "[('夏普', 0.029600544),\n",
       " ('至今', 0.029178666),\n",
       " ('手机', 0.016290916),\n",
       " ('骁龙', 0.016225355),\n",
       " ('今年', 0.016172387),\n",
       " ('新机', 0.016150836),\n",
       " ('中国', 0.016150538),\n",
       " ('市场', 0.016135704),\n",
       " ('了解', 0.016129518),\n",
       " ('旗舰', 0.016123239),\n",
       " ('仍', 0.016117992),\n",
       " ('机', 0.016114293),\n",
       " ('款', 0.016112046),\n",
       " ('无法', 0.016111817),\n",
       " ('智能手机', 0.016110644),\n",
       " ('高端', 0.016110055),\n",
       " ('很多', 0.016107025),\n",
       " ('机子', 0.016103888),\n",
       " ('渲染', 0.016103085),\n",
       " ('变成', 0.01610305)]"
      ]
     },
     "execution_count": 74,
     "metadata": {},
     "output_type": "execute_result"
    }
   ],
   "source": [
    "lda.show_topic(1, topn=20)"
   ]
  },
  {
   "cell_type": "markdown",
   "metadata": {},
   "source": [
    "#### Task 合并以上功能，实现一个单独的函数，该函数接受一个长文本和字数限制，输出一个短文中"
   ]
  },
  {
   "cell_type": "markdown",
   "metadata": {},
   "source": [
    "## Questions 思考题："
   ]
  },
  {
   "cell_type": "markdown",
   "metadata": {},
   "source": [
    "1. 除了Sentence Embedding和TextRank, 还有什么方案？"
   ]
  },
  {
   "cell_type": "markdown",
   "metadata": {},
   "source": [
    "2. 为什么这个课题不用Seq2Seq?"
   ]
  },
  {
   "cell_type": "markdown",
   "metadata": {},
   "source": [
    "3. 深度学习、机器学习与NLP之间的关系是什么？ "
   ]
  },
  {
   "cell_type": "markdown",
   "metadata": {},
   "source": [
    "4. 你还有什么其他的思考和心得？ "
   ]
  },
  {
   "cell_type": "markdown",
   "metadata": {},
   "source": [
    "## 最后一步： 使用Flask、Bottle、Bootstrap变成一个网络应用并且部署在服务器上，这样别人就可以直接通过网址访问你的应用啦。"
   ]
  }
 ],
 "metadata": {
  "kernelspec": {
   "display_name": "Python 3",
   "language": "python",
   "name": "python3"
  },
  "language_info": {
   "codemirror_mode": {
    "name": "ipython",
    "version": 3
   },
   "file_extension": ".py",
   "mimetype": "text/x-python",
   "name": "python",
   "nbconvert_exporter": "python",
   "pygments_lexer": "ipython3",
   "version": "3.7.3"
  },
  "toc": {
   "base_numbering": 1,
   "nav_menu": {},
   "number_sections": true,
   "sideBar": true,
   "skip_h1_title": false,
   "title_cell": "Table of Contents",
   "title_sidebar": "Contents",
   "toc_cell": false,
   "toc_position": {},
   "toc_section_display": true,
   "toc_window_display": false
  }
 },
 "nbformat": 4,
 "nbformat_minor": 2
}
